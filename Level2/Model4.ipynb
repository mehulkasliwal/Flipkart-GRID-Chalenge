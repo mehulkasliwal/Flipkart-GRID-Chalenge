{
 "cells": [
  {
   "cell_type": "code",
   "execution_count": 1,
   "metadata": {
    "colab": {
     "base_uri": "https://localhost:8080/",
     "height": 34
    },
    "colab_type": "code",
    "id": "ZFTBUoGY61rM",
    "outputId": "a9e842c9-5012-4104-e694-83908677ca59"
   },
   "outputs": [
    {
     "name": "stdout",
     "output_type": "stream",
     "text": [
      "Drive already mounted at /content/drive; to attempt to forcibly remount, call drive.mount(\"/content/drive\", force_remount=True).\n"
     ]
    }
   ],
   "source": [
    "from google.colab import drive\n",
    "drive.mount('/content/drive')"
   ]
  },
  {
   "cell_type": "code",
   "execution_count": 2,
   "metadata": {
    "colab": {
     "base_uri": "https://localhost:8080/",
     "height": 139
    },
    "colab_type": "code",
    "id": "sZ4jKPP1628n",
    "outputId": "1df9dd62-b1e6-4aed-f4c5-e0e8ea89d196"
   },
   "outputs": [
    {
     "name": "stderr",
     "output_type": "stream",
     "text": [
      "Using TensorFlow backend.\n"
     ]
    },
    {
     "name": "stdout",
     "output_type": "stream",
     "text": [
      "(14000, 64, 64, 1)\n",
      "(14000, 1, 4)\n",
      "(14000, 4)\n",
      "14000\n",
      "Before  0.6504078278186277 0.23190287922054598\n",
      "After  -1.1470189877270188e-15 1.0000000000000018\n"
     ]
    }
   ],
   "source": [
    "from keras.models import Sequential, Model\n",
    "from keras import layers\n",
    "from keras.layers import Reshape, Activation, Conv2D, Input, MaxPooling2D, BatchNormalization, Flatten, Dense, Lambda,GlobalAveragePooling2D,Dropout\n",
    "from keras.layers.advanced_activations import LeakyReLU\n",
    "from keras.callbacks import EarlyStopping, ModelCheckpoint, TensorBoard\n",
    "from keras.optimizers import SGD, Adam, RMSprop\n",
    "from keras.layers.merge import concatenate\n",
    "import matplotlib.pyplot as plt\n",
    "import keras.backend as K\n",
    "import tensorflow as tf\n",
    "import numpy as np\n",
    "from keras import optimizers\n",
    "from keras.applications.vgg16 import VGG16\n",
    "from keras.wrappers.scikit_learn import KerasRegressor\n",
    "from sklearn.model_selection import cross_val_score, KFold\n",
    "from google.colab import drive\n",
    "\n",
    "xscale = 64/640\n",
    "yscale = 64/480\n",
    "X_train = np.load('/content/drive/My Drive/Updated_Data/Train_Processed_64.npy')\n",
    "Y_train = np.load('/content/drive/My Drive/Updated_Data/Y_train.npy')\n",
    "X_train = X_train.reshape(X_train.shape[0],X_train.shape[1],X_train.shape[2],1)\n",
    "print(X_train.shape)\n",
    "print(Y_train.shape)\n",
    "Y_train_new = []\n",
    "for i in range(0,Y_train.shape[0]):\n",
    "    Y_train_new.append(Y_train[i][0])\n",
    "Y_train_new = np.asarray(Y_train_new)\n",
    "print(Y_train_new.shape)\n",
    "print(Y_train_new.shape[0])\n",
    "for i in range(0,Y_train_new.shape[0]):\n",
    "    Y_train_new[i][0] = Y_train_new[i][0] * xscale\n",
    "    Y_train_new[i][1] = Y_train_new[i][1] * xscale\n",
    "    Y_train_new[i][2] = Y_train_new[i][2] * yscale\n",
    "    Y_train_new[i][3] = Y_train_new[i][3] * yscale\n",
    "X_train = X_train/255\n",
    "mean = X_train.mean()\n",
    "std = X_train.std()\n",
    "print(\"Before \",mean,std)\n",
    "X_train -= mean\n",
    "X_train /= std\n",
    "print(\"After \",X_train.mean(),X_train.std())\n"
   ]
  },
  {
   "cell_type": "code",
   "execution_count": 3,
   "metadata": {
    "colab": {
     "base_uri": "https://localhost:8080/",
     "height": 141
    },
    "colab_type": "code",
    "id": "57AD_b59543J",
    "outputId": "8d6f6296-e2e4-497e-abf2-d563e5a3b38a"
   },
   "outputs": [
    {
     "name": "stdout",
     "output_type": "stream",
     "text": [
      "WARNING:tensorflow:From /usr/local/lib/python3.6/dist-packages/tensorflow/python/framework/op_def_library.py:263: colocate_with (from tensorflow.python.framework.ops) is deprecated and will be removed in a future version.\n",
      "Instructions for updating:\n",
      "Colocations handled automatically by placer.\n",
      "WARNING:tensorflow:From /usr/local/lib/python3.6/dist-packages/keras/backend/tensorflow_backend.py:3445: calling dropout (from tensorflow.python.ops.nn_ops) with keep_prob is deprecated and will be removed in a future version.\n",
      "Instructions for updating:\n",
      "Please use `rate` instead of `keep_prob`. Rate should be set to `rate = 1 - keep_prob`.\n"
     ]
    }
   ],
   "source": [
    "input_1 = Input(shape = (64,64,1))\n",
    "# Block 1\n",
    "x = layers.Conv2D(64, (3, 3),\n",
    "                  activation='relu',\n",
    "                  padding='same',\n",
    "                  name='block1_conv1')(input_1)\n",
    "#x = Dropout(0.2)(x)\n",
    "x = layers.Conv2D(64, (3, 3),\n",
    "                  activation='relu',\n",
    "                  padding='same',\n",
    "                  name='block1_conv2')(x)\n",
    "x = Dropout(0.2)(x)\n",
    "x = layers.MaxPooling2D((2, 2), strides=(2, 2), name='block1_pool')(x)\n",
    "\n",
    "# Block 2\n",
    "x = layers.Conv2D(128, (3, 3),\n",
    "                  activation='relu',\n",
    "                  padding='same',\n",
    "                  name='block2_conv1')(x)\n",
    "#x = Dropout(0.2)(x)\n",
    "\n",
    "\n",
    "x = layers.Conv2D(128, (3, 3),\n",
    "                  activation='relu',\n",
    "                  padding='same',\n",
    "                  name='block2_conv2')(x)\n",
    "#x = Dropout(0.2)(x)\n",
    "\n",
    "x = layers.MaxPooling2D((2, 2), strides=(2, 2), name='block2_pool')(x)\n",
    "\n",
    "# Block 3\n",
    "x = layers.Conv2D(256, (3, 3),\n",
    "                  activation='relu',\n",
    "                  padding='same',\n",
    "                  name='block3_conv1')(x)\n",
    "#x = Dropout(0.2)(x)\n",
    "\n",
    "x = layers.Conv2D(256, (3, 3),\n",
    "                  activation='relu',\n",
    "                  padding='same',\n",
    "                  name='block3_conv2')(x)\n",
    "#x = Dropout(0.2)(x)\n",
    "\n",
    "x = layers.Conv2D(256, (3, 3),\n",
    "                  activation='relu',\n",
    "                  padding='same',\n",
    "                  name='block3_conv3')(x)\n",
    "#x = Dropout(0.2)(x)\n",
    "\n",
    "x = layers.MaxPooling2D((2, 2), strides=(2, 2), name='block3_pool')(x)\n",
    "\n",
    "# Block 4\n",
    "x = layers.Conv2D(512, (3, 3),\n",
    "                  activation='relu',\n",
    "                  padding='same',\n",
    "                  name='block4_conv1')(x)\n",
    "#x = Dropout(0.2)(x)\n",
    "\n",
    "x = layers.Conv2D(512, (3, 3),\n",
    "                  activation='relu',\n",
    "                  padding='same',\n",
    "                  name='block4_conv2')(x)\n",
    "#x = Dropout(0.2)(x)\n",
    "\n",
    "x = layers.Conv2D(512, (3, 3),\n",
    "                  activation='relu',\n",
    "                  padding='same',\n",
    "                  name='block4_conv3')(x)\n",
    "#x = Dropout(0.2)(x)\n",
    "\n",
    "x = layers.MaxPooling2D((2, 2), strides=(2, 2), name='block4_pool')(x)\n",
    "\n",
    "# Block 5\n",
    "x = layers.Conv2D(512, (3, 3),\n",
    "                  activation='relu',\n",
    "                  padding='same',\n",
    "                  name='block5_conv1')(x)\n",
    "#x = Dropout(0.2)(x)\n",
    "\n",
    "x = layers.Conv2D(512, (3, 3),\n",
    "                  activation='relu',\n",
    "                  padding='same',\n",
    "                  name='block5_conv2')(x)\n",
    "#x = Dropout(0.2)(x)\n",
    "\n",
    "x = layers.Conv2D(512, (3, 3),\n",
    "                  activation='relu',\n",
    "                  padding='same',\n",
    "                  name='block5_conv3')(x)\n",
    "\n",
    "x = layers.MaxPooling2D((2, 2), strides=(2, 2), name='block5_pool')(x)\n",
    "x = GlobalAveragePooling2D()(x)\n",
    "x = Dense(1024, activation='relu')(x)\n",
    "predictions = Dense(4,kernel_initializer='normal')(x)\n",
    "model = Model(inputs=input_1, outputs=predictions)\n"
   ]
  },
  {
   "cell_type": "code",
   "execution_count": 4,
   "metadata": {
    "colab": {
     "base_uri": "https://localhost:8080/",
     "height": 937
    },
    "colab_type": "code",
    "id": "DbV6O0Tq543c",
    "outputId": "801f12ca-c8e6-40df-bce2-4d94473437bc"
   },
   "outputs": [
    {
     "name": "stdout",
     "output_type": "stream",
     "text": [
      "_________________________________________________________________\n",
      "Layer (type)                 Output Shape              Param #   \n",
      "=================================================================\n",
      "input_1 (InputLayer)         (None, 64, 64, 1)         0         \n",
      "_________________________________________________________________\n",
      "block1_conv1 (Conv2D)        (None, 64, 64, 64)        640       \n",
      "_________________________________________________________________\n",
      "block1_conv2 (Conv2D)        (None, 64, 64, 64)        36928     \n",
      "_________________________________________________________________\n",
      "dropout_1 (Dropout)          (None, 64, 64, 64)        0         \n",
      "_________________________________________________________________\n",
      "block1_pool (MaxPooling2D)   (None, 32, 32, 64)        0         \n",
      "_________________________________________________________________\n",
      "block2_conv1 (Conv2D)        (None, 32, 32, 128)       73856     \n",
      "_________________________________________________________________\n",
      "block2_conv2 (Conv2D)        (None, 32, 32, 128)       147584    \n",
      "_________________________________________________________________\n",
      "block2_pool (MaxPooling2D)   (None, 16, 16, 128)       0         \n",
      "_________________________________________________________________\n",
      "block3_conv1 (Conv2D)        (None, 16, 16, 256)       295168    \n",
      "_________________________________________________________________\n",
      "block3_conv2 (Conv2D)        (None, 16, 16, 256)       590080    \n",
      "_________________________________________________________________\n",
      "block3_conv3 (Conv2D)        (None, 16, 16, 256)       590080    \n",
      "_________________________________________________________________\n",
      "block3_pool (MaxPooling2D)   (None, 8, 8, 256)         0         \n",
      "_________________________________________________________________\n",
      "block4_conv1 (Conv2D)        (None, 8, 8, 512)         1180160   \n",
      "_________________________________________________________________\n",
      "block4_conv2 (Conv2D)        (None, 8, 8, 512)         2359808   \n",
      "_________________________________________________________________\n",
      "block4_conv3 (Conv2D)        (None, 8, 8, 512)         2359808   \n",
      "_________________________________________________________________\n",
      "block4_pool (MaxPooling2D)   (None, 4, 4, 512)         0         \n",
      "_________________________________________________________________\n",
      "block5_conv1 (Conv2D)        (None, 4, 4, 512)         2359808   \n",
      "_________________________________________________________________\n",
      "block5_conv2 (Conv2D)        (None, 4, 4, 512)         2359808   \n",
      "_________________________________________________________________\n",
      "block5_conv3 (Conv2D)        (None, 4, 4, 512)         2359808   \n",
      "_________________________________________________________________\n",
      "block5_pool (MaxPooling2D)   (None, 2, 2, 512)         0         \n",
      "_________________________________________________________________\n",
      "global_average_pooling2d_1 ( (None, 512)               0         \n",
      "_________________________________________________________________\n",
      "dense_1 (Dense)              (None, 1024)              525312    \n",
      "_________________________________________________________________\n",
      "dense_2 (Dense)              (None, 4)                 4100      \n",
      "=================================================================\n",
      "Total params: 15,242,948\n",
      "Trainable params: 15,242,948\n",
      "Non-trainable params: 0\n",
      "_________________________________________________________________\n"
     ]
    }
   ],
   "source": [
    "model.summary()\n",
    "rms = optimizers.RMSprop(lr=0.0001, rho=0.9)\n",
    "model.compile(loss='mean_squared_error', optimizer='adam',metrics=['accuracy'])"
   ]
  },
  {
   "cell_type": "code",
   "execution_count": 5,
   "metadata": {
    "colab": {
     "base_uri": "https://localhost:8080/",
     "height": 523
    },
    "colab_type": "code",
    "id": "Woeu6iEP5433",
    "outputId": "24adb11c-0806-4a76-c0d8-9dcc80e9aeb9"
   },
   "outputs": [
    {
     "name": "stdout",
     "output_type": "stream",
     "text": [
      "WARNING:tensorflow:From /usr/local/lib/python3.6/dist-packages/tensorflow/python/ops/math_ops.py:3066: to_int32 (from tensorflow.python.ops.math_ops) is deprecated and will be removed in a future version.\n",
      "Instructions for updating:\n",
      "Use tf.cast instead.\n",
      "Train on 11200 samples, validate on 2800 samples\n",
      "Epoch 1/12\n",
      "11200/11200 [==============================] - 126s 11ms/step - loss: 11562.4614 - acc: 0.5080 - val_loss: 53.6054 - val_acc: 0.5496\n",
      "Epoch 2/12\n",
      "11200/11200 [==============================] - 122s 11ms/step - loss: 53.9721 - acc: 0.5097 - val_loss: 57.8414 - val_acc: 0.5496\n",
      "Epoch 3/12\n",
      "11200/11200 [==============================] - 122s 11ms/step - loss: 52.5620 - acc: 0.5125 - val_loss: 50.3455 - val_acc: 0.5496\n",
      "Epoch 4/12\n",
      "11200/11200 [==============================] - 122s 11ms/step - loss: 37.5164 - acc: 0.7126 - val_loss: 20.2612 - val_acc: 0.8514\n",
      "Epoch 5/12\n",
      "11200/11200 [==============================] - 122s 11ms/step - loss: 16.8420 - acc: 0.8739 - val_loss: 13.8559 - val_acc: 0.8646\n",
      "Epoch 6/12\n",
      "11200/11200 [==============================] - 122s 11ms/step - loss: 13.5488 - acc: 0.8903 - val_loss: 11.4818 - val_acc: 0.9061\n",
      "Epoch 7/12\n",
      "11200/11200 [==============================] - 122s 11ms/step - loss: 12.3331 - acc: 0.8996 - val_loss: 10.6209 - val_acc: 0.9118\n",
      "Epoch 8/12\n",
      "11200/11200 [==============================] - 123s 11ms/step - loss: 11.9670 - acc: 0.8972 - val_loss: 11.0668 - val_acc: 0.9064\n",
      "Epoch 9/12\n",
      "11200/11200 [==============================] - 122s 11ms/step - loss: 11.5209 - acc: 0.9021 - val_loss: 11.8553 - val_acc: 0.9086\n",
      "Epoch 10/12\n",
      "11200/11200 [==============================] - 122s 11ms/step - loss: 10.9122 - acc: 0.9029 - val_loss: 10.9704 - val_acc: 0.8936\n",
      "Epoch 11/12\n",
      "11200/11200 [==============================] - 123s 11ms/step - loss: 10.6401 - acc: 0.9027 - val_loss: 10.8205 - val_acc: 0.8975\n",
      "Epoch 12/12\n",
      "11200/11200 [==============================] - 122s 11ms/step - loss: 10.5657 - acc: 0.9038 - val_loss: 11.7421 - val_acc: 0.8607\n"
     ]
    }
   ],
   "source": [
    "#estimator = KerasRegressor(build_fn=model, epochs=10, batch_size=5, verbose=0)\n",
    "#estimator.fit(X_train,Y_train_new)\n",
    "history=model.fit(X_train,Y_train_new, validation_split = 0.2 , batch_size = 8, epochs =12,verbose = 1)"
   ]
  },
  {
   "cell_type": "code",
   "execution_count": 6,
   "metadata": {
    "colab": {
     "base_uri": "https://localhost:8080/",
     "height": 752
    },
    "colab_type": "code",
    "id": "AYb6NT49544J",
    "outputId": "7eb39d37-b872-40c5-e687-8d4bac0338e3"
   },
   "outputs": [
    {
     "name": "stdout",
     "output_type": "stream",
     "text": [
      "dict_keys(['val_loss', 'val_acc', 'loss', 'acc'])\n"
     ]
    },
    {
     "data": {
      "image/png": "[encoded data removed]",
      "text/plain": [
       "<Figure size 576x396 with 1 Axes>"
      ]
     },
     "metadata": {
      "tags": []
     },
     "output_type": "display_data"
    },
    {
     "data": {
      "image/png": "[encoded data removed]",
      "text/plain": [
       "<Figure size 576x396 with 1 Axes>"
      ]
     },
     "metadata": {
      "tags": []
     },
     "output_type": "display_data"
    }
   ],
   "source": [
    "# list all data in history\n",
    "print(history.history.keys())\n",
    "# summarize history for accuracy\n",
    "plt.plot(history.history['acc'])\n",
    "plt.plot(history.history['val_acc'])\n",
    "plt.title('model accuracy')\n",
    "plt.ylabel('accuracy')\n",
    "plt.xlabel('epoch')\n",
    "plt.legend(['train', 'test'], loc='upper left')\n",
    "plt.show()\n",
    "# summarize history for loss\n",
    "plt.plot(history.history['loss'])\n",
    "plt.plot(history.history['val_loss'])\n",
    "plt.title('model loss')\n",
    "plt.ylabel('loss')\n",
    "plt.xlabel('epoch')\n",
    "plt.legend(['train', 'test'], loc='upper left')\n",
    "plt.show()"
   ]
  },
  {
   "cell_type": "code",
   "execution_count": 7,
   "metadata": {
    "colab": {
     "base_uri": "https://localhost:8080/",
     "height": 34
    },
    "colab_type": "code",
    "id": "1qNDMFJw544c",
    "outputId": "b672d103-d4f7-4158-b82b-efee1e308c22"
   },
   "outputs": [
    {
     "name": "stdout",
     "output_type": "stream",
     "text": [
      "(12815, 64, 64)\n"
     ]
    }
   ],
   "source": [
    "X_test = np.load('/content/drive/My Drive/Updated_Data/Test_Processed_64.npy')\n",
    "X_test = X_test/255\n",
    "X_test -= mean\n",
    "X_test /= std\n",
    "print(X_test.shape)\n",
    "X_test = X_test.reshape(X_test.shape[0],X_test.shape[1],X_test.shape[2],1)\n",
    "model.save_weights('new1_weights.h5')"
   ]
  },
  {
   "cell_type": "code",
   "execution_count": 0,
   "metadata": {
    "colab": {},
    "colab_type": "code",
    "id": "tD38Gt1f544-"
   },
   "outputs": [],
   "source": [
    "Y_predicted = model.predict(X_test)"
   ]
  },
  {
   "cell_type": "code",
   "execution_count": 9,
   "metadata": {
    "colab": {
     "base_uri": "https://localhost:8080/",
     "height": 34
    },
    "colab_type": "code",
    "id": "pgmDG6iV545k",
    "outputId": "7666e34d-15a9-4e07-bd2f-47daf1557e73"
   },
   "outputs": [
    {
     "name": "stdout",
     "output_type": "stream",
     "text": [
      "(12815, 4)\n"
     ]
    }
   ],
   "source": [
    "print(Y_predicted.shape)\n",
    "for i in range(0,Y_predicted.shape[0]):\n",
    "    Y_predicted[i][0] = Y_predicted[i][0] / xscale\n",
    "    Y_predicted[i][1] = Y_predicted[i][1] / xscale\n",
    "    Y_predicted[i][2] = Y_predicted[i][2] / yscale\n",
    "    Y_predicted[i][3] = Y_predicted[i][3] / yscale"
   ]
  },
  {
   "cell_type": "code",
   "execution_count": 10,
   "metadata": {
    "colab": {
     "base_uri": "https://localhost:8080/",
     "height": 416
    },
    "colab_type": "code",
    "id": "KbuQI1So5455",
    "outputId": "a31c8a66-1fbc-4899-d9f1-0e609ab0b527"
   },
   "outputs": [
    {
     "name": "stdout",
     "output_type": "stream",
     "text": [
      "(12815, 1)\n",
      "(12815, 1)\n",
      "[['JPEG_20161129_130901_1000335000914.png']\n",
      " ['JPEG_20161209_201456_100034997460.png']\n",
      " ['14751585951781.png']\n",
      " ...\n",
      " ['JPEG_20160630_165248_1000513257867.png']\n",
      " ['1467548589518Odomos-Oil-Pack.png']\n",
      " ['1480334022239_R2A3610.png']]\n",
      "(12815, 5)\n",
      "[['JPEG_20161129_130901_1000335000914.png' '101.52307' '608.9203'\n",
      "  '93.08687' '407.03653']\n",
      " ['JPEG_20161209_201456_100034997460.png' '102.3922' '494.42258'\n",
      "  '32.409103' '458.18365']\n",
      " ['14751585951781.png' '189.19879' '546.5754' '76.86395' '403.6875']\n",
      " ...\n",
      " ['JPEG_20160630_165248_1000513257867.png' '242.87576' '430.95462'\n",
      "  '103.34631' '355.85803']\n",
      " ['1467548589518Odomos-Oil-Pack.png' '32.5069' '622.90424' '13.191724'\n",
      "  '449.38223']\n",
      " ['1480334022239_R2A3610.png' '189.15796' '437.57108' '60.084393'\n",
      "  '322.23166']]\n"
     ]
    },
    {
     "data": {
      "text/plain": [
       "numpy.str_"
      ]
     },
     "execution_count": 10,
     "metadata": {
      "tags": []
     },
     "output_type": "execute_result"
    }
   ],
   "source": [
    "X_label = np.load('/content/drive/My Drive/Updated_Data/X_test.npy')\n",
    "X_label = X_label.reshape(X_label.shape[0],1)\n",
    "print(X_label.shape)\n",
    "for i in range(0,X_label.shape[0]):\n",
    "  X_label[i] = X_label[i][0].split('/')[2]\n",
    "\n",
    "print(X_label.shape)\n",
    "print(X_label)\n",
    "DF = np.concatenate((X_label, Y_predicted), axis=1)\n",
    "print(DF.shape)\n",
    "print(DF)\n",
    "type(DF[0][2])"
   ]
  },
  {
   "cell_type": "code",
   "execution_count": 0,
   "metadata": {
    "colab": {},
    "colab_type": "code",
    "id": "wVM99ip_5462"
   },
   "outputs": [],
   "source": [
    "import pandas as pd\n",
    "out = pd.DataFrame({'image_name':DF[:,0],'x1':DF[:,1],'x2':DF[:,2],'y1':DF[:,3],'y2':DF[:,4]})"
   ]
  },
  {
   "cell_type": "code",
   "execution_count": 12,
   "metadata": {
    "colab": {
     "base_uri": "https://localhost:8080/",
     "height": 34
    },
    "colab_type": "code",
    "id": "s6L18Jo1547F",
    "outputId": "8f124294-da7d-4bf7-bb6c-25ec6a94fa3d"
   },
   "outputs": [
    {
     "name": "stdout",
     "output_type": "stream",
     "text": [
      "(12815, 5)\n"
     ]
    }
   ],
   "source": [
    "print(out.shape)\n",
    "out.to_csv('predictions_new_1.csv')"
   ]
  },
  {
   "cell_type": "code",
   "execution_count": 14,
   "metadata": {
    "colab": {
     "base_uri": "https://localhost:8080/",
     "height": 384
    },
    "colab_type": "code",
    "id": "Nd2W0HXSF2TW",
    "outputId": "c0c62964-78e8-4d58-81a2-965991b6bd95"
   },
   "outputs": [
    {
     "name": "stdout",
     "output_type": "stream",
     "text": [
      "Collecting pydrive\n",
      "\u001b[?25l  Downloading https://files.pythonhosted.org/packages/52/e0/0e64788e5dd58ce2d6934549676243dc69d982f198524be9b99e9c2a4fd5/PyDrive-1.3.1.tar.gz (987kB)\n",
      "\r",
      "\u001b[K    1% |▎                               | 10kB 19.9MB/s eta 0:00:01\r",
      "\u001b[K    2% |▋                               | 20kB 4.4MB/s eta 0:00:01\r",
      "\u001b[K    3% |█                               | 30kB 6.3MB/s eta 0:00:01\r",
      "\u001b[K    4% |█▎                              | 40kB 4.2MB/s eta 0:00:01\r",
      "\u001b[K    5% |█▋                              | 51kB 5.1MB/s eta 0:00:01\r",
      "\u001b[K    6% |██                              | 61kB 6.0MB/s eta 0:00:01\r",
      "\u001b[K    7% |██▎                             | 71kB 6.8MB/s eta 0:00:01\r",
      "\u001b[K    8% |██▋                             | 81kB 7.6MB/s eta 0:00:01\r",
      "\u001b[K    9% |███                             | 92kB 8.4MB/s eta 0:00:01\r",
      "\u001b[K    10% |███▎                            | 102kB 6.7MB/s eta 0:00:01\r",
      "\u001b[K    11% |███▋                            | 112kB 6.8MB/s eta 0:00:01\r",
      "\u001b[K    12% |████                            | 122kB 9.2MB/s eta 0:00:01\r",
      "\u001b[K    13% |████▎                           | 133kB 9.2MB/s eta 0:00:01\r",
      "\u001b[K    14% |████▋                           | 143kB 16.1MB/s eta 0:00:01\r",
      "\u001b[K    15% |█████                           | 153kB 16.2MB/s eta 0:00:01\r",
      "\u001b[K    16% |█████▎                          | 163kB 16.1MB/s eta 0:00:01\r",
      "\u001b[K    17% |█████▋                          | 174kB 15.8MB/s eta 0:00:01\r",
      "\u001b[K    18% |██████                          | 184kB 16.0MB/s eta 0:00:01\r",
      "\u001b[K    19% |██████▎                         | 194kB 16.0MB/s eta 0:00:01\r",
      "\u001b[K    20% |██████▋                         | 204kB 42.8MB/s eta 0:00:01\r",
      "\u001b[K    21% |███████                         | 215kB 17.9MB/s eta 0:00:01\r",
      "\u001b[K    22% |███████▎                        | 225kB 17.9MB/s eta 0:00:01\r",
      "\u001b[K    23% |███████▋                        | 235kB 18.2MB/s eta 0:00:01\r",
      "\u001b[K    24% |████████                        | 245kB 18.1MB/s eta 0:00:01\r",
      "\u001b[K    25% |████████▎                       | 256kB 18.0MB/s eta 0:00:01\r",
      "\u001b[K    26% |████████▋                       | 266kB 17.2MB/s eta 0:00:01\r",
      "\u001b[K    27% |█████████                       | 276kB 17.5MB/s eta 0:00:01\r",
      "\u001b[K    29% |█████████▎                      | 286kB 17.3MB/s eta 0:00:01\r",
      "\u001b[K    30% |█████████▋                      | 296kB 17.2MB/s eta 0:00:01\r",
      "\u001b[K    31% |██████████                      | 307kB 17.7MB/s eta 0:00:01\r",
      "\u001b[K    32% |██████████▎                     | 317kB 44.1MB/s eta 0:00:01\r",
      "\u001b[K    33% |██████████▋                     | 327kB 44.1MB/s eta 0:00:01\r",
      "\u001b[K    34% |███████████                     | 337kB 44.9MB/s eta 0:00:01\r",
      "\u001b[K    35% |███████████▎                    | 348kB 39.2MB/s eta 0:00:01\r",
      "\u001b[K    36% |███████████▋                    | 358kB 39.5MB/s eta 0:00:01\r",
      "\u001b[K    37% |████████████                    | 368kB 44.7MB/s eta 0:00:01\r",
      "\u001b[K    38% |████████████▎                   | 378kB 46.7MB/s eta 0:00:01\r",
      "\u001b[K    39% |████████████▋                   | 389kB 47.5MB/s eta 0:00:01\r",
      "\u001b[K    40% |█████████████                   | 399kB 30.0MB/s eta 0:00:01\r",
      "\u001b[K    41% |█████████████▎                  | 409kB 28.3MB/s eta 0:00:01\r",
      "\u001b[K    42% |█████████████▋                  | 419kB 28.1MB/s eta 0:00:01\r",
      "\u001b[K    43% |██████████████                  | 430kB 28.0MB/s eta 0:00:01\r",
      "\u001b[K    44% |██████████████▎                 | 440kB 27.8MB/s eta 0:00:01\r",
      "\u001b[K    45% |██████████████▋                 | 450kB 27.9MB/s eta 0:00:01\r",
      "\u001b[K    46% |███████████████                 | 460kB 26.2MB/s eta 0:00:01\r",
      "\u001b[K    47% |███████████████▎                | 471kB 25.9MB/s eta 0:00:01\r",
      "\u001b[K    48% |███████████████▋                | 481kB 26.0MB/s eta 0:00:01\r",
      "\u001b[K    49% |████████████████                | 491kB 26.0MB/s eta 0:00:01\r",
      "\u001b[K    50% |████████████████▎               | 501kB 38.0MB/s eta 0:00:01\r",
      "\u001b[K    51% |████████████████▋               | 512kB 37.8MB/s eta 0:00:01\r",
      "\u001b[K    52% |█████████████████               | 522kB 38.6MB/s eta 0:00:01\r",
      "\u001b[K    53% |█████████████████▎              | 532kB 39.6MB/s eta 0:00:01\r",
      "\u001b[K    54% |█████████████████▋              | 542kB 40.0MB/s eta 0:00:01\r",
      "\u001b[K    55% |██████████████████              | 552kB 46.5MB/s eta 0:00:01\r",
      "\u001b[K    57% |██████████████████▎             | 563kB 51.4MB/s eta 0:00:01\r",
      "\u001b[K    58% |██████████████████▋             | 573kB 51.2MB/s eta 0:00:01\r",
      "\u001b[K    59% |███████████████████             | 583kB 52.0MB/s eta 0:00:01\r",
      "\u001b[K    60% |███████████████████▎            | 593kB 51.4MB/s eta 0:00:01\r",
      "\u001b[K    61% |███████████████████▋            | 604kB 52.0MB/s eta 0:00:01\r",
      "\u001b[K    62% |████████████████████            | 614kB 58.3MB/s eta 0:00:01\r",
      "\u001b[K    63% |████████████████████▎           | 624kB 55.8MB/s eta 0:00:01\r",
      "\u001b[K    64% |████████████████████▋           | 634kB 53.5MB/s eta 0:00:01\r",
      "\u001b[K    65% |█████████████████████           | 645kB 52.8MB/s eta 0:00:01\r",
      "\u001b[K    66% |█████████████████████▎          | 655kB 51.3MB/s eta 0:00:01\r",
      "\u001b[K    67% |█████████████████████▋          | 665kB 37.8MB/s eta 0:00:01\r",
      "\u001b[K    68% |██████████████████████          | 675kB 37.7MB/s eta 0:00:01\r",
      "\u001b[K    69% |██████████████████████▎         | 686kB 37.7MB/s eta 0:00:01\r",
      "\u001b[K    70% |██████████████████████▋         | 696kB 37.6MB/s eta 0:00:01\r",
      "\u001b[K    71% |███████████████████████         | 706kB 36.2MB/s eta 0:00:01\r",
      "\u001b[K    72% |███████████████████████▎        | 716kB 36.5MB/s eta 0:00:01\r",
      "\u001b[K    73% |███████████████████████▋        | 727kB 37.2MB/s eta 0:00:01\r",
      "\u001b[K    74% |████████████████████████        | 737kB 37.4MB/s eta 0:00:01\r",
      "\u001b[K    75% |████████████████████████▎       | 747kB 36.7MB/s eta 0:00:01\r",
      "\u001b[K    76% |████████████████████████▋       | 757kB 36.2MB/s eta 0:00:01\r",
      "\u001b[K    77% |████████████████████████▉       | 768kB 48.7MB/s eta 0:00:01\r",
      "\u001b[K    78% |█████████████████████████▏      | 778kB 50.4MB/s eta 0:00:01\r",
      "\u001b[K    79% |█████████████████████████▌      | 788kB 49.8MB/s eta 0:00:01\r",
      "\u001b[K    80% |█████████████████████████▉      | 798kB 50.9MB/s eta 0:00:01\r",
      "\u001b[K    81% |██████████████████████████▏     | 808kB 53.0MB/s eta 0:00:01\r",
      "\u001b[K    82% |██████████████████████████▌     | 819kB 51.6MB/s eta 0:00:01\r",
      "\u001b[K    83% |██████████████████████████▉     | 829kB 50.8MB/s eta 0:00:01\r",
      "\u001b[K    85% |███████████████████████████▏    | 839kB 50.8MB/s eta 0:00:01\r",
      "\u001b[K    86% |███████████████████████████▌    | 849kB 52.9MB/s eta 0:00:01\r",
      "\u001b[K    87% |███████████████████████████▉    | 860kB 50.2MB/s eta 0:00:01\r",
      "\u001b[K    88% |████████████████████████████▏   | 870kB 49.9MB/s eta 0:00:01\r",
      "\u001b[K    89% |████████████████████████████▌   | 880kB 50.6MB/s eta 0:00:01\r",
      "\u001b[K    90% |████████████████████████████▉   | 890kB 46.8MB/s eta 0:00:01\r",
      "\u001b[K    91% |█████████████████████████████▏  | 901kB 46.3MB/s eta 0:00:01\r",
      "\u001b[K    92% |█████████████████████████████▌  | 911kB 47.3MB/s eta 0:00:01\r",
      "\u001b[K    93% |█████████████████████████████▉  | 921kB 48.3MB/s eta 0:00:01\r",
      "\u001b[K    94% |██████████████████████████████▏ | 931kB 49.6MB/s eta 0:00:01\r",
      "\u001b[K    95% |██████████████████████████████▌ | 942kB 50.6MB/s eta 0:00:01\r",
      "\u001b[K    96% |██████████████████████████████▉ | 952kB 48.6MB/s eta 0:00:01\r",
      "\u001b[K    97% |███████████████████████████████▏| 962kB 53.9MB/s eta 0:00:01\r",
      "\u001b[K    98% |███████████████████████████████▌| 972kB 54.8MB/s eta 0:00:01\r",
      "\u001b[K    99% |███████████████████████████████▉| 983kB 54.2MB/s eta 0:00:01\r",
      "\u001b[K    100% |████████████████████████████████| 993kB 23.4MB/s \n",
      "\u001b[?25hRequirement already satisfied: google-api-python-client>=1.2 in /usr/local/lib/python3.6/dist-packages (from pydrive) (1.6.7)\n",
      "Requirement already satisfied: oauth2client>=4.0.0 in /usr/local/lib/python3.6/dist-packages (from pydrive) (4.1.3)\n",
      "Requirement already satisfied: PyYAML>=3.0 in /usr/local/lib/python3.6/dist-packages (from pydrive) (3.13)\n",
      "Requirement already satisfied: httplib2<1dev,>=0.9.2 in /usr/local/lib/python3.6/dist-packages (from google-api-python-client>=1.2->pydrive) (0.11.3)\n",
      "Requirement already satisfied: uritemplate<4dev,>=3.0.0 in /usr/local/lib/python3.6/dist-packages (from google-api-python-client>=1.2->pydrive) (3.0.0)\n",
      "Requirement already satisfied: six<2dev,>=1.6.1 in /usr/local/lib/python3.6/dist-packages (from google-api-python-client>=1.2->pydrive) (1.11.0)\n",
      "Requirement already satisfied: rsa>=3.1.4 in /usr/local/lib/python3.6/dist-packages (from oauth2client>=4.0.0->pydrive) (4.0)\n",
      "Requirement already satisfied: pyasn1>=0.1.7 in /usr/local/lib/python3.6/dist-packages (from oauth2client>=4.0.0->pydrive) (0.4.5)\n",
      "Requirement already satisfied: pyasn1-modules>=0.0.5 in /usr/local/lib/python3.6/dist-packages (from oauth2client>=4.0.0->pydrive) (0.2.4)\n",
      "Building wheels for collected packages: pydrive\n",
      "  Building wheel for pydrive (setup.py) ... \u001b[?25ldone\n",
      "\u001b[?25h  Stored in directory: /root/.cache/pip/wheels/fa/d2/9a/d3b6b506c2da98289e5d417215ce34b696db856643bad779f4\n",
      "Successfully built pydrive\n",
      "Installing collected packages: pydrive\n",
      "Successfully installed pydrive-1.3.1\n",
      "Uploaded file with ID 1eiyR6lBGIImFkt3YhuuLPrT1AwfxiCOe\n",
      "Uploaded file with ID 1hz2820w1gQU3N6iRXeyj4WW5ltk7stny\n"
     ]
    }
   ],
   "source": [
    "!pip install pydrive\n",
    "from pydrive.auth import GoogleAuth\n",
    "from pydrive.drive import GoogleDrive\n",
    "from google.colab import auth\n",
    "from oauth2client.client import GoogleCredentials\n",
    "\n",
    "auth.authenticate_user()\n",
    "gauth = GoogleAuth()\n",
    "gauth.credentials = GoogleCredentials.get_application_default()\n",
    "drive = GoogleDrive(gauth)\n",
    "\n",
    "uploaded = drive.CreateFile({'title': 'predictions_6.csv'})\n",
    "uploaded.SetContentFile('predictions_new_1.csv')\n",
    "uploaded.Upload()\n",
    "print('Uploaded file with ID {}'.format(uploaded.get('id')))\n",
    "\n",
    "uploaded = drive.CreateFile({'title': 'new1_weights.h5'})\n",
    "uploaded.SetContentFile('new1_weights.h5')\n",
    "uploaded.Upload()\n",
    "print('Uploaded file with ID {}'.format(uploaded.get('id')))"
   ]
  },
  {
   "cell_type": "code",
   "execution_count": 0,
   "metadata": {
    "colab": {
     "base_uri": "https://localhost:8080/",
     "height": 34
    },
    "colab_type": "code",
    "id": "E7j7N4FFGGPU",
    "outputId": "7b582ed5-a38e-48e3-db9f-e55ab76608e1"
   },
   "outputs": [
    {
     "name": "stdout",
     "output_type": "stream",
     "text": [
      "adc.json  custom2_2_weights.h5\tdrive  predictions.csv\tsample_data\n"
     ]
    }
   ],
   "source": [
    "!ls\n"
   ]
  },
  {
   "cell_type": "code",
   "execution_count": 0,
   "metadata": {
    "colab": {
     "base_uri": "https://localhost:8080/",
     "height": 34
    },
    "colab_type": "code",
    "id": "gKBwpmMKIQEY",
    "outputId": "effa172a-5869-4712-b494-813a90694754"
   },
   "outputs": [
    {
     "name": "stdout",
     "output_type": "stream",
     "text": [
      "Uploaded file with ID 1WASMezxve0OfczQQ_mu9E64Pa7EdzsBq\n"
     ]
    }
   ],
   "source": []
  },
  {
   "cell_type": "code",
   "execution_count": 0,
   "metadata": {
    "colab": {},
    "colab_type": "code",
    "id": "A_Nr7cRBIawM"
   },
   "outputs": [],
   "source": []
  }
 ],
 "metadata": {
  "accelerator": "GPU",
  "colab": {
   "collapsed_sections": [],
   "name": "Custom2_4.ipynb",
   "provenance": [],
   "version": "0.3.2"
  },
  "kernelspec": {
   "display_name": "Python 3",
   "language": "python",
   "name": "python3"
  },
  "language_info": {
   "codemirror_mode": {
    "name": "ipython",
    "version": 3
   },
   "file_extension": ".py",
   "mimetype": "text/x-python",
   "name": "python",
   "nbconvert_exporter": "python",
   "pygments_lexer": "ipython3",
   "version": "3.6.7"
  }
 },
 "nbformat": 4,
 "nbformat_minor": 1
}
