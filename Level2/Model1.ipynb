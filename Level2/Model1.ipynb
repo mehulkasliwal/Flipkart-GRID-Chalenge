{
 "cells": [
  {
   "cell_type": "code",
   "execution_count": 8,
   "metadata": {
    "colab": {
     "base_uri": "https://localhost:8080/",
     "height": 34
    },
    "colab_type": "code",
    "id": "ZFTBUoGY61rM",
    "outputId": "f6ace22a-8470-4ae2-c6ce-643ef11ffd43"
   },
   "outputs": [
    {
     "name": "stdout",
     "output_type": "stream",
     "text": [
      "Drive already mounted at /content/drive; to attempt to forcibly remount, call drive.mount(\"/content/drive\", force_remount=True).\n"
     ]
    }
   ],
   "source": [
    "from google.colab import drive\n",
    "drive.mount('/content/drive')"
   ]
  },
  {
   "cell_type": "code",
   "execution_count": 20,
   "metadata": {
    "colab": {
     "base_uri": "https://localhost:8080/",
     "height": 86
    },
    "colab_type": "code",
    "id": "sZ4jKPP1628n",
    "outputId": "f2378ea1-bd75-46f4-d8d7-99e72cb86739"
   },
   "outputs": [
    {
     "name": "stdout",
     "output_type": "stream",
     "text": [
      "(14000, 64, 64, 1)\n",
      "(14000, 1, 4)\n",
      "(14000, 4)\n",
      "14000\n"
     ]
    }
   ],
   "source": [
    "from keras.models import Sequential, Model\n",
    "from keras import layers\n",
    "from keras.layers import Reshape, Activation, Conv2D, Input, MaxPooling2D, BatchNormalization, Flatten, Dense, Lambda,GlobalAveragePooling2D\n",
    "from keras.layers.advanced_activations import LeakyReLU\n",
    "from keras.callbacks import EarlyStopping, ModelCheckpoint, TensorBoard\n",
    "from keras.optimizers import SGD, Adam, RMSprop\n",
    "from keras.layers.merge import concatenate\n",
    "import matplotlib.pyplot as plt\n",
    "import keras.backend as K\n",
    "import tensorflow as tf\n",
    "import numpy as np\n",
    "from keras import optimizers\n",
    "from keras.applications.vgg16 import VGG16\n",
    "from keras.wrappers.scikit_learn import KerasRegressor\n",
    "from sklearn.model_selection import cross_val_score, KFold\n",
    "from google.colab import drive\n",
    "\n",
    "xscale = 64/640\n",
    "yscale = 64/480\n",
    "X_train = np.load('/content/drive/My Drive/Updated_Data/Train_Processed_64.npy')\n",
    "Y_train = np.load('/content/drive/My Drive/Updated_Data/Y_train.npy')\n",
    "X_train = X_train.reshape(X_train.shape[0],X_train.shape[1],X_train.shape[2],1)\n",
    "print(X_train.shape)\n",
    "print(Y_train.shape)\n",
    "Y_train_new = []\n",
    "for i in range(0,Y_train.shape[0]):\n",
    "    Y_train_new.append(Y_train[i][0])\n",
    "Y_train_new = np.asarray(Y_train_new)\n",
    "print(Y_train_new.shape)\n",
    "print(Y_train_new.shape[0])\n",
    "for i in range(0,Y_train_new.shape[0]):\n",
    "    Y_train_new[i][0] = Y_train_new[i][0] * xscale\n",
    "    Y_train_new[i][1] = Y_train_new[i][1] * xscale\n",
    "    Y_train_new[i][2] = Y_train_new[i][2] * yscale\n",
    "    Y_train_new[i][3] = Y_train_new[i][3] * yscale\n",
    "X_train = X_train/255"
   ]
  },
  {
   "cell_type": "code",
   "execution_count": 0,
   "metadata": {
    "colab": {},
    "colab_type": "code",
    "id": "57AD_b59543J"
   },
   "outputs": [],
   "source": [
    "input_1 = Input(shape = (64,64,1))\n",
    "# Block 1\n",
    "x = layers.Conv2D(64, (3, 3),\n",
    "                  activation='relu',\n",
    "                  padding='same',\n",
    "                  name='block1_conv1')(input_1)\n",
    "'''x = layers.Conv2D(64, (3, 3),\n",
    "                  activation='relu',\n",
    "                  padding='same',\n",
    "                  name='block1_conv2')(x)'''\n",
    "x = layers.MaxPooling2D((2, 2), strides=(2, 2), name='block1_pool')(x)\n",
    "\n",
    "# Block 2\n",
    "x = layers.Conv2D(128, (3, 3),\n",
    "                  activation='relu',\n",
    "                  padding='same',\n",
    "                  name='block2_conv1')(x)\n",
    "'''\n",
    "x = layers.Conv2D(128, (3, 3),\n",
    "                  activation='relu',\n",
    "                  padding='same',\n",
    "                  name='block2_conv2')(x)'''\n",
    "x = layers.MaxPooling2D((2, 2), strides=(2, 2), name='block2_pool')(x)\n",
    "\n",
    "# Block 3\n",
    "x = layers.Conv2D(256, (3, 3),\n",
    "                  activation='relu',\n",
    "                  padding='same',\n",
    "                  name='block3_conv1')(x)\n",
    "'''\n",
    "x = layers.Conv2D(256, (3, 3),\n",
    "                  activation='relu',\n",
    "                  padding='same',\n",
    "                  name='block3_conv2')(x)\n",
    "x = layers.Conv2D(256, (3, 3),\n",
    "                  activation='relu',\n",
    "                  padding='same',\n",
    "                  name='block3_conv3')(x)'''\n",
    "x = layers.MaxPooling2D((2, 2), strides=(2, 2), name='block3_pool')(x)\n",
    "\n",
    "# Block 4\n",
    "x = layers.Conv2D(512, (3, 3),\n",
    "                  activation='relu',\n",
    "                  padding='same',\n",
    "                  name='block4_conv1')(x)\n",
    "'''\n",
    "x = layers.Conv2D(512, (3, 3),\n",
    "                  activation='relu',\n",
    "                  padding='same',\n",
    "                  name='block4_conv2')(x)\n",
    "x = layers.Conv2D(512, (3, 3),\n",
    "                  activation='relu',\n",
    "                  padding='same',\n",
    "                  name='block4_conv3')(x)'''\n",
    "x = layers.MaxPooling2D((2, 2), strides=(2, 2), name='block4_pool')(x)\n",
    "\n",
    "'''# Block 5\n",
    "x = layers.Conv2D(512, (3, 3),\n",
    "                  activation='relu',\n",
    "                  padding='same',\n",
    "                  name='block5_conv1')(x)\n",
    "\n",
    "x = layers.Conv2D(512, (3, 3),\n",
    "                  activation='relu',\n",
    "                  padding='same',\n",
    "                  name='block5_conv2')(x)\n",
    "x = layers.Conv2D(512, (3, 3),\n",
    "                  activation='relu',\n",
    "                  padding='same',\n",
    "                  name='block5_conv3')(x)\n",
    "x = layers.MaxPooling2D((2, 2), strides=(2, 2), name='block5_pool')(x)'''\n",
    "x = GlobalAveragePooling2D()(x)\n",
    "x = Dense(1024, activation='relu')(x)\n",
    "predictions = Dense(4,kernel_initializer='normal')(x)\n",
    "model = Model(inputs=input_1, outputs=predictions)\n"
   ]
  },
  {
   "cell_type": "code",
   "execution_count": 22,
   "metadata": {
    "colab": {
     "base_uri": "https://localhost:8080/",
     "height": 555
    },
    "colab_type": "code",
    "id": "DbV6O0Tq543c",
    "outputId": "9d484944-e507-4cad-f4ab-68cafdf23ab0"
   },
   "outputs": [
    {
     "name": "stdout",
     "output_type": "stream",
     "text": [
      "_________________________________________________________________\n",
      "Layer (type)                 Output Shape              Param #   \n",
      "=================================================================\n",
      "input_2 (InputLayer)         (None, 64, 64, 1)         0         \n",
      "_________________________________________________________________\n",
      "block1_conv1 (Conv2D)        (None, 64, 64, 64)        640       \n",
      "_________________________________________________________________\n",
      "block1_pool (MaxPooling2D)   (None, 32, 32, 64)        0         \n",
      "_________________________________________________________________\n",
      "block2_conv1 (Conv2D)        (None, 32, 32, 128)       73856     \n",
      "_________________________________________________________________\n",
      "block2_pool (MaxPooling2D)   (None, 16, 16, 128)       0         \n",
      "_________________________________________________________________\n",
      "block3_conv1 (Conv2D)        (None, 16, 16, 256)       295168    \n",
      "_________________________________________________________________\n",
      "block3_pool (MaxPooling2D)   (None, 8, 8, 256)         0         \n",
      "_________________________________________________________________\n",
      "block4_conv1 (Conv2D)        (None, 8, 8, 512)         1180160   \n",
      "_________________________________________________________________\n",
      "block4_pool (MaxPooling2D)   (None, 4, 4, 512)         0         \n",
      "_________________________________________________________________\n",
      "global_average_pooling2d_2 ( (None, 512)               0         \n",
      "_________________________________________________________________\n",
      "dense_3 (Dense)              (None, 1024)              525312    \n",
      "_________________________________________________________________\n",
      "dense_4 (Dense)              (None, 4)                 4100      \n",
      "=================================================================\n",
      "Total params: 2,079,236\n",
      "Trainable params: 2,079,236\n",
      "Non-trainable params: 0\n",
      "_________________________________________________________________\n"
     ]
    }
   ],
   "source": [
    "model.summary()\n",
    "rms = optimizers.RMSprop(lr=0.0001, rho=0.9)\n",
    "model.compile(loss='mean_squared_error', optimizer=rms,metrics=['accuracy'])"
   ]
  },
  {
   "cell_type": "code",
   "execution_count": 23,
   "metadata": {
    "colab": {
     "base_uri": "https://localhost:8080/",
     "height": 729
    },
    "colab_type": "code",
    "id": "Woeu6iEP5433",
    "outputId": "f37b7c8c-58c4-481a-afc2-2a04c6a6b9db"
   },
   "outputs": [
    {
     "name": "stdout",
     "output_type": "stream",
     "text": [
      "Train on 11200 samples, validate on 2800 samples\n",
      "Epoch 1/20\n",
      "11200/11200 [==============================] - 24s 2ms/step - loss: 78.9512 - acc: 0.5109 - val_loss: 59.9161 - val_acc: 0.5504\n",
      "Epoch 2/20\n",
      "11200/11200 [==============================] - 24s 2ms/step - loss: 51.4303 - acc: 0.6275 - val_loss: 54.8895 - val_acc: 0.7957\n",
      "Epoch 3/20\n",
      "11200/11200 [==============================] - 24s 2ms/step - loss: 31.8540 - acc: 0.8204 - val_loss: 24.7065 - val_acc: 0.8486\n",
      "Epoch 4/20\n",
      "11200/11200 [==============================] - 24s 2ms/step - loss: 25.4316 - acc: 0.8496 - val_loss: 22.1041 - val_acc: 0.8629\n",
      "Epoch 5/20\n",
      "11200/11200 [==============================] - 24s 2ms/step - loss: 23.4791 - acc: 0.8607 - val_loss: 20.4637 - val_acc: 0.8425\n",
      "Epoch 6/20\n",
      "11200/11200 [==============================] - 24s 2ms/step - loss: 21.9794 - acc: 0.8636 - val_loss: 24.9060 - val_acc: 0.8782\n",
      "Epoch 7/20\n",
      "11200/11200 [==============================] - 24s 2ms/step - loss: 20.6937 - acc: 0.8678 - val_loss: 21.8986 - val_acc: 0.8764\n",
      "Epoch 8/20\n",
      "11200/11200 [==============================] - 24s 2ms/step - loss: 19.4657 - acc: 0.8718 - val_loss: 24.1039 - val_acc: 0.8896\n",
      "Epoch 9/20\n",
      "11200/11200 [==============================] - 24s 2ms/step - loss: 18.5195 - acc: 0.8741 - val_loss: 19.2409 - val_acc: 0.8914\n",
      "Epoch 10/20\n",
      "11200/11200 [==============================] - 24s 2ms/step - loss: 17.7366 - acc: 0.8817 - val_loss: 20.4510 - val_acc: 0.8493\n",
      "Epoch 11/20\n",
      "11200/11200 [==============================] - 24s 2ms/step - loss: 16.8708 - acc: 0.8828 - val_loss: 15.9835 - val_acc: 0.8861\n",
      "Epoch 12/20\n",
      "11200/11200 [==============================] - 24s 2ms/step - loss: 16.1747 - acc: 0.8843 - val_loss: 15.4720 - val_acc: 0.8718\n",
      "Epoch 13/20\n",
      "11200/11200 [==============================] - 24s 2ms/step - loss: 15.7124 - acc: 0.8861 - val_loss: 14.4091 - val_acc: 0.8939\n",
      "Epoch 14/20\n",
      "11200/11200 [==============================] - 24s 2ms/step - loss: 15.2402 - acc: 0.8877 - val_loss: 13.1910 - val_acc: 0.8946\n",
      "Epoch 15/20\n",
      "11200/11200 [==============================] - 24s 2ms/step - loss: 14.8433 - acc: 0.8904 - val_loss: 14.5226 - val_acc: 0.8968\n",
      "Epoch 16/20\n",
      "11200/11200 [==============================] - 24s 2ms/step - loss: 14.3973 - acc: 0.8921 - val_loss: 14.2614 - val_acc: 0.8989\n",
      "Epoch 17/20\n",
      "11200/11200 [==============================] - 24s 2ms/step - loss: 14.0821 - acc: 0.8928 - val_loss: 12.8990 - val_acc: 0.8879\n",
      "Epoch 18/20\n",
      "11200/11200 [==============================] - 24s 2ms/step - loss: 13.6543 - acc: 0.8937 - val_loss: 13.6356 - val_acc: 0.9032\n",
      "Epoch 19/20\n",
      "11200/11200 [==============================] - 24s 2ms/step - loss: 13.5243 - acc: 0.8947 - val_loss: 13.0696 - val_acc: 0.8986\n",
      "Epoch 20/20\n",
      "11200/11200 [==============================] - 24s 2ms/step - loss: 13.2176 - acc: 0.8962 - val_loss: 11.5388 - val_acc: 0.8961\n"
     ]
    }
   ],
   "source": [
    "#estimator = KerasRegressor(build_fn=model, epochs=10, batch_size=5, verbose=0)\n",
    "#estimator.fit(X_train,Y_train_new)\n",
    "history=model.fit(X_train,Y_train_new, validation_split = 0.2 , batch_size = 8, epochs =20,verbose = 1)"
   ]
  },
  {
   "cell_type": "code",
   "execution_count": 24,
   "metadata": {
    "colab": {
     "base_uri": "https://localhost:8080/",
     "height": 752
    },
    "colab_type": "code",
    "id": "AYb6NT49544J",
    "outputId": "966523a3-192d-48e6-89ce-2e9bc74f21e4"
   },
   "outputs": [
    {
     "name": "stdout",
     "output_type": "stream",
     "text": [
      "dict_keys(['val_loss', 'val_acc', 'loss', 'acc'])\n"
     ]
    },
    {
     "data": {
      "image/png": "[encoded data removed]",
      "text/plain": [
       "<Figure size 576x396 with 1 Axes>"
      ]
     },
     "metadata": {
      "tags": []
     },
     "output_type": "display_data"
    },
    {
     "data": {
      "image/png": "[encoded data removed]",
      "text/plain": [
       "<Figure size 576x396 with 1 Axes>"
      ]
     },
     "metadata": {
      "tags": []
     },
     "output_type": "display_data"
    }
   ],
   "source": [
    "# list all data in history\n",
    "print(history.history.keys())\n",
    "# summarize history for accuracy\n",
    "plt.plot(history.history['acc'])\n",
    "plt.plot(history.history['val_acc'])\n",
    "plt.title('model accuracy')\n",
    "plt.ylabel('accuracy')\n",
    "plt.xlabel('epoch')\n",
    "plt.legend(['train', 'test'], loc='upper left')\n",
    "plt.show()\n",
    "# summarize history for loss\n",
    "plt.plot(history.history['loss'])\n",
    "plt.plot(history.history['val_loss'])\n",
    "plt.title('model loss')\n",
    "plt.ylabel('loss')\n",
    "plt.xlabel('epoch')\n",
    "plt.legend(['train', 'test'], loc='upper left')\n",
    "plt.show()"
   ]
  },
  {
   "cell_type": "code",
   "execution_count": 0,
   "metadata": {
    "colab": {},
    "colab_type": "code",
    "id": "1qNDMFJw544c"
   },
   "outputs": [],
   "source": [
    "X_test = np.load('/content/drive/My Drive/Updated_Data/Test_Processed_64.npy')\n",
    "X_test = X_test/255"
   ]
  },
  {
   "cell_type": "code",
   "execution_count": 52,
   "metadata": {
    "colab": {
     "base_uri": "https://localhost:8080/",
     "height": 34
    },
    "colab_type": "code",
    "id": "pMyDBeit544p",
    "outputId": "ccffbfa5-cd41-485d-da10-c1c0b3de543a"
   },
   "outputs": [
    {
     "name": "stdout",
     "output_type": "stream",
     "text": [
      "(12815, 64, 64)\n"
     ]
    }
   ],
   "source": [
    "print(X_test.shape)\n",
    "X_test = X_test.reshape(X_test.shape[0],X_test.shape[1],X_test.shape[2],1)\n",
    "model.save_weights('custom2_2_weights.h5')\n"
   ]
  },
  {
   "cell_type": "code",
   "execution_count": 0,
   "metadata": {
    "colab": {},
    "colab_type": "code",
    "id": "tD38Gt1f544-"
   },
   "outputs": [],
   "source": [
    "Y_predicted = model.predict(X_test)"
   ]
  },
  {
   "cell_type": "code",
   "execution_count": 54,
   "metadata": {
    "colab": {
     "base_uri": "https://localhost:8080/",
     "height": 34
    },
    "colab_type": "code",
    "id": "pgmDG6iV545k",
    "outputId": "56e07e44-a8e5-49b5-e04a-55842c61fc2f"
   },
   "outputs": [
    {
     "name": "stdout",
     "output_type": "stream",
     "text": [
      "(12815, 4)\n"
     ]
    }
   ],
   "source": [
    "print(Y_predicted.shape)\n",
    "for i in range(0,Y_predicted.shape[0]):\n",
    "    Y_predicted[i][0] = Y_predicted[i][0] / xscale\n",
    "    Y_predicted[i][1] = Y_predicted[i][1] / xscale\n",
    "    Y_predicted[i][2] = Y_predicted[i][2] / yscale\n",
    "    Y_predicted[i][3] = Y_predicted[i][3] / yscale"
   ]
  },
  {
   "cell_type": "code",
   "execution_count": 55,
   "metadata": {
    "colab": {
     "base_uri": "https://localhost:8080/",
     "height": 416
    },
    "colab_type": "code",
    "id": "KbuQI1So5455",
    "outputId": "c088cab4-a25c-43c0-c4e8-361ff0db6782"
   },
   "outputs": [
    {
     "name": "stdout",
     "output_type": "stream",
     "text": [
      "(12815, 1)\n",
      "(12815, 1)\n",
      "[['JPEG_20161129_130901_1000335000914.png']\n",
      " ['JPEG_20161209_201456_100034997460.png']\n",
      " ['14751585951781.png']\n",
      " ...\n",
      " ['JPEG_20160630_165248_1000513257867.png']\n",
      " ['1467548589518Odomos-Oil-Pack.png']\n",
      " ['1480334022239_R2A3610.png']]\n",
      "(12815, 5)\n",
      "[['JPEG_20161129_130901_1000335000914.png' '110.78877' '576.35315'\n",
      "  '121.83712' '338.24866']\n",
      " ['JPEG_20161209_201456_100034997460.png' '126.69705' '474.36646'\n",
      "  '73.20204' '424.80182']\n",
      " ['14751585951781.png' '163.97833' '563.648' '61.57013' '384.48975']\n",
      " ...\n",
      " ['JPEG_20160630_165248_1000513257867.png' '210.54893' '427.9873'\n",
      "  '101.53044' '336.79007']\n",
      " ['1467548589518Odomos-Oil-Pack.png' '28.852009' '632.19934' '-4.40743'\n",
      "  '475.61823']\n",
      " ['1480334022239_R2A3610.png' '150.17564' '455.4805' '67.46102'\n",
      "  '328.36667']]\n"
     ]
    },
    {
     "data": {
      "text/plain": [
       "numpy.str_"
      ]
     },
     "execution_count": 55,
     "metadata": {
      "tags": []
     },
     "output_type": "execute_result"
    }
   ],
   "source": [
    "X_label = np.load('/content/drive/My Drive/Updated_Data/X_test.npy')\n",
    "X_label = X_label.reshape(X_label.shape[0],1)\n",
    "print(X_label.shape)\n",
    "for i in range(0,X_label.shape[0]):\n",
    "  X_label[i] = X_label[i][0].split('/')[2]\n",
    "\n",
    "print(X_label.shape)\n",
    "print(X_label)\n",
    "DF = np.concatenate((X_label, Y_predicted), axis=1)\n",
    "print(DF.shape)\n",
    "print(DF)\n",
    "type(DF[0][2])"
   ]
  },
  {
   "cell_type": "code",
   "execution_count": 0,
   "metadata": {
    "colab": {},
    "colab_type": "code",
    "id": "wVM99ip_5462"
   },
   "outputs": [],
   "source": [
    "import pandas as pd\n",
    "out = pd.DataFrame({'image_name':DF[:,0],'x1':DF[:,1],'x2':DF[:,2],'y1':DF[:,3],'y2':DF[:,4]})"
   ]
  },
  {
   "cell_type": "code",
   "execution_count": 57,
   "metadata": {
    "colab": {
     "base_uri": "https://localhost:8080/",
     "height": 34
    },
    "colab_type": "code",
    "id": "s6L18Jo1547F",
    "outputId": "739c4412-4826-440a-e833-2d6994c00292"
   },
   "outputs": [
    {
     "name": "stdout",
     "output_type": "stream",
     "text": [
      "(12815, 5)\n"
     ]
    }
   ],
   "source": [
    "print(out.shape)\n",
    "out.to_csv('predictions.csv')"
   ]
  },
  {
   "cell_type": "code",
   "execution_count": 58,
   "metadata": {
    "colab": {
     "base_uri": "https://localhost:8080/",
     "height": 34
    },
    "colab_type": "code",
    "id": "Nd2W0HXSF2TW",
    "outputId": "c84f2abb-7d4a-4fa7-f724-90235396329b"
   },
   "outputs": [
    {
     "name": "stdout",
     "output_type": "stream",
     "text": [
      "Uploaded file with ID 1drVPxySE1dfXiBeYJCVdIScDZ7DRhBzI\n"
     ]
    }
   ],
   "source": [
    "from pydrive.auth import GoogleAuth\n",
    "from pydrive.drive import GoogleDrive\n",
    "from google.colab import auth\n",
    "from oauth2client.client import GoogleCredentials\n",
    "\n",
    "auth.authenticate_user()\n",
    "gauth = GoogleAuth()\n",
    "gauth.credentials = GoogleCredentials.get_application_default()\n",
    "drive = GoogleDrive(gauth)\n",
    "\n",
    "uploaded = drive.CreateFile({'title': 'predictions.csv'})\n",
    "uploaded.SetContentFile('predictions.csv')\n",
    "uploaded.Upload()\n",
    "print('Uploaded file with ID {}'.format(uploaded.get('id')))"
   ]
  },
  {
   "cell_type": "code",
   "execution_count": 49,
   "metadata": {
    "colab": {
     "base_uri": "https://localhost:8080/",
     "height": 34
    },
    "colab_type": "code",
    "id": "E7j7N4FFGGPU",
    "outputId": "7b582ed5-a38e-48e3-db9f-e55ab76608e1"
   },
   "outputs": [
    {
     "name": "stdout",
     "output_type": "stream",
     "text": [
      "adc.json  custom2_2_weights.h5\tdrive  predictions.csv\tsample_data\n"
     ]
    }
   ],
   "source": [
    "!ls\n"
   ]
  },
  {
   "cell_type": "code",
   "execution_count": 50,
   "metadata": {
    "colab": {
     "base_uri": "https://localhost:8080/",
     "height": 34
    },
    "colab_type": "code",
    "id": "gKBwpmMKIQEY",
    "outputId": "effa172a-5869-4712-b494-813a90694754"
   },
   "outputs": [
    {
     "name": "stdout",
     "output_type": "stream",
     "text": [
      "Uploaded file with ID 1WASMezxve0OfczQQ_mu9E64Pa7EdzsBq\n"
     ]
    }
   ],
   "source": [
    "uploaded = drive.CreateFile({'title': 'custom2_2_weights.h5'})\n",
    "uploaded.SetContentFile('custom2_2_weights.h5')\n",
    "uploaded.Upload()\n",
    "print('Uploaded file with ID {}'.format(uploaded.get('id')))"
   ]
  },
  {
   "cell_type": "code",
   "execution_count": 0,
   "metadata": {
    "colab": {},
    "colab_type": "code",
    "id": "A_Nr7cRBIawM"
   },
   "outputs": [],
   "source": []
  }
 ],
 "metadata": {
  "accelerator": "GPU",
  "colab": {
   "collapsed_sections": [],
   "name": "Custom2.ipynb",
   "provenance": [],
   "version": "0.3.2"
  },
  "kernelspec": {
   "display_name": "Python 3",
   "language": "python",
   "name": "python3"
  },
  "language_info": {
   "codemirror_mode": {
    "name": "ipython",
    "version": 3
   },
   "file_extension": ".py",
   "mimetype": "text/x-python",
   "name": "python",
   "nbconvert_exporter": "python",
   "pygments_lexer": "ipython3",
   "version": "3.6.7"
  }
 },
 "nbformat": 4,
 "nbformat_minor": 1
}
