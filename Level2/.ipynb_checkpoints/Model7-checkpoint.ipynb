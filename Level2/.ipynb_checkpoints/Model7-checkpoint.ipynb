{
 "cells": [
  {
   "cell_type": "code",
   "execution_count": 2,
   "metadata": {
    "colab": {
     "base_uri": "https://localhost:8080/",
     "height": 34
    },
    "colab_type": "code",
    "id": "ZFTBUoGY61rM",
    "outputId": "c5f5aea3-5a76-4d99-eaa4-4f08d58396fe"
   },
   "outputs": [
    {
     "name": "stdout",
     "output_type": "stream",
     "text": [
      "Drive already mounted at /content/drive; to attempt to forcibly remount, call drive.mount(\"/content/drive\", force_remount=True).\n"
     ]
    }
   ],
   "source": [
    "from google.colab import drive\n",
    "drive.mount('/content/drive')"
   ]
  },
  {
   "cell_type": "code",
   "execution_count": 1,
   "metadata": {
    "colab": {
     "base_uri": "https://localhost:8080/",
     "height": 139
    },
    "colab_type": "code",
    "id": "sZ4jKPP1628n",
    "outputId": "0c43f51c-deab-4601-e616-cba19837443a"
   },
   "outputs": [
    {
     "name": "stderr",
     "output_type": "stream",
     "text": [
      "Using TensorFlow backend.\n"
     ]
    },
    {
     "name": "stdout",
     "output_type": "stream",
     "text": [
      "(14000, 192, 192, 1)\n",
      "(14000, 1, 4)\n",
      "(14000, 4)\n",
      "14000\n"
     ]
    },
    {
     "ename": "MemoryError",
     "evalue": "",
     "output_type": "error",
     "traceback": [
      "\u001b[0;31m---------------------------------------------------------------------------\u001b[0m",
      "\u001b[0;31mMemoryError\u001b[0m                               Traceback (most recent call last)",
      "\u001b[0;32m<ipython-input-1-c7d5bf88f1db>\u001b[0m in \u001b[0;36m<module>\u001b[0;34m\u001b[0m\n\u001b[1;32m     36\u001b[0m \u001b[0mX_train\u001b[0m \u001b[0;34m=\u001b[0m \u001b[0mX_train\u001b[0m\u001b[0;34m/\u001b[0m\u001b[0;36m255\u001b[0m\u001b[0;34m\u001b[0m\u001b[0;34m\u001b[0m\u001b[0m\n\u001b[1;32m     37\u001b[0m \u001b[0mmean\u001b[0m \u001b[0;34m=\u001b[0m \u001b[0mnp\u001b[0m\u001b[0;34m.\u001b[0m\u001b[0mmean\u001b[0m\u001b[0;34m(\u001b[0m\u001b[0mX_train\u001b[0m\u001b[0;34m,\u001b[0m\u001b[0maxis\u001b[0m\u001b[0;34m=\u001b[0m\u001b[0;36m0\u001b[0m\u001b[0;34m)\u001b[0m\u001b[0;34m\u001b[0m\u001b[0;34m\u001b[0m\u001b[0m\n\u001b[0;32m---> 38\u001b[0;31m \u001b[0mstd\u001b[0m \u001b[0;34m=\u001b[0m \u001b[0mnp\u001b[0m\u001b[0;34m.\u001b[0m\u001b[0mstd\u001b[0m\u001b[0;34m(\u001b[0m\u001b[0mX_train\u001b[0m\u001b[0;34m,\u001b[0m\u001b[0maxis\u001b[0m\u001b[0;34m=\u001b[0m\u001b[0;36m0\u001b[0m\u001b[0;34m)\u001b[0m\u001b[0;34m\u001b[0m\u001b[0;34m\u001b[0m\u001b[0m\n\u001b[0m\u001b[1;32m     39\u001b[0m \u001b[0mprint\u001b[0m\u001b[0;34m(\u001b[0m\u001b[0;34m\"Before \"\u001b[0m\u001b[0;34m,\u001b[0m\u001b[0mmean\u001b[0m\u001b[0;34m.\u001b[0m\u001b[0mshape\u001b[0m\u001b[0;34m,\u001b[0m\u001b[0mstd\u001b[0m\u001b[0;34m.\u001b[0m\u001b[0mshape\u001b[0m\u001b[0;34m)\u001b[0m\u001b[0;34m\u001b[0m\u001b[0;34m\u001b[0m\u001b[0m\n\u001b[1;32m     40\u001b[0m \u001b[0mX_train\u001b[0m \u001b[0;34m=\u001b[0m \u001b[0mX_train\u001b[0m \u001b[0;34m-\u001b[0m \u001b[0mmean\u001b[0m\u001b[0;34m\u001b[0m\u001b[0;34m\u001b[0m\u001b[0m\n",
      "\u001b[0;32m~/anaconda3/lib/python3.6/site-packages/numpy/core/fromnumeric.py\u001b[0m in \u001b[0;36mstd\u001b[0;34m(a, axis, dtype, out, ddof, keepdims)\u001b[0m\n\u001b[1;32m   3036\u001b[0m \u001b[0;34m\u001b[0m\u001b[0m\n\u001b[1;32m   3037\u001b[0m     return _methods._std(a, axis=axis, dtype=dtype, out=out, ddof=ddof,\n\u001b[0;32m-> 3038\u001b[0;31m                          **kwargs)\n\u001b[0m\u001b[1;32m   3039\u001b[0m \u001b[0;34m\u001b[0m\u001b[0m\n\u001b[1;32m   3040\u001b[0m \u001b[0;34m\u001b[0m\u001b[0m\n",
      "\u001b[0;32m~/anaconda3/lib/python3.6/site-packages/numpy/core/_methods.py\u001b[0m in \u001b[0;36m_std\u001b[0;34m(a, axis, dtype, out, ddof, keepdims)\u001b[0m\n\u001b[1;32m    138\u001b[0m \u001b[0;32mdef\u001b[0m \u001b[0m_std\u001b[0m\u001b[0;34m(\u001b[0m\u001b[0ma\u001b[0m\u001b[0;34m,\u001b[0m \u001b[0maxis\u001b[0m\u001b[0;34m=\u001b[0m\u001b[0;32mNone\u001b[0m\u001b[0;34m,\u001b[0m \u001b[0mdtype\u001b[0m\u001b[0;34m=\u001b[0m\u001b[0;32mNone\u001b[0m\u001b[0;34m,\u001b[0m \u001b[0mout\u001b[0m\u001b[0;34m=\u001b[0m\u001b[0;32mNone\u001b[0m\u001b[0;34m,\u001b[0m \u001b[0mddof\u001b[0m\u001b[0;34m=\u001b[0m\u001b[0;36m0\u001b[0m\u001b[0;34m,\u001b[0m \u001b[0mkeepdims\u001b[0m\u001b[0;34m=\u001b[0m\u001b[0;32mFalse\u001b[0m\u001b[0;34m)\u001b[0m\u001b[0;34m:\u001b[0m\u001b[0;34m\u001b[0m\u001b[0;34m\u001b[0m\u001b[0m\n\u001b[1;32m    139\u001b[0m     ret = _var(a, axis=axis, dtype=dtype, out=out, ddof=ddof,\n\u001b[0;32m--> 140\u001b[0;31m                keepdims=keepdims)\n\u001b[0m\u001b[1;32m    141\u001b[0m \u001b[0;34m\u001b[0m\u001b[0m\n\u001b[1;32m    142\u001b[0m     \u001b[0;32mif\u001b[0m \u001b[0misinstance\u001b[0m\u001b[0;34m(\u001b[0m\u001b[0mret\u001b[0m\u001b[0;34m,\u001b[0m \u001b[0mmu\u001b[0m\u001b[0;34m.\u001b[0m\u001b[0mndarray\u001b[0m\u001b[0;34m)\u001b[0m\u001b[0;34m:\u001b[0m\u001b[0;34m\u001b[0m\u001b[0;34m\u001b[0m\u001b[0m\n",
      "\u001b[0;32m~/anaconda3/lib/python3.6/site-packages/numpy/core/_methods.py\u001b[0m in \u001b[0;36m_var\u001b[0;34m(a, axis, dtype, out, ddof, keepdims)\u001b[0m\n\u001b[1;32m    115\u001b[0m     \u001b[0;31m# Note that x may not be inexact and that we need it to be an array,\u001b[0m\u001b[0;34m\u001b[0m\u001b[0;34m\u001b[0m\u001b[0;34m\u001b[0m\u001b[0m\n\u001b[1;32m    116\u001b[0m     \u001b[0;31m# not a scalar.\u001b[0m\u001b[0;34m\u001b[0m\u001b[0;34m\u001b[0m\u001b[0;34m\u001b[0m\u001b[0m\n\u001b[0;32m--> 117\u001b[0;31m     \u001b[0mx\u001b[0m \u001b[0;34m=\u001b[0m \u001b[0masanyarray\u001b[0m\u001b[0;34m(\u001b[0m\u001b[0marr\u001b[0m \u001b[0;34m-\u001b[0m \u001b[0marrmean\u001b[0m\u001b[0;34m)\u001b[0m\u001b[0;34m\u001b[0m\u001b[0;34m\u001b[0m\u001b[0m\n\u001b[0m\u001b[1;32m    118\u001b[0m     \u001b[0;32mif\u001b[0m \u001b[0missubclass\u001b[0m\u001b[0;34m(\u001b[0m\u001b[0marr\u001b[0m\u001b[0;34m.\u001b[0m\u001b[0mdtype\u001b[0m\u001b[0;34m.\u001b[0m\u001b[0mtype\u001b[0m\u001b[0;34m,\u001b[0m \u001b[0mnt\u001b[0m\u001b[0;34m.\u001b[0m\u001b[0mcomplexfloating\u001b[0m\u001b[0;34m)\u001b[0m\u001b[0;34m:\u001b[0m\u001b[0;34m\u001b[0m\u001b[0;34m\u001b[0m\u001b[0m\n\u001b[1;32m    119\u001b[0m         \u001b[0mx\u001b[0m \u001b[0;34m=\u001b[0m \u001b[0mum\u001b[0m\u001b[0;34m.\u001b[0m\u001b[0mmultiply\u001b[0m\u001b[0;34m(\u001b[0m\u001b[0mx\u001b[0m\u001b[0;34m,\u001b[0m \u001b[0mum\u001b[0m\u001b[0;34m.\u001b[0m\u001b[0mconjugate\u001b[0m\u001b[0;34m(\u001b[0m\u001b[0mx\u001b[0m\u001b[0;34m)\u001b[0m\u001b[0;34m,\u001b[0m \u001b[0mout\u001b[0m\u001b[0;34m=\u001b[0m\u001b[0mx\u001b[0m\u001b[0;34m)\u001b[0m\u001b[0;34m.\u001b[0m\u001b[0mreal\u001b[0m\u001b[0;34m\u001b[0m\u001b[0;34m\u001b[0m\u001b[0m\n",
      "\u001b[0;31mMemoryError\u001b[0m: "
     ]
    }
   ],
   "source": [
    "from keras.models import Sequential, Model\n",
    "import keras\n",
    "from keras import layers\n",
    "from keras.layers import Reshape, Activation, Conv2D, Input, MaxPooling2D, BatchNormalization, Flatten, Dense, Lambda,GlobalAveragePooling2D,Dropout\n",
    "from keras.layers.advanced_activations import LeakyReLU\n",
    "from keras.callbacks import EarlyStopping, ModelCheckpoint, TensorBoard\n",
    "from keras.optimizers import SGD, Adam, RMSprop\n",
    "from keras.layers.merge import concatenate\n",
    "import matplotlib.pyplot as plt\n",
    "import keras.backend as K\n",
    "import tensorflow as tf\n",
    "import numpy as np\n",
    "from keras import optimizers\n",
    "from keras.applications.vgg16 import VGG16\n",
    "from keras.wrappers.scikit_learn import KerasRegressor\n",
    "from sklearn.model_selection import cross_val_score, KFold\n",
    "\n",
    "xscale = 192/640\n",
    "yscale = 192/480\n",
    "X_train = np.load('../Train_Processed_192.npy')\n",
    "Y_train = np.load('../Y_train.npy')\n",
    "X_train = X_train.reshape(X_train.shape[0],X_train.shape[1],X_train.shape[2],1)\n",
    "print(X_train.shape)\n",
    "print(Y_train.shape)\n",
    "Y_train_new = []\n",
    "for i in range(0,Y_train.shape[0]):\n",
    "    Y_train_new.append(Y_train[i][0])\n",
    "Y_train_new = np.asarray(Y_train_new)\n",
    "print(Y_train_new.shape)\n",
    "print(Y_train_new.shape[0])\n",
    "for i in range(0,Y_train_new.shape[0]):\n",
    "    Y_train_new[i][0] = Y_train_new[i][0] * xscale\n",
    "    Y_train_new[i][1] = Y_train_new[i][1] * xscale\n",
    "    Y_train_new[i][2] = Y_train_new[i][2] * yscale\n",
    "    Y_train_new[i][3] = Y_train_new[i][3] * yscale\n",
    "X_train = X_train/255\n",
    "mean = np.mean(X_train,axis=0)\n",
    "std = np.std(X_train,axis=0)\n",
    "print(\"Before \",mean.shape,std.shape)\n",
    "X_train = X_train - mean\n",
    "X_train = X_train / std\n",
    "print(\"After \",X_train.mean(),X_train.std())"
   ]
  },
  {
   "cell_type": "code",
   "execution_count": 4,
   "metadata": {
    "colab": {
     "base_uri": "https://localhost:8080/",
     "height": 141
    },
    "colab_type": "code",
    "id": "57AD_b59543J",
    "outputId": "9923bd87-24fc-4dd0-aa3f-2fd5a26088d0"
   },
   "outputs": [
    {
     "name": "stdout",
     "output_type": "stream",
     "text": [
      "WARNING:tensorflow:From /usr/local/lib/python3.6/dist-packages/tensorflow/python/framework/op_def_library.py:263: colocate_with (from tensorflow.python.framework.ops) is deprecated and will be removed in a future version.\n",
      "Instructions for updating:\n",
      "Colocations handled automatically by placer.\n",
      "WARNING:tensorflow:From /usr/local/lib/python3.6/dist-packages/keras/backend/tensorflow_backend.py:3445: calling dropout (from tensorflow.python.ops.nn_ops) with keep_prob is deprecated and will be removed in a future version.\n",
      "Instructions for updating:\n",
      "Please use `rate` instead of `keep_prob`. Rate should be set to `rate = 1 - keep_prob`.\n"
     ]
    }
   ],
   "source": [
    "input_1 = Input(shape = (192,192,1))\n",
    "# Block 1\n",
    "x = layers.Conv2D(64, (3, 3),\n",
    "                  activation='relu',\n",
    "                  padding='same',\n",
    "                  name='block1_conv1')(input_1)\n",
    "x = layers.Conv2D(64, (3, 3),\n",
    "                  activation='relu',\n",
    "                  padding='same',\n",
    "                  name='block1_conv2')(x)\n",
    "x = layers.MaxPooling2D((2, 2), strides=(2, 2), name='block1_pool')(x)\n",
    "\n",
    "# Block 2\n",
    "x = layers.Conv2D(128, (3, 3),\n",
    "                  activation='relu',\n",
    "                  padding='same',\n",
    "                  name='block2_conv1')(x)\n",
    "\n",
    "x = layers.Conv2D(128, (3, 3),\n",
    "                  activation='relu',\n",
    "                  padding='same',\n",
    "                  name='block2_conv2')(x)\n",
    "x = layers.MaxPooling2D((2, 2), strides=(2, 2), name='block2_pool')(x)\n",
    "\n",
    "x = layers.Dropout(0.2)(x)\n",
    "\n",
    "# Block 3\n",
    "x = layers.Conv2D(256, (3, 3),\n",
    "                  activation='relu',\n",
    "                  padding='same',\n",
    "                  name='block3_conv1')(x)\n",
    "\n",
    "x = layers.Conv2D(256, (3, 3),\n",
    "                  activation='relu',\n",
    "                  padding='same',\n",
    "                  name='block3_conv2')(x)\n",
    "# x = layers.Conv2D(256, (3, 3),\n",
    "#                   activation='relu',\n",
    "#                   padding='same',\n",
    "#                   name='block3_conv3')(x)\n",
    "x = layers.MaxPooling2D((2, 2), strides=(2, 2), name='block3_pool')(x)\n",
    "x = layers.Dropout(0.2)(x)\n",
    "\n",
    "# Block 4\n",
    "x = layers.Conv2D(512, (3, 3),\n",
    "                  activation='relu',\n",
    "                  padding='same',\n",
    "                  name='block4_conv1')(x)\n",
    "\n",
    "x = layers.Conv2D(512, (3, 3),\n",
    "                  activation='relu',\n",
    "                  padding='same',\n",
    "                  name='block4_conv2')(x)\n",
    "# x = layers.Conv2D(512, (3, 3),\n",
    "#                   activation='relu',\n",
    "#                   padding='same',\n",
    "#                   name='block4_conv3')(x)\n",
    "x = layers.MaxPooling2D((2, 2), strides=(2, 2), name='block4_pool')(x)\n",
    "x = layers.Dropout(0.2)(x)\n",
    "# Block 5\n",
    "x = layers.Conv2D(512, (3, 3),\n",
    "                  activation='relu',\n",
    "                  padding='same',\n",
    "                  name='block5_conv1')(x)\n",
    "\n",
    "x = layers.Conv2D(512, (3, 3),\n",
    "                  activation='relu',\n",
    "                  padding='same',\n",
    "                  name='block5_conv2')(x)\n",
    "# x = layers.Conv2D(512, (3, 3),\n",
    "#                   activation='relu',\n",
    "#                   padding='same',\n",
    "#                   name='block5_conv3')(x)\n",
    "x = layers.MaxPooling2D((2, 2), strides=(2, 2), name='block5_pool')(x)\n",
    "x = GlobalAveragePooling2D()(x)\n",
    "x = Dense(1024, activation='relu')(x)\n",
    "predictions = Dense(4,kernel_initializer='normal')(x)\n",
    "model = Model(inputs=input_1, outputs=predictions)"
   ]
  },
  {
   "cell_type": "code",
   "execution_count": 0,
   "metadata": {
    "colab": {},
    "colab_type": "code",
    "id": "MoJiq3ZgC0L6"
   },
   "outputs": [],
   "source": []
  },
  {
   "cell_type": "code",
   "execution_count": 5,
   "metadata": {
    "colab": {
     "base_uri": "https://localhost:8080/",
     "height": 903
    },
    "colab_type": "code",
    "id": "DbV6O0Tq543c",
    "outputId": "ffa90e06-d424-4ffa-c28e-5f4c86028efa"
   },
   "outputs": [
    {
     "name": "stdout",
     "output_type": "stream",
     "text": [
      "_________________________________________________________________\n",
      "Layer (type)                 Output Shape              Param #   \n",
      "=================================================================\n",
      "input_1 (InputLayer)         (None, 192, 192, 1)       0         \n",
      "_________________________________________________________________\n",
      "block1_conv1 (Conv2D)        (None, 192, 192, 64)      640       \n",
      "_________________________________________________________________\n",
      "block1_conv2 (Conv2D)        (None, 192, 192, 64)      36928     \n",
      "_________________________________________________________________\n",
      "block1_pool (MaxPooling2D)   (None, 96, 96, 64)        0         \n",
      "_________________________________________________________________\n",
      "block2_conv1 (Conv2D)        (None, 96, 96, 128)       73856     \n",
      "_________________________________________________________________\n",
      "block2_conv2 (Conv2D)        (None, 96, 96, 128)       147584    \n",
      "_________________________________________________________________\n",
      "block2_pool (MaxPooling2D)   (None, 48, 48, 128)       0         \n",
      "_________________________________________________________________\n",
      "dropout_1 (Dropout)          (None, 48, 48, 128)       0         \n",
      "_________________________________________________________________\n",
      "block3_conv1 (Conv2D)        (None, 48, 48, 256)       295168    \n",
      "_________________________________________________________________\n",
      "block3_conv2 (Conv2D)        (None, 48, 48, 256)       590080    \n",
      "_________________________________________________________________\n",
      "block3_pool (MaxPooling2D)   (None, 24, 24, 256)       0         \n",
      "_________________________________________________________________\n",
      "dropout_2 (Dropout)          (None, 24, 24, 256)       0         \n",
      "_________________________________________________________________\n",
      "block4_conv1 (Conv2D)        (None, 24, 24, 512)       1180160   \n",
      "_________________________________________________________________\n",
      "block4_conv2 (Conv2D)        (None, 24, 24, 512)       2359808   \n",
      "_________________________________________________________________\n",
      "block4_pool (MaxPooling2D)   (None, 12, 12, 512)       0         \n",
      "_________________________________________________________________\n",
      "dropout_3 (Dropout)          (None, 12, 12, 512)       0         \n",
      "_________________________________________________________________\n",
      "block5_conv1 (Conv2D)        (None, 12, 12, 512)       2359808   \n",
      "_________________________________________________________________\n",
      "block5_conv2 (Conv2D)        (None, 12, 12, 512)       2359808   \n",
      "_________________________________________________________________\n",
      "block5_pool (MaxPooling2D)   (None, 6, 6, 512)         0         \n",
      "_________________________________________________________________\n",
      "global_average_pooling2d_1 ( (None, 512)               0         \n",
      "_________________________________________________________________\n",
      "dense_1 (Dense)              (None, 1024)              525312    \n",
      "_________________________________________________________________\n",
      "dense_2 (Dense)              (None, 4)                 4100      \n",
      "=================================================================\n",
      "Total params: 9,933,252\n",
      "Trainable params: 9,933,252\n",
      "Non-trainable params: 0\n",
      "_________________________________________________________________\n"
     ]
    }
   ],
   "source": [
    "model.summary()\n",
    "rms = optimizers.RMSprop(lr=0.0001, rho=0.9)\n",
    "adm = keras.optimizers.Adam(lr=0.0001, beta_1=0.9, beta_2=0.999, epsilon=1e-8, decay=0.0, amsgrad=False)\n",
    "model.compile(loss='mean_squared_error', optimizer=adm,metrics=['accuracy'])"
   ]
  },
  {
   "cell_type": "code",
   "execution_count": 7,
   "metadata": {
    "colab": {
     "base_uri": "https://localhost:8080/",
     "height": 1597
    },
    "colab_type": "code",
    "id": "Woeu6iEP5433",
    "outputId": "0f6b953a-8c44-4817-d03e-69d41af44e30"
   },
   "outputs": [
    {
     "name": "stdout",
     "output_type": "stream",
     "text": [
      "Train on 11200 samples, validate on 2800 samples\n",
      "Epoch 1/25\n",
      "11200/11200 [==============================] - 324s 29ms/step - loss: 631.6460 - acc: 0.5157 - val_loss: 624.6634 - val_acc: 0.5357\n",
      "\n",
      "Epoch 00001: val_loss improved from inf to 624.66335, saving model to weights-improvement-01-0.54.h5\n",
      "Epoch 2/25\n",
      "11200/11200 [==============================] - 322s 29ms/step - loss: 510.6868 - acc: 0.5105 - val_loss: 528.7517 - val_acc: 0.4643\n",
      "\n",
      "Epoch 00002: val_loss improved from 624.66335 to 528.75171, saving model to weights-improvement-02-0.46.h5\n",
      "Epoch 3/25\n",
      "11200/11200 [==============================] - 321s 29ms/step - loss: 495.9025 - acc: 0.5049 - val_loss: 513.3458 - val_acc: 0.5393\n",
      "\n",
      "Epoch 00003: val_loss improved from 528.75171 to 513.34584, saving model to weights-improvement-03-0.54.h5\n",
      "Epoch 4/25\n",
      "11200/11200 [==============================] - 321s 29ms/step - loss: 479.7415 - acc: 0.5157 - val_loss: 492.6468 - val_acc: 0.5357\n",
      "\n",
      "Epoch 00004: val_loss improved from 513.34584 to 492.64685, saving model to weights-improvement-04-0.54.h5\n",
      "Epoch 5/25\n",
      "11200/11200 [==============================] - 321s 29ms/step - loss: 319.8847 - acc: 0.7423 - val_loss: 209.2950 - val_acc: 0.8525\n",
      "\n",
      "Epoch 00005: val_loss improved from 492.64685 to 209.29505, saving model to weights-improvement-05-0.85.h5\n",
      "Epoch 6/25\n",
      "11200/11200 [==============================] - 321s 29ms/step - loss: 178.6245 - acc: 0.8704 - val_loss: 181.6963 - val_acc: 0.8829\n",
      "\n",
      "Epoch 00006: val_loss improved from 209.29505 to 181.69632, saving model to weights-improvement-06-0.88.h5\n",
      "Epoch 7/25\n",
      "11200/11200 [==============================] - 321s 29ms/step - loss: 153.9577 - acc: 0.8789 - val_loss: 158.3994 - val_acc: 0.8879\n",
      "\n",
      "Epoch 00007: val_loss improved from 181.69632 to 158.39940, saving model to weights-improvement-07-0.89.h5\n",
      "Epoch 8/25\n",
      "11200/11200 [==============================] - 321s 29ms/step - loss: 138.4917 - acc: 0.8853 - val_loss: 128.1090 - val_acc: 0.8929\n",
      "\n",
      "Epoch 00008: val_loss improved from 158.39940 to 128.10900, saving model to weights-improvement-08-0.89.h5\n",
      "Epoch 9/25\n",
      "11200/11200 [==============================] - 320s 29ms/step - loss: 123.1993 - acc: 0.8972 - val_loss: 108.4820 - val_acc: 0.8804\n",
      "\n",
      "Epoch 00009: val_loss improved from 128.10900 to 108.48203, saving model to weights-improvement-09-0.88.h5\n",
      "Epoch 10/25\n",
      "11200/11200 [==============================] - 320s 29ms/step - loss: 113.0408 - acc: 0.8991 - val_loss: 97.5003 - val_acc: 0.9086\n",
      "\n",
      "Epoch 00010: val_loss improved from 108.48203 to 97.50035, saving model to weights-improvement-10-0.91.h5\n",
      "Epoch 11/25\n",
      "11200/11200 [==============================] - 321s 29ms/step - loss: 105.8705 - acc: 0.9049 - val_loss: 126.3895 - val_acc: 0.9107\n",
      "\n",
      "Epoch 00011: val_loss did not improve from 97.50035\n",
      "Epoch 12/25\n",
      "11200/11200 [==============================] - 321s 29ms/step - loss: 97.9562 - acc: 0.9093 - val_loss: 85.1615 - val_acc: 0.9164\n",
      "\n",
      "Epoch 00012: val_loss improved from 97.50035 to 85.16146, saving model to weights-improvement-12-0.92.h5\n",
      "Epoch 13/25\n",
      "11200/11200 [==============================] - 321s 29ms/step - loss: 90.4298 - acc: 0.9146 - val_loss: 86.6047 - val_acc: 0.9054\n",
      "\n",
      "Epoch 00013: val_loss did not improve from 85.16146\n",
      "Epoch 14/25\n",
      "11200/11200 [==============================] - 320s 29ms/step - loss: 84.9423 - acc: 0.9132 - val_loss: 77.8438 - val_acc: 0.9232\n",
      "\n",
      "Epoch 00014: val_loss improved from 85.16146 to 77.84378, saving model to weights-improvement-14-0.92.h5\n",
      "Epoch 15/25\n",
      "11200/11200 [==============================] - 320s 29ms/step - loss: 79.9928 - acc: 0.9170 - val_loss: 78.8699 - val_acc: 0.9071\n",
      "\n",
      "Epoch 00015: val_loss did not improve from 77.84378\n",
      "Epoch 16/25\n",
      "11200/11200 [==============================] - 321s 29ms/step - loss: 74.3472 - acc: 0.9196 - val_loss: 73.3734 - val_acc: 0.9250\n",
      "\n",
      "Epoch 00016: val_loss improved from 77.84378 to 73.37343, saving model to weights-improvement-16-0.93.h5\n",
      "Epoch 17/25\n",
      "11200/11200 [==============================] - 321s 29ms/step - loss: 70.6336 - acc: 0.9226 - val_loss: 75.3244 - val_acc: 0.9161\n",
      "\n",
      "Epoch 00017: val_loss did not improve from 73.37343\n",
      "Epoch 18/25\n",
      "11200/11200 [==============================] - 321s 29ms/step - loss: 65.4422 - acc: 0.9251 - val_loss: 92.3219 - val_acc: 0.9186\n",
      "\n",
      "Epoch 00018: val_loss did not improve from 73.37343\n",
      "Epoch 19/25\n",
      "11200/11200 [==============================] - 321s 29ms/step - loss: 60.9756 - acc: 0.9238 - val_loss: 70.2844 - val_acc: 0.9304\n",
      "\n",
      "Epoch 00019: val_loss improved from 73.37343 to 70.28442, saving model to weights-improvement-19-0.93.h5\n",
      "Epoch 20/25\n",
      "11200/11200 [==============================] - 321s 29ms/step - loss: 56.6079 - acc: 0.9271 - val_loss: 70.5349 - val_acc: 0.9289\n",
      "\n",
      "Epoch 00020: val_loss did not improve from 70.28442\n",
      "Epoch 21/25\n",
      "11200/11200 [==============================] - 320s 29ms/step - loss: 51.7819 - acc: 0.9275 - val_loss: 77.6411 - val_acc: 0.9264\n",
      "\n",
      "Epoch 00021: val_loss did not improve from 70.28442\n",
      "Epoch 22/25\n",
      "11200/11200 [==============================] - 319s 28ms/step - loss: 48.6173 - acc: 0.9288 - val_loss: 63.0413 - val_acc: 0.9214\n",
      "Restoring model weights from the end of the best epoch\n",
      "\n",
      "Epoch 00022: val_loss improved from 70.28442 to 63.04126, saving model to weights-improvement-22-0.92.h5\n",
      "Epoch 00022: early stopping\n"
     ]
    }
   ],
   "source": [
    "#estimator = KerasRegressor(build_fn=model, epochs=10, batch_size=5, verbose=0)\n",
    "#estimator.fit(X_train,Y_train_new)\n",
    "filepath=\"weights-improvement-{epoch:02d}-{val_acc:.2f}.h5\"\n",
    "checkpoint = ModelCheckpoint(filepath, monitor='val_loss', verbose=1, save_best_only=True, mode='min',save_weights_only=True,period=1)\n",
    "earlystop = EarlyStopping(monitor='val_acc', min_delta=0.0001, patience=3,verbose=1, mode='auto',restore_best_weights=True)\n",
    "callbacks_list = [earlystop,checkpoint]\n",
    "history=model.fit(X_train,Y_train_new, validation_split = 0.2 , batch_size = 8, callbacks = callbacks_list,epochs =25,verbose = 1)"
   ]
  },
  {
   "cell_type": "code",
   "execution_count": 14,
   "metadata": {
    "colab": {
     "base_uri": "https://localhost:8080/",
     "height": 752
    },
    "colab_type": "code",
    "id": "AYb6NT49544J",
    "outputId": "ae1ac454-fbdf-4b58-c34f-3009b1cc888c"
   },
   "outputs": [
    {
     "name": "stdout",
     "output_type": "stream",
     "text": [
      "dict_keys(['val_loss', 'val_acc', 'loss', 'acc'])\n"
     ]
    },
    {
     "data": {
      "image/png": "[encoded data removed]",
      "text/plain": [
       "<Figure size 576x396 with 1 Axes>"
      ]
     },
     "metadata": {
      "tags": []
     },
     "output_type": "display_data"
    },
    {
     "data": {
      "image/png": "[encoded data removed]",
      "text/plain": [
       "<Figure size 576x396 with 1 Axes>"
      ]
     },
     "metadata": {
      "tags": []
     },
     "output_type": "display_data"
    }
   ],
   "source": [
    "# list all data in history\n",
    "print(history.history.keys())\n",
    "# summarize history for accuracy\n",
    "plt.plot(history.history['acc'])\n",
    "plt.plot(history.history['val_acc'])\n",
    "plt.title('model accuracy')\n",
    "plt.ylabel('accuracy')\n",
    "plt.xlabel('epoch')\n",
    "plt.legend(['train', 'test'], loc='upper left')\n",
    "plt.show()\n",
    "# summarize history for loss\n",
    "plt.plot(history.history['loss'])\n",
    "plt.plot(history.history['val_loss'])\n",
    "plt.title('model loss')\n",
    "plt.ylabel('loss')\n",
    "plt.xlabel('epoch')\n",
    "plt.legend(['train', 'test'], loc='upper left')\n",
    "plt.show()"
   ]
  },
  {
   "cell_type": "code",
   "execution_count": 11,
   "metadata": {
    "colab": {
     "base_uri": "https://localhost:8080/",
     "height": 471
    },
    "colab_type": "code",
    "id": "rgYOo_1kC2dv",
    "outputId": "fce8a7e5-f3a5-459e-80a1-d93b3540e621"
   },
   "outputs": [
    {
     "name": "stdout",
     "output_type": "stream",
     "text": [
      "Collecting pydrive\n",
      "\u001b[?25l  Downloading https://files.pythonhosted.org/packages/52/e0/0e64788e5dd58ce2d6934549676243dc69d982f198524be9b99e9c2a4fd5/PyDrive-1.3.1.tar.gz (987kB)\n",
      "\u001b[K    100% |████████████████████████████████| 993kB 14.4MB/s \n",
      "\u001b[?25hRequirement already satisfied: google-api-python-client>=1.2 in /usr/local/lib/python3.6/dist-packages (from pydrive) (1.6.7)\n",
      "Requirement already satisfied: oauth2client>=4.0.0 in /usr/local/lib/python3.6/dist-packages (from pydrive) (4.1.3)\n",
      "Requirement already satisfied: PyYAML>=3.0 in /usr/local/lib/python3.6/dist-packages (from pydrive) (3.13)\n",
      "Requirement already satisfied: httplib2<1dev,>=0.9.2 in /usr/local/lib/python3.6/dist-packages (from google-api-python-client>=1.2->pydrive) (0.11.3)\n",
      "Requirement already satisfied: six<2dev,>=1.6.1 in /usr/local/lib/python3.6/dist-packages (from google-api-python-client>=1.2->pydrive) (1.11.0)\n",
      "Requirement already satisfied: uritemplate<4dev,>=3.0.0 in /usr/local/lib/python3.6/dist-packages (from google-api-python-client>=1.2->pydrive) (3.0.0)\n",
      "Requirement already satisfied: rsa>=3.1.4 in /usr/local/lib/python3.6/dist-packages (from oauth2client>=4.0.0->pydrive) (4.0)\n",
      "Requirement already satisfied: pyasn1>=0.1.7 in /usr/local/lib/python3.6/dist-packages (from oauth2client>=4.0.0->pydrive) (0.4.5)\n",
      "Requirement already satisfied: pyasn1-modules>=0.0.5 in /usr/local/lib/python3.6/dist-packages (from oauth2client>=4.0.0->pydrive) (0.2.4)\n",
      "Building wheels for collected packages: pydrive\n",
      "  Building wheel for pydrive (setup.py) ... \u001b[?25ldone\n",
      "\u001b[?25h  Stored in directory: /root/.cache/pip/wheels/fa/d2/9a/d3b6b506c2da98289e5d417215ce34b696db856643bad779f4\n",
      "Successfully built pydrive\n",
      "Installing collected packages: pydrive\n",
      "Successfully installed pydrive-1.3.1\n",
      "Uploaded file with ID 1LIN3XDkYRgRqZcjpigzOTEe4uw0h_YDw\n",
      "Uploaded file with ID 1eENrgktDIBvbDAcx4QPUFxCIhvz8xApf\n",
      "Uploaded file with ID 1RjP3lmKsLxGPMSljCTzwybJ52D7ux2aT\n",
      "Uploaded file with ID 1MpIdZKLqjt8woBUQDLLlV-lprWOYYcxx\n",
      "Uploaded file with ID 1TGWNLNzTUrjEwm_7lcSZMvJ_ZBD7ciW4\n",
      "Uploaded file with ID 1oOyR46O4a52yLXcMMs-BAh5xsnwcKo3K\n",
      "Uploaded file with ID 1e6Ceb9rrA5pbBYN3qylS1Wj1KwOOurCi\n"
     ]
    }
   ],
   "source": [
    "!pip install pydrive\n",
    "from pydrive.auth import GoogleAuth\n",
    "from pydrive.drive import GoogleDrive\n",
    "from google.colab import auth\n",
    "from oauth2client.client import GoogleCredentials\n",
    "\n",
    "auth.authenticate_user()\n",
    "gauth = GoogleAuth()\n",
    "gauth.credentials = GoogleCredentials.get_application_default()\n",
    "drive = GoogleDrive(gauth)\n",
    "\n",
    "uploaded = drive.CreateFile({'title': 'Model10_weights-improvement-05-0.85.h5'})\n",
    "uploaded.SetContentFile('weights-improvement-05-0.85.h5')\n",
    "uploaded.Upload()\n",
    "print('Uploaded file with ID {}'.format(uploaded.get('id')))\n",
    "\n",
    "uploaded = drive.CreateFile({'title': 'Model10_weights-improvement-06-0.88.h5'})\n",
    "uploaded.SetContentFile('weights-improvement-06-0.88.h5')\n",
    "uploaded.Upload()\n",
    "print('Uploaded file with ID {}'.format(uploaded.get('id')))\n",
    "\n",
    "uploaded = drive.CreateFile({'title': 'Model10_weights-improvement-12-0.92.h5'})\n",
    "uploaded.SetContentFile('weights-improvement-12-0.92.h5')\n",
    "uploaded.Upload()\n",
    "print('Uploaded file with ID {}'.format(uploaded.get('id')))\n",
    "\n",
    "uploaded = drive.CreateFile({'title': 'Model10_weights-improvement-14-0.92.h5'})\n",
    "uploaded.SetContentFile('weights-improvement-14-0.92.h5')\n",
    "uploaded.Upload()\n",
    "print('Uploaded file with ID {}'.format(uploaded.get('id')))\n",
    "\n",
    "uploaded = drive.CreateFile({'title': 'Model10_weights-improvement-16-0.93.h5'})\n",
    "uploaded.SetContentFile('weights-improvement-16-0.93.h5')\n",
    "uploaded.Upload()\n",
    "print('Uploaded file with ID {}'.format(uploaded.get('id')))\n",
    "\n",
    "uploaded = drive.CreateFile({'title': 'Model10_weights-improvement-19-0.93.h5'})\n",
    "uploaded.SetContentFile('weights-improvement-19-0.93.h5')\n",
    "uploaded.Upload()\n",
    "print('Uploaded file with ID {}'.format(uploaded.get('id')))\n",
    "\n",
    "uploaded = drive.CreateFile({'title': 'Model10_weights-improvement-22-0.92.h5'})\n",
    "uploaded.SetContentFile('weights-improvement-22-0.92.h5')\n",
    "uploaded.Upload()\n",
    "print('Uploaded file with ID {}'.format(uploaded.get('id')))\n",
    "\n"
   ]
  },
  {
   "cell_type": "code",
   "execution_count": 13,
   "metadata": {
    "colab": {
     "base_uri": "https://localhost:8080/",
     "height": 34
    },
    "colab_type": "code",
    "id": "jJpQ2EE4EMkB",
    "outputId": "8eae1f97-c4f1-4060-e6c0-1b858fac6d35"
   },
   "outputs": [
    {
     "name": "stdout",
     "output_type": "stream",
     "text": [
      "Uploaded file with ID 1Gvk8_7ytOF6DUoHLJmgTl4T18l4x_u4r\n"
     ]
    }
   ],
   "source": [
    "model.save_weights('Best_Model10.h5')\n",
    "uploaded = drive.CreateFile({'title': 'Model10_best_weights.h5'})\n",
    "uploaded.SetContentFile('Best_Model10.h5')\n",
    "uploaded.Upload()\n",
    "print('Uploaded file with ID {}'.format(uploaded.get('id')))"
   ]
  },
  {
   "cell_type": "code",
   "execution_count": 0,
   "metadata": {
    "colab": {},
    "colab_type": "code",
    "id": "1qNDMFJw544c"
   },
   "outputs": [],
   "source": [
    "X_test = np.load('/content/drive/My Drive/Updated_Data/Test_Processed_192.npy')\n",
    "X_test = X_test/255\n",
    "X_test = X_test.reshape(X_test.shape[0],X_test.shape[1],X_test.shape[2],1)\n",
    "X_test = X_test - mean\n",
    "X_test = X_test / std\n",
    "print(X_test.shape)\n",
    "#X_test = X_test.reshape(X_test.shape[0],X_test.shape[1],X_test.shape[2],1)\n",
    "model.save_weights('model9_weights.h5')"
   ]
  },
  {
   "cell_type": "code",
   "execution_count": 0,
   "metadata": {
    "colab": {},
    "colab_type": "code",
    "id": "tD38Gt1f544-"
   },
   "outputs": [],
   "source": [
    "Y_predicted = model.predict(X_test)"
   ]
  },
  {
   "cell_type": "code",
   "execution_count": 0,
   "metadata": {
    "colab": {
     "base_uri": "https://localhost:8080/",
     "height": 34
    },
    "colab_type": "code",
    "id": "pgmDG6iV545k",
    "outputId": "b4d631d5-c26b-49e0-e696-7ce7554e3cca"
   },
   "outputs": [
    {
     "name": "stdout",
     "output_type": "stream",
     "text": [
      "(12815, 4)\n"
     ]
    }
   ],
   "source": [
    "print(Y_predicted.shape)\n",
    "for i in range(0,Y_predicted.shape[0]):\n",
    "    Y_predicted[i][0] = Y_predicted[i][0] / xscale\n",
    "    Y_predicted[i][1] = Y_predicted[i][1] / xscale\n",
    "    Y_predicted[i][2] = Y_predicted[i][2] / yscale\n",
    "    Y_predicted[i][3] = Y_predicted[i][3] / yscale"
   ]
  },
  {
   "cell_type": "code",
   "execution_count": 0,
   "metadata": {
    "colab": {
     "base_uri": "https://localhost:8080/",
     "height": 416
    },
    "colab_type": "code",
    "id": "KbuQI1So5455",
    "outputId": "d3828dbb-4e64-4ae6-9103-81d0953ef4f8"
   },
   "outputs": [
    {
     "name": "stdout",
     "output_type": "stream",
     "text": [
      "(12815, 1)\n",
      "(12815, 1)\n",
      "[['JPEG_20161129_130901_1000335000914.png']\n",
      " ['JPEG_20161209_201456_100034997460.png']\n",
      " ['14751585951781.png']\n",
      " ...\n",
      " ['JPEG_20160630_165248_1000513257867.png']\n",
      " ['1467548589518Odomos-Oil-Pack.png']\n",
      " ['1480334022239_R2A3610.png']]\n",
      "(12815, 5)\n",
      "[['JPEG_20161129_130901_1000335000914.png' '87.610634' '600.2036'\n",
      "  '116.61931' '365.81793']\n",
      " ['JPEG_20161209_201456_100034997460.png' '165.46233' '453.78146'\n",
      "  '96.82457' '349.06177']\n",
      " ['14751585951781.png' '158.67795' '542.9264' '66.22692' '396.4009']\n",
      " ...\n",
      " ['JPEG_20160630_165248_1000513257867.png' '226.13455' '423.87296'\n",
      "  '98.36438' '323.1986']\n",
      " ['1467548589518Odomos-Oil-Pack.png' '50.45762' '605.2845' '22.133202'\n",
      "  '444.2672']\n",
      " ['1480334022239_R2A3610.png' '137.6822' '455.89648' '51.407803'\n",
      "  '317.8304']]\n"
     ]
    },
    {
     "data": {
      "text/plain": [
       "numpy.str_"
      ]
     },
     "execution_count": 11,
     "metadata": {
      "tags": []
     },
     "output_type": "execute_result"
    }
   ],
   "source": [
    "X_label = np.load('/content/drive/My Drive/Updated_Data/X_test.npy')\n",
    "X_label = X_label.reshape(X_label.shape[0],1)\n",
    "print(X_label.shape)\n",
    "for i in range(0,X_label.shape[0]):\n",
    "  X_label[i] = X_label[i][0].split('/')[2]\n",
    "\n",
    "print(X_label.shape)\n",
    "print(X_label)\n",
    "DF = np.concatenate((X_label, Y_predicted), axis=1)\n",
    "print(DF.shape)\n",
    "print(DF)\n",
    "type(DF[0][2])"
   ]
  },
  {
   "cell_type": "code",
   "execution_count": 0,
   "metadata": {
    "colab": {},
    "colab_type": "code",
    "id": "wVM99ip_5462"
   },
   "outputs": [],
   "source": [
    "import pandas as pd\n",
    "out = pd.DataFrame({'image_name':DF[:,0],'x1':DF[:,1],'x2':DF[:,2],'y1':DF[:,3],'y2':DF[:,4]})"
   ]
  },
  {
   "cell_type": "code",
   "execution_count": 0,
   "metadata": {
    "colab": {
     "base_uri": "https://localhost:8080/",
     "height": 34
    },
    "colab_type": "code",
    "id": "s6L18Jo1547F",
    "outputId": "c0f92909-1d23-4f8b-b809-278a2e620ad3"
   },
   "outputs": [
    {
     "name": "stdout",
     "output_type": "stream",
     "text": [
      "(12815, 5)\n"
     ]
    }
   ],
   "source": [
    "print(out.shape)\n",
    "out.to_csv('new3.csv')"
   ]
  },
  {
   "cell_type": "code",
   "execution_count": 0,
   "metadata": {
    "colab": {
     "base_uri": "https://localhost:8080/",
     "height": 52
    },
    "colab_type": "code",
    "id": "Nd2W0HXSF2TW",
    "outputId": "f06b30ac-4d1f-4c05-cd03-bfa8ac04d3cb"
   },
   "outputs": [
    {
     "name": "stdout",
     "output_type": "stream",
     "text": [
      "Uploaded file with ID 1d3MoVpamrgduxvpfFrAwfy_iG-K604_I\n",
      "Uploaded file with ID 1YSTbjyOX0tCRY96lR82Aw9taC66JecIH\n"
     ]
    }
   ],
   "source": [
    "from pydrive.auth import GoogleAuth\n",
    "from pydrive.drive import GoogleDrive\n",
    "from google.colab import auth\n",
    "from oauth2client.client import GoogleCredentials\n",
    "\n",
    "auth.authenticate_user()\n",
    "gauth = GoogleAuth()\n",
    "gauth.credentials = GoogleCredentials.get_application_default()\n",
    "drive = GoogleDrive(gauth)\n",
    "\n",
    "uploaded = drive.CreateFile({'title': 'predictions_model8.csv'})\n",
    "uploaded.SetContentFile('new3.csv')\n",
    "uploaded.Upload()\n",
    "print('Uploaded file with ID {}'.format(uploaded.get('id')))\n",
    "\n",
    "uploaded = drive.CreateFile({'title': 'new3_weights.h5'})\n",
    "uploaded.SetContentFile('custom2_3_weights.h5')\n",
    "uploaded.Upload()\n",
    "print('Uploaded file with ID {}'.format(uploaded.get('id')))"
   ]
  },
  {
   "cell_type": "code",
   "execution_count": 0,
   "metadata": {
    "colab": {
     "base_uri": "https://localhost:8080/",
     "height": 34
    },
    "colab_type": "code",
    "id": "E7j7N4FFGGPU",
    "outputId": "7b582ed5-a38e-48e3-db9f-e55ab76608e1"
   },
   "outputs": [
    {
     "name": "stdout",
     "output_type": "stream",
     "text": [
      "adc.json  custom2_2_weights.h5\tdrive  predictions.csv\tsample_data\n"
     ]
    }
   ],
   "source": [
    "!ls\n"
   ]
  },
  {
   "cell_type": "code",
   "execution_count": 0,
   "metadata": {
    "colab": {
     "base_uri": "https://localhost:8080/",
     "height": 34
    },
    "colab_type": "code",
    "id": "gKBwpmMKIQEY",
    "outputId": "effa172a-5869-4712-b494-813a90694754"
   },
   "outputs": [
    {
     "name": "stdout",
     "output_type": "stream",
     "text": [
      "Uploaded file with ID 1WASMezxve0OfczQQ_mu9E64Pa7EdzsBq\n"
     ]
    }
   ],
   "source": []
  },
  {
   "cell_type": "code",
   "execution_count": 0,
   "metadata": {
    "colab": {},
    "colab_type": "code",
    "id": "A_Nr7cRBIawM"
   },
   "outputs": [],
   "source": []
  }
 ],
 "metadata": {
  "accelerator": "GPU",
  "colab": {
   "collapsed_sections": [],
   "name": "Custom2_82.9.ipynb",
   "provenance": [],
   "version": "0.3.2"
  },
  "kernelspec": {
   "display_name": "Python 3",
   "language": "python",
   "name": "python3"
  },
  "language_info": {
   "codemirror_mode": {
    "name": "ipython",
    "version": 3
   },
   "file_extension": ".py",
   "mimetype": "text/x-python",
   "name": "python",
   "nbconvert_exporter": "python",
   "pygments_lexer": "ipython3",
   "version": "3.6.7"
  }
 },
 "nbformat": 4,
 "nbformat_minor": 1
}
