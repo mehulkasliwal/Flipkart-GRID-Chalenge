{
 "cells": [
  {
   "cell_type": "code",
   "execution_count": 1,
   "metadata": {
    "colab": {
     "base_uri": "https://localhost:8080/",
     "height": 34
    },
    "colab_type": "code",
    "id": "ZFTBUoGY61rM",
    "outputId": "0dc9992e-8128-4eac-fe44-2e86c08eafa2"
   },
   "outputs": [
    {
     "name": "stdout",
     "output_type": "stream",
     "text": [
      "Drive already mounted at /content/drive; to attempt to forcibly remount, call drive.mount(\"/content/drive\", force_remount=True).\n"
     ]
    }
   ],
   "source": [
    "from google.colab import drive\n",
    "drive.mount('/content/drive')"
   ]
  },
  {
   "cell_type": "code",
   "execution_count": 2,
   "metadata": {
    "colab": {
     "base_uri": "https://localhost:8080/",
     "height": 139
    },
    "colab_type": "code",
    "id": "sZ4jKPP1628n",
    "outputId": "5136e589-c593-4fbd-c7d6-a0d4303c1588"
   },
   "outputs": [
    {
     "name": "stderr",
     "output_type": "stream",
     "text": [
      "Using TensorFlow backend.\n"
     ]
    },
    {
     "name": "stdout",
     "output_type": "stream",
     "text": [
      "(14000, 128, 128, 1)\n",
      "(14000, 1, 4)\n",
      "(14000, 4)\n",
      "14000\n",
      "Before  (128, 128, 1) (128, 128, 1)\n",
      "After  -1.3875771365245982e-13 1.0000000000000018\n"
     ]
    }
   ],
   "source": [
    "from keras.models import Sequential, Model\n",
    "import keras\n",
    "from keras import layers\n",
    "from keras.layers import Reshape, Activation, Conv2D, Input, MaxPooling2D, BatchNormalization, Flatten, Dense, Lambda,GlobalAveragePooling2D,Dropout\n",
    "from keras.layers.advanced_activations import LeakyReLU\n",
    "from keras.callbacks import EarlyStopping, ModelCheckpoint, TensorBoard\n",
    "from keras.optimizers import SGD, Adam, RMSprop\n",
    "from keras.layers.merge import concatenate\n",
    "import matplotlib.pyplot as plt\n",
    "import keras.backend as K\n",
    "import tensorflow as tf\n",
    "import numpy as np\n",
    "from keras import optimizers\n",
    "from keras.applications.vgg16 import VGG16\n",
    "from keras.wrappers.scikit_learn import KerasRegressor\n",
    "from sklearn.model_selection import cross_val_score, KFold\n",
    "from google.colab import drive\n",
    "\n",
    "xscale = 128/640\n",
    "yscale = 128/480\n",
    "X_train = np.load('/content/drive/My Drive/Updated_Data/Train_Processed_128.npy')\n",
    "Y_train = np.load('/content/drive/My Drive/Updated_Data/Y_train.npy')\n",
    "X_train = X_train.reshape(X_train.shape[0],X_train.shape[1],X_train.shape[2],1)\n",
    "print(X_train.shape)\n",
    "print(Y_train.shape)\n",
    "Y_train_new = []\n",
    "for i in range(0,Y_train.shape[0]):\n",
    "    Y_train_new.append(Y_train[i][0])\n",
    "Y_train_new = np.asarray(Y_train_new)\n",
    "print(Y_train_new.shape)\n",
    "print(Y_train_new.shape[0])\n",
    "for i in range(0,Y_train_new.shape[0]):\n",
    "    Y_train_new[i][0] = Y_train_new[i][0] * xscale\n",
    "    Y_train_new[i][1] = Y_train_new[i][1] * xscale\n",
    "    Y_train_new[i][2] = Y_train_new[i][2] * yscale\n",
    "    Y_train_new[i][3] = Y_train_new[i][3] * yscale\n",
    "X_train = X_train/255\n",
    "mean = np.mean(X_train,axis=0)\n",
    "std = np.std(X_train,axis=0)\n",
    "print(\"Before \",mean.shape,std.shape)\n",
    "X_train = X_train - mean\n",
    "X_train = X_train / std\n",
    "print(\"After \",X_train.mean(),X_train.std())"
   ]
  },
  {
   "cell_type": "code",
   "execution_count": 3,
   "metadata": {
    "colab": {
     "base_uri": "https://localhost:8080/",
     "height": 141
    },
    "colab_type": "code",
    "id": "57AD_b59543J",
    "outputId": "bfdda114-3490-48a1-db3e-42eb6849b2e7"
   },
   "outputs": [
    {
     "name": "stdout",
     "output_type": "stream",
     "text": [
      "WARNING:tensorflow:From /usr/local/lib/python3.6/dist-packages/tensorflow/python/framework/op_def_library.py:263: colocate_with (from tensorflow.python.framework.ops) is deprecated and will be removed in a future version.\n",
      "Instructions for updating:\n",
      "Colocations handled automatically by placer.\n",
      "WARNING:tensorflow:From /usr/local/lib/python3.6/dist-packages/keras/backend/tensorflow_backend.py:3445: calling dropout (from tensorflow.python.ops.nn_ops) with keep_prob is deprecated and will be removed in a future version.\n",
      "Instructions for updating:\n",
      "Please use `rate` instead of `keep_prob`. Rate should be set to `rate = 1 - keep_prob`.\n"
     ]
    }
   ],
   "source": [
    "input_1 = Input(shape = (128,128,1))\n",
    "# Block 1\n",
    "x = layers.Conv2D(64, (3, 3),\n",
    "                  activation='relu',\n",
    "                  padding='same',\n",
    "                  name='block1_conv1')(input_1)\n",
    "x = layers.Conv2D(64, (3, 3),\n",
    "                  activation='relu',\n",
    "                  padding='same',\n",
    "                  name='block1_conv2')(x)\n",
    "x = layers.MaxPooling2D((2, 2), strides=(2, 2), name='block1_pool')(x)\n",
    "\n",
    "# Block 2\n",
    "x = layers.Conv2D(128, (3, 3),\n",
    "                  activation='relu',\n",
    "                  padding='same',\n",
    "                  name='block2_conv1')(x)\n",
    "\n",
    "x = layers.Conv2D(128, (3, 3),\n",
    "                  activation='relu',\n",
    "                  padding='same',\n",
    "                  name='block2_conv2')(x)\n",
    "x = layers.MaxPooling2D((2, 2), strides=(2, 2), name='block2_pool')(x)\n",
    "\n",
    "x = layers.Dropout(0.2)(x)\n",
    "\n",
    "# Block 3\n",
    "x = layers.Conv2D(256, (3, 3),\n",
    "                  activation='relu',\n",
    "                  padding='same',\n",
    "                  name='block3_conv1')(x)\n",
    "\n",
    "x = layers.Conv2D(256, (3, 3),\n",
    "                  activation='relu',\n",
    "                  padding='same',\n",
    "                  name='block3_conv2')(x)\n",
    "# x = layers.Conv2D(256, (3, 3),\n",
    "#                   activation='relu',\n",
    "#                   padding='same',\n",
    "#                   name='block3_conv3')(x)\n",
    "x = layers.MaxPooling2D((2, 2), strides=(2, 2), name='block3_pool')(x)\n",
    "x = layers.Dropout(0.2)(x)\n",
    "\n",
    "# Block 4\n",
    "x = layers.Conv2D(512, (3, 3),\n",
    "                  activation='relu',\n",
    "                  padding='same',\n",
    "                  name='block4_conv1')(x)\n",
    "\n",
    "x = layers.Conv2D(512, (3, 3),\n",
    "                  activation='relu',\n",
    "                  padding='same',\n",
    "                  name='block4_conv2')(x)\n",
    "# x = layers.Conv2D(512, (3, 3),\n",
    "#                   activation='relu',\n",
    "#                   padding='same',\n",
    "#                   name='block4_conv3')(x)\n",
    "x = layers.MaxPooling2D((2, 2), strides=(2, 2), name='block4_pool')(x)\n",
    "x = layers.Dropout(0.2)(x)\n",
    "# Block 5\n",
    "x = layers.Conv2D(512, (3, 3),\n",
    "                  activation='relu',\n",
    "                  padding='same',\n",
    "                  name='block5_conv1')(x)\n",
    "\n",
    "x = layers.Conv2D(512, (3, 3),\n",
    "                  activation='relu',\n",
    "                  padding='same',\n",
    "                  name='block5_conv2')(x)\n",
    "# x = layers.Conv2D(512, (3, 3),\n",
    "#                   activation='relu',\n",
    "#                   padding='same',\n",
    "#                   name='block5_conv3')(x)\n",
    "x = layers.MaxPooling2D((2, 2), strides=(2, 2), name='block5_pool')(x)\n",
    "x = GlobalAveragePooling2D()(x)\n",
    "x = Dense(1024, activation='relu')(x)\n",
    "predictions = Dense(4,kernel_initializer='normal')(x)\n",
    "model = Model(inputs=input_1, outputs=predictions)"
   ]
  },
  {
   "cell_type": "code",
   "execution_count": 4,
   "metadata": {
    "colab": {
     "base_uri": "https://localhost:8080/",
     "height": 903
    },
    "colab_type": "code",
    "id": "DbV6O0Tq543c",
    "outputId": "6fdaf821-f815-42da-ec88-9db33f6a157b"
   },
   "outputs": [
    {
     "name": "stdout",
     "output_type": "stream",
     "text": [
      "_________________________________________________________________\n",
      "Layer (type)                 Output Shape              Param #   \n",
      "=================================================================\n",
      "input_1 (InputLayer)         (None, 128, 128, 1)       0         \n",
      "_________________________________________________________________\n",
      "block1_conv1 (Conv2D)        (None, 128, 128, 64)      640       \n",
      "_________________________________________________________________\n",
      "block1_conv2 (Conv2D)        (None, 128, 128, 64)      36928     \n",
      "_________________________________________________________________\n",
      "block1_pool (MaxPooling2D)   (None, 64, 64, 64)        0         \n",
      "_________________________________________________________________\n",
      "block2_conv1 (Conv2D)        (None, 64, 64, 128)       73856     \n",
      "_________________________________________________________________\n",
      "block2_conv2 (Conv2D)        (None, 64, 64, 128)       147584    \n",
      "_________________________________________________________________\n",
      "block2_pool (MaxPooling2D)   (None, 32, 32, 128)       0         \n",
      "_________________________________________________________________\n",
      "dropout_1 (Dropout)          (None, 32, 32, 128)       0         \n",
      "_________________________________________________________________\n",
      "block3_conv1 (Conv2D)        (None, 32, 32, 256)       295168    \n",
      "_________________________________________________________________\n",
      "block3_conv2 (Conv2D)        (None, 32, 32, 256)       590080    \n",
      "_________________________________________________________________\n",
      "block3_pool (MaxPooling2D)   (None, 16, 16, 256)       0         \n",
      "_________________________________________________________________\n",
      "dropout_2 (Dropout)          (None, 16, 16, 256)       0         \n",
      "_________________________________________________________________\n",
      "block4_conv1 (Conv2D)        (None, 16, 16, 512)       1180160   \n",
      "_________________________________________________________________\n",
      "block4_conv2 (Conv2D)        (None, 16, 16, 512)       2359808   \n",
      "_________________________________________________________________\n",
      "block4_pool (MaxPooling2D)   (None, 8, 8, 512)         0         \n",
      "_________________________________________________________________\n",
      "dropout_3 (Dropout)          (None, 8, 8, 512)         0         \n",
      "_________________________________________________________________\n",
      "block5_conv1 (Conv2D)        (None, 8, 8, 512)         2359808   \n",
      "_________________________________________________________________\n",
      "block5_conv2 (Conv2D)        (None, 8, 8, 512)         2359808   \n",
      "_________________________________________________________________\n",
      "block5_pool (MaxPooling2D)   (None, 4, 4, 512)         0         \n",
      "_________________________________________________________________\n",
      "global_average_pooling2d_1 ( (None, 512)               0         \n",
      "_________________________________________________________________\n",
      "dense_1 (Dense)              (None, 1024)              525312    \n",
      "_________________________________________________________________\n",
      "dense_2 (Dense)              (None, 4)                 4100      \n",
      "=================================================================\n",
      "Total params: 9,933,252\n",
      "Trainable params: 9,933,252\n",
      "Non-trainable params: 0\n",
      "_________________________________________________________________\n"
     ]
    }
   ],
   "source": [
    "model.summary()\n",
    "rms = optimizers.RMSprop(lr=0.0001, rho=0.9)\n",
    "adm = keras.optimizers.Adam(lr=0.0001, beta_1=0.9, beta_2=0.999, epsilon=1e-8, decay=0.0, amsgrad=False)\n",
    "model.compile(loss='mean_squared_error', optimizer=adm,metrics=['accuracy'])"
   ]
  },
  {
   "cell_type": "code",
   "execution_count": 5,
   "metadata": {
    "colab": {
     "base_uri": "https://localhost:8080/",
     "height": 749
    },
    "colab_type": "code",
    "id": "Woeu6iEP5433",
    "outputId": "016dcd22-c140-405c-b59a-f30d67093cfe"
   },
   "outputs": [
    {
     "name": "stdout",
     "output_type": "stream",
     "text": [
      "WARNING:tensorflow:From /usr/local/lib/python3.6/dist-packages/tensorflow/python/ops/math_ops.py:3066: to_int32 (from tensorflow.python.ops.math_ops) is deprecated and will be removed in a future version.\n",
      "Instructions for updating:\n",
      "Use tf.cast instead.\n",
      "Train on 11200 samples, validate on 2800 samples\n",
      "Epoch 1/20\n",
      "11200/11200 [==============================] - 187s 17ms/step - loss: 315.3053 - acc: 0.5090 - val_loss: 268.6571 - val_acc: 0.5404\n",
      "Epoch 2/20\n",
      "11200/11200 [==============================] - 179s 16ms/step - loss: 220.1344 - acc: 0.5062 - val_loss: 284.8379 - val_acc: 0.5404\n",
      "Epoch 3/20\n",
      "11200/11200 [==============================] - 179s 16ms/step - loss: 183.4937 - acc: 0.6225 - val_loss: 84.6330 - val_acc: 0.8525\n",
      "Epoch 4/20\n",
      "11200/11200 [==============================] - 179s 16ms/step - loss: 79.7597 - acc: 0.8613 - val_loss: 71.8345 - val_acc: 0.8750\n",
      "Epoch 5/20\n",
      "11200/11200 [==============================] - 179s 16ms/step - loss: 65.8145 - acc: 0.8792 - val_loss: 59.4619 - val_acc: 0.9004\n",
      "Epoch 6/20\n",
      "11200/11200 [==============================] - 178s 16ms/step - loss: 58.2424 - acc: 0.8921 - val_loss: 59.0013 - val_acc: 0.8482\n",
      "Epoch 7/20\n",
      "11200/11200 [==============================] - 179s 16ms/step - loss: 51.5979 - acc: 0.9017 - val_loss: 48.8501 - val_acc: 0.9139\n",
      "Epoch 8/20\n",
      "11200/11200 [==============================] - 178s 16ms/step - loss: 48.1302 - acc: 0.9061 - val_loss: 45.9113 - val_acc: 0.9136\n",
      "Epoch 9/20\n",
      "11200/11200 [==============================] - 178s 16ms/step - loss: 43.3920 - acc: 0.9125 - val_loss: 37.2520 - val_acc: 0.9189\n",
      "Epoch 10/20\n",
      "11200/11200 [==============================] - 178s 16ms/step - loss: 39.8819 - acc: 0.9104 - val_loss: 35.9590 - val_acc: 0.8936\n",
      "Epoch 11/20\n",
      "11200/11200 [==============================] - 178s 16ms/step - loss: 37.9187 - acc: 0.9148 - val_loss: 38.5657 - val_acc: 0.9121\n",
      "Epoch 12/20\n",
      "11200/11200 [==============================] - 178s 16ms/step - loss: 34.8878 - acc: 0.9188 - val_loss: 33.9449 - val_acc: 0.9232\n",
      "Epoch 13/20\n",
      "11200/11200 [==============================] - 178s 16ms/step - loss: 31.9600 - acc: 0.9204 - val_loss: 37.2814 - val_acc: 0.9271\n",
      "Epoch 14/20\n",
      "11200/11200 [==============================] - 178s 16ms/step - loss: 29.7167 - acc: 0.9247 - val_loss: 32.3822 - val_acc: 0.9246\n",
      "Epoch 15/20\n",
      "11200/11200 [==============================] - 178s 16ms/step - loss: 27.0464 - acc: 0.9236 - val_loss: 31.4286 - val_acc: 0.9243\n",
      "Epoch 16/20\n",
      "11200/11200 [==============================] - 178s 16ms/step - loss: 25.1869 - acc: 0.9251 - val_loss: 39.5276 - val_acc: 0.9229\n",
      "Epoch 17/20\n",
      "11200/11200 [==============================] - 178s 16ms/step - loss: 22.6123 - acc: 0.9277 - val_loss: 33.9496 - val_acc: 0.9218\n",
      "Epoch 18/20\n",
      "11200/11200 [==============================] - 178s 16ms/step - loss: 21.0278 - acc: 0.9286 - val_loss: 30.8842 - val_acc: 0.9232\n",
      "Epoch 00018: early stopping\n"
     ]
    }
   ],
   "source": [
    "#estimator = KerasRegressor(build_fn=model, epochs=10, batch_size=5, verbose=0)\n",
    "#estimator.fit(X_train,Y_train_new)\n",
    "earlystop = EarlyStopping(monitor='val_acc', min_delta=0.0001, patience=5,verbose=1, mode='auto')\n",
    "callbacks_list = [earlystop]\n",
    "history=model.fit(X_train,Y_train_new, validation_split = 0.2 , batch_size = 8, callbacks = callbacks_list,epochs =20,verbose = 1)"
   ]
  },
  {
   "cell_type": "code",
   "execution_count": 6,
   "metadata": {
    "colab": {
     "base_uri": "https://localhost:8080/",
     "height": 752
    },
    "colab_type": "code",
    "id": "AYb6NT49544J",
    "outputId": "efa320d9-8e9f-4a5b-95f5-bf5a5c916a58"
   },
   "outputs": [
    {
     "name": "stdout",
     "output_type": "stream",
     "text": [
      "dict_keys(['val_loss', 'val_acc', 'loss', 'acc'])\n"
     ]
    },
    {
     "data": {
      "image/png": "[encoded data removed]",
      "text/plain": [
       "<Figure size 576x396 with 1 Axes>"
      ]
     },
     "metadata": {
      "tags": []
     },
     "output_type": "display_data"
    },
    {
     "data": {
      "image/png": "[encoded data removed]",
      "text/plain": [
       "<Figure size 576x396 with 1 Axes>"
      ]
     },
     "metadata": {
      "tags": []
     },
     "output_type": "display_data"
    }
   ],
   "source": [
    "# list all data in history\n",
    "print(history.history.keys())\n",
    "# summarize history for accuracy\n",
    "plt.plot(history.history['acc'])\n",
    "plt.plot(history.history['val_acc'])\n",
    "plt.title('model accuracy')\n",
    "plt.ylabel('accuracy')\n",
    "plt.xlabel('epoch')\n",
    "plt.legend(['train', 'test'], loc='upper left')\n",
    "plt.show()\n",
    "# summarize history for loss\n",
    "plt.plot(history.history['loss'])\n",
    "plt.plot(history.history['val_loss'])\n",
    "plt.title('model loss')\n",
    "plt.ylabel('loss')\n",
    "plt.xlabel('epoch')\n",
    "plt.legend(['train', 'test'], loc='upper left')\n",
    "plt.show()"
   ]
  },
  {
   "cell_type": "code",
   "execution_count": 8,
   "metadata": {
    "colab": {
     "base_uri": "https://localhost:8080/",
     "height": 34
    },
    "colab_type": "code",
    "id": "1qNDMFJw544c",
    "outputId": "f002bfcc-8f60-46e0-b2de-61549d883d90"
   },
   "outputs": [
    {
     "name": "stdout",
     "output_type": "stream",
     "text": [
      "(12815, 128, 128, 1)\n"
     ]
    }
   ],
   "source": [
    "X_test = np.load('/content/drive/My Drive/Updated_Data/Test_Processed_128.npy')\n",
    "X_test = X_test/255\n",
    "X_test = X_test.reshape(X_test.shape[0],X_test.shape[1],X_test.shape[2],1)\n",
    "X_test = X_test - mean\n",
    "X_test = X_test / std\n",
    "print(X_test.shape)\n",
    "#X_test = X_test.reshape(X_test.shape[0],X_test.shape[1],X_test.shape[2],1)\n",
    "model.save_weights('custom2_3_weights.h5')"
   ]
  },
  {
   "cell_type": "code",
   "execution_count": 0,
   "metadata": {
    "colab": {},
    "colab_type": "code",
    "id": "tD38Gt1f544-"
   },
   "outputs": [],
   "source": [
    "Y_predicted = model.predict(X_test)"
   ]
  },
  {
   "cell_type": "code",
   "execution_count": 10,
   "metadata": {
    "colab": {
     "base_uri": "https://localhost:8080/",
     "height": 34
    },
    "colab_type": "code",
    "id": "pgmDG6iV545k",
    "outputId": "b4d631d5-c26b-49e0-e696-7ce7554e3cca"
   },
   "outputs": [
    {
     "name": "stdout",
     "output_type": "stream",
     "text": [
      "(12815, 4)\n"
     ]
    }
   ],
   "source": [
    "print(Y_predicted.shape)\n",
    "for i in range(0,Y_predicted.shape[0]):\n",
    "    Y_predicted[i][0] = Y_predicted[i][0] / xscale\n",
    "    Y_predicted[i][1] = Y_predicted[i][1] / xscale\n",
    "    Y_predicted[i][2] = Y_predicted[i][2] / yscale\n",
    "    Y_predicted[i][3] = Y_predicted[i][3] / yscale"
   ]
  },
  {
   "cell_type": "code",
   "execution_count": 11,
   "metadata": {
    "colab": {
     "base_uri": "https://localhost:8080/",
     "height": 416
    },
    "colab_type": "code",
    "id": "KbuQI1So5455",
    "outputId": "d3828dbb-4e64-4ae6-9103-81d0953ef4f8"
   },
   "outputs": [
    {
     "name": "stdout",
     "output_type": "stream",
     "text": [
      "(12815, 1)\n",
      "(12815, 1)\n",
      "[['JPEG_20161129_130901_1000335000914.png']\n",
      " ['JPEG_20161209_201456_100034997460.png']\n",
      " ['14751585951781.png']\n",
      " ...\n",
      " ['JPEG_20160630_165248_1000513257867.png']\n",
      " ['1467548589518Odomos-Oil-Pack.png']\n",
      " ['1480334022239_R2A3610.png']]\n",
      "(12815, 5)\n",
      "[['JPEG_20161129_130901_1000335000914.png' '87.610634' '600.2036'\n",
      "  '116.61931' '365.81793']\n",
      " ['JPEG_20161209_201456_100034997460.png' '165.46233' '453.78146'\n",
      "  '96.82457' '349.06177']\n",
      " ['14751585951781.png' '158.67795' '542.9264' '66.22692' '396.4009']\n",
      " ...\n",
      " ['JPEG_20160630_165248_1000513257867.png' '226.13455' '423.87296'\n",
      "  '98.36438' '323.1986']\n",
      " ['1467548589518Odomos-Oil-Pack.png' '50.45762' '605.2845' '22.133202'\n",
      "  '444.2672']\n",
      " ['1480334022239_R2A3610.png' '137.6822' '455.89648' '51.407803'\n",
      "  '317.8304']]\n"
     ]
    },
    {
     "data": {
      "text/plain": [
       "numpy.str_"
      ]
     },
     "execution_count": 11,
     "metadata": {
      "tags": []
     },
     "output_type": "execute_result"
    }
   ],
   "source": [
    "X_label = np.load('/content/drive/My Drive/Updated_Data/X_test.npy')\n",
    "X_label = X_label.reshape(X_label.shape[0],1)\n",
    "print(X_label.shape)\n",
    "for i in range(0,X_label.shape[0]):\n",
    "  X_label[i] = X_label[i][0].split('/')[2]\n",
    "\n",
    "print(X_label.shape)\n",
    "print(X_label)\n",
    "DF = np.concatenate((X_label, Y_predicted), axis=1)\n",
    "print(DF.shape)\n",
    "print(DF)\n",
    "type(DF[0][2])"
   ]
  },
  {
   "cell_type": "code",
   "execution_count": 0,
   "metadata": {
    "colab": {},
    "colab_type": "code",
    "id": "wVM99ip_5462"
   },
   "outputs": [],
   "source": [
    "import pandas as pd\n",
    "out = pd.DataFrame({'image_name':DF[:,0],'x1':DF[:,1],'x2':DF[:,2],'y1':DF[:,3],'y2':DF[:,4]})"
   ]
  },
  {
   "cell_type": "code",
   "execution_count": 13,
   "metadata": {
    "colab": {
     "base_uri": "https://localhost:8080/",
     "height": 34
    },
    "colab_type": "code",
    "id": "s6L18Jo1547F",
    "outputId": "c0f92909-1d23-4f8b-b809-278a2e620ad3"
   },
   "outputs": [
    {
     "name": "stdout",
     "output_type": "stream",
     "text": [
      "(12815, 5)\n"
     ]
    }
   ],
   "source": [
    "print(out.shape)\n",
    "out.to_csv('new3.csv')"
   ]
  },
  {
   "cell_type": "code",
   "execution_count": 14,
   "metadata": {
    "colab": {
     "base_uri": "https://localhost:8080/",
     "height": 52
    },
    "colab_type": "code",
    "id": "Nd2W0HXSF2TW",
    "outputId": "f06b30ac-4d1f-4c05-cd03-bfa8ac04d3cb"
   },
   "outputs": [
    {
     "name": "stdout",
     "output_type": "stream",
     "text": [
      "Uploaded file with ID 1d3MoVpamrgduxvpfFrAwfy_iG-K604_I\n",
      "Uploaded file with ID 1YSTbjyOX0tCRY96lR82Aw9taC66JecIH\n"
     ]
    }
   ],
   "source": [
    "from pydrive.auth import GoogleAuth\n",
    "from pydrive.drive import GoogleDrive\n",
    "from google.colab import auth\n",
    "from oauth2client.client import GoogleCredentials\n",
    "\n",
    "auth.authenticate_user()\n",
    "gauth = GoogleAuth()\n",
    "gauth.credentials = GoogleCredentials.get_application_default()\n",
    "drive = GoogleDrive(gauth)\n",
    "\n",
    "uploaded = drive.CreateFile({'title': 'predictions_model8.csv'})\n",
    "uploaded.SetContentFile('new3.csv')\n",
    "uploaded.Upload()\n",
    "print('Uploaded file with ID {}'.format(uploaded.get('id')))\n",
    "\n",
    "uploaded = drive.CreateFile({'title': 'new3_weights.h5'})\n",
    "uploaded.SetContentFile('custom2_3_weights.h5')\n",
    "uploaded.Upload()\n",
    "print('Uploaded file with ID {}'.format(uploaded.get('id')))"
   ]
  },
  {
   "cell_type": "code",
   "execution_count": 0,
   "metadata": {
    "colab": {
     "base_uri": "https://localhost:8080/",
     "height": 34
    },
    "colab_type": "code",
    "id": "E7j7N4FFGGPU",
    "outputId": "7b582ed5-a38e-48e3-db9f-e55ab76608e1"
   },
   "outputs": [
    {
     "name": "stdout",
     "output_type": "stream",
     "text": [
      "adc.json  custom2_2_weights.h5\tdrive  predictions.csv\tsample_data\n"
     ]
    }
   ],
   "source": [
    "!ls\n"
   ]
  },
  {
   "cell_type": "code",
   "execution_count": 0,
   "metadata": {
    "colab": {
     "base_uri": "https://localhost:8080/",
     "height": 34
    },
    "colab_type": "code",
    "id": "gKBwpmMKIQEY",
    "outputId": "effa172a-5869-4712-b494-813a90694754"
   },
   "outputs": [
    {
     "name": "stdout",
     "output_type": "stream",
     "text": [
      "Uploaded file with ID 1WASMezxve0OfczQQ_mu9E64Pa7EdzsBq\n"
     ]
    }
   ],
   "source": []
  },
  {
   "cell_type": "code",
   "execution_count": 0,
   "metadata": {
    "colab": {},
    "colab_type": "code",
    "id": "A_Nr7cRBIawM"
   },
   "outputs": [],
   "source": []
  }
 ],
 "metadata": {
  "accelerator": "GPU",
  "colab": {
   "collapsed_sections": [],
   "name": "Custom2.ipynb",
   "provenance": [],
   "version": "0.3.2"
  },
  "kernelspec": {
   "display_name": "Python 3",
   "language": "python",
   "name": "python3"
  },
  "language_info": {
   "codemirror_mode": {
    "name": "ipython",
    "version": 3
   },
   "file_extension": ".py",
   "mimetype": "text/x-python",
   "name": "python",
   "nbconvert_exporter": "python",
   "pygments_lexer": "ipython3",
   "version": "3.6.7"
  }
 },
 "nbformat": 4,
 "nbformat_minor": 1
}
