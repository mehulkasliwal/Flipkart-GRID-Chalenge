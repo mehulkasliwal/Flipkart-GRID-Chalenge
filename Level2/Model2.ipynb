{
 "cells": [
  {
   "cell_type": "code",
   "execution_count": 59,
   "metadata": {
    "colab": {
     "base_uri": "https://localhost:8080/",
     "height": 34
    },
    "colab_type": "code",
    "id": "ZFTBUoGY61rM",
    "outputId": "89c1a9a2-a7e2-4b91-f799-f38668a093b0"
   },
   "outputs": [
    {
     "name": "stdout",
     "output_type": "stream",
     "text": [
      "Drive already mounted at /content/drive; to attempt to forcibly remount, call drive.mount(\"/content/drive\", force_remount=True).\n"
     ]
    }
   ],
   "source": [
    "from google.colab import drive\n",
    "drive.mount('/content/drive')"
   ]
  },
  {
   "cell_type": "code",
   "execution_count": 60,
   "metadata": {
    "colab": {
     "base_uri": "https://localhost:8080/",
     "height": 86
    },
    "colab_type": "code",
    "id": "sZ4jKPP1628n",
    "outputId": "ff4f2941-c9f3-4ea9-915c-2b7b53ddbf2c"
   },
   "outputs": [
    {
     "name": "stdout",
     "output_type": "stream",
     "text": [
      "(14000, 64, 64, 1)\n",
      "(14000, 1, 4)\n",
      "(14000, 4)\n",
      "14000\n"
     ]
    }
   ],
   "source": [
    "from keras.models import Sequential, Model\n",
    "from keras import layers\n",
    "from keras.layers import Reshape, Activation, Conv2D, Input, MaxPooling2D, BatchNormalization, Flatten, Dense, Lambda,GlobalAveragePooling2D\n",
    "from keras.layers.advanced_activations import LeakyReLU\n",
    "from keras.callbacks import EarlyStopping, ModelCheckpoint, TensorBoard\n",
    "from keras.optimizers import SGD, Adam, RMSprop\n",
    "from keras.layers.merge import concatenate\n",
    "import matplotlib.pyplot as plt\n",
    "import keras.backend as K\n",
    "import tensorflow as tf\n",
    "import numpy as np\n",
    "from keras import optimizers\n",
    "from keras.applications.vgg16 import VGG16\n",
    "from keras.wrappers.scikit_learn import KerasRegressor\n",
    "from sklearn.model_selection import cross_val_score, KFold\n",
    "from google.colab import drive\n",
    "\n",
    "xscale = 64/640\n",
    "yscale = 64/480\n",
    "X_train = np.load('/content/drive/My Drive/Updated_Data/Train_Processed_64.npy')\n",
    "Y_train = np.load('/content/drive/My Drive/Updated_Data/Y_train.npy')\n",
    "X_train = X_train.reshape(X_train.shape[0],X_train.shape[1],X_train.shape[2],1)\n",
    "print(X_train.shape)\n",
    "print(Y_train.shape)\n",
    "Y_train_new = []\n",
    "for i in range(0,Y_train.shape[0]):\n",
    "    Y_train_new.append(Y_train[i][0])\n",
    "Y_train_new = np.asarray(Y_train_new)\n",
    "print(Y_train_new.shape)\n",
    "print(Y_train_new.shape[0])\n",
    "for i in range(0,Y_train_new.shape[0]):\n",
    "    Y_train_new[i][0] = Y_train_new[i][0] * xscale\n",
    "    Y_train_new[i][1] = Y_train_new[i][1] * xscale\n",
    "    Y_train_new[i][2] = Y_train_new[i][2] * yscale\n",
    "    Y_train_new[i][3] = Y_train_new[i][3] * yscale\n",
    "X_train = X_train/255"
   ]
  },
  {
   "cell_type": "code",
   "execution_count": 0,
   "metadata": {
    "colab": {},
    "colab_type": "code",
    "id": "57AD_b59543J"
   },
   "outputs": [],
   "source": [
    "input_1 = Input(shape = (64,64,1))\n",
    "# Block 1\n",
    "x = layers.Conv2D(64, (3, 3),\n",
    "                  activation='relu',\n",
    "                  padding='same',\n",
    "                  name='block1_conv1')(input_1)\n",
    "x = layers.Conv2D(64, (3, 3),\n",
    "                  activation='relu',\n",
    "                  padding='same',\n",
    "                  name='block1_conv2')(x)\n",
    "x = layers.MaxPooling2D((2, 2), strides=(2, 2), name='block1_pool')(x)\n",
    "\n",
    "# Block 2\n",
    "x = layers.Conv2D(128, (3, 3),\n",
    "                  activation='relu',\n",
    "                  padding='same',\n",
    "                  name='block2_conv1')(x)\n",
    "\n",
    "x = layers.Conv2D(128, (3, 3),\n",
    "                  activation='relu',\n",
    "                  padding='same',\n",
    "                  name='block2_conv2')(x)\n",
    "x = layers.MaxPooling2D((2, 2), strides=(2, 2), name='block2_pool')(x)\n",
    "\n",
    "# Block 3\n",
    "x = layers.Conv2D(256, (3, 3),\n",
    "                  activation='relu',\n",
    "                  padding='same',\n",
    "                  name='block3_conv1')(x)\n",
    "\n",
    "x = layers.Conv2D(256, (3, 3),\n",
    "                  activation='relu',\n",
    "                  padding='same',\n",
    "                  name='block3_conv2')(x)\n",
    "x = layers.Conv2D(256, (3, 3),\n",
    "                  activation='relu',\n",
    "                  padding='same',\n",
    "                  name='block3_conv3')(x)\n",
    "x = layers.MaxPooling2D((2, 2), strides=(2, 2), name='block3_pool')(x)\n",
    "\n",
    "# Block 4\n",
    "x = layers.Conv2D(512, (3, 3),\n",
    "                  activation='relu',\n",
    "                  padding='same',\n",
    "                  name='block4_conv1')(x)\n",
    "\n",
    "x = layers.Conv2D(512, (3, 3),\n",
    "                  activation='relu',\n",
    "                  padding='same',\n",
    "                  name='block4_conv2')(x)\n",
    "x = layers.Conv2D(512, (3, 3),\n",
    "                  activation='relu',\n",
    "                  padding='same',\n",
    "                  name='block4_conv3')(x)\n",
    "x = layers.MaxPooling2D((2, 2), strides=(2, 2), name='block4_pool')(x)\n",
    "\n",
    "# Block 5\n",
    "x = layers.Conv2D(512, (3, 3),\n",
    "                  activation='relu',\n",
    "                  padding='same',\n",
    "                  name='block5_conv1')(x)\n",
    "\n",
    "x = layers.Conv2D(512, (3, 3),\n",
    "                  activation='relu',\n",
    "                  padding='same',\n",
    "                  name='block5_conv2')(x)\n",
    "x = layers.Conv2D(512, (3, 3),\n",
    "                  activation='relu',\n",
    "                  padding='same',\n",
    "                  name='block5_conv3')(x)\n",
    "x = layers.MaxPooling2D((2, 2), strides=(2, 2), name='block5_pool')(x)\n",
    "x = GlobalAveragePooling2D()(x)\n",
    "x = Dense(1024, activation='relu')(x)\n",
    "predictions = Dense(4,kernel_initializer='normal')(x)\n",
    "model = Model(inputs=input_1, outputs=predictions)\n"
   ]
  },
  {
   "cell_type": "code",
   "execution_count": 65,
   "metadata": {
    "colab": {
     "base_uri": "https://localhost:8080/",
     "height": 903
    },
    "colab_type": "code",
    "id": "DbV6O0Tq543c",
    "outputId": "16f83d3a-db7f-42df-e990-54b83c3b530a"
   },
   "outputs": [
    {
     "name": "stdout",
     "output_type": "stream",
     "text": [
      "_________________________________________________________________\n",
      "Layer (type)                 Output Shape              Param #   \n",
      "=================================================================\n",
      "input_4 (InputLayer)         (None, 64, 64, 1)         0         \n",
      "_________________________________________________________________\n",
      "block1_conv1 (Conv2D)        (None, 64, 64, 64)        640       \n",
      "_________________________________________________________________\n",
      "block1_conv2 (Conv2D)        (None, 64, 64, 64)        36928     \n",
      "_________________________________________________________________\n",
      "block1_pool (MaxPooling2D)   (None, 32, 32, 64)        0         \n",
      "_________________________________________________________________\n",
      "block2_conv1 (Conv2D)        (None, 32, 32, 128)       73856     \n",
      "_________________________________________________________________\n",
      "block2_conv2 (Conv2D)        (None, 32, 32, 128)       147584    \n",
      "_________________________________________________________________\n",
      "block2_pool (MaxPooling2D)   (None, 16, 16, 128)       0         \n",
      "_________________________________________________________________\n",
      "block3_conv1 (Conv2D)        (None, 16, 16, 256)       295168    \n",
      "_________________________________________________________________\n",
      "block3_conv2 (Conv2D)        (None, 16, 16, 256)       590080    \n",
      "_________________________________________________________________\n",
      "block3_conv3 (Conv2D)        (None, 16, 16, 256)       590080    \n",
      "_________________________________________________________________\n",
      "block3_pool (MaxPooling2D)   (None, 8, 8, 256)         0         \n",
      "_________________________________________________________________\n",
      "block4_conv1 (Conv2D)        (None, 8, 8, 512)         1180160   \n",
      "_________________________________________________________________\n",
      "block4_conv2 (Conv2D)        (None, 8, 8, 512)         2359808   \n",
      "_________________________________________________________________\n",
      "block4_conv3 (Conv2D)        (None, 8, 8, 512)         2359808   \n",
      "_________________________________________________________________\n",
      "block4_pool (MaxPooling2D)   (None, 4, 4, 512)         0         \n",
      "_________________________________________________________________\n",
      "block5_conv1 (Conv2D)        (None, 4, 4, 512)         2359808   \n",
      "_________________________________________________________________\n",
      "block5_conv2 (Conv2D)        (None, 4, 4, 512)         2359808   \n",
      "_________________________________________________________________\n",
      "block5_conv3 (Conv2D)        (None, 4, 4, 512)         2359808   \n",
      "_________________________________________________________________\n",
      "block5_pool (MaxPooling2D)   (None, 2, 2, 512)         0         \n",
      "_________________________________________________________________\n",
      "global_average_pooling2d_4 ( (None, 512)               0         \n",
      "_________________________________________________________________\n",
      "dense_7 (Dense)              (None, 1024)              525312    \n",
      "_________________________________________________________________\n",
      "dense_8 (Dense)              (None, 4)                 4100      \n",
      "=================================================================\n",
      "Total params: 15,242,948\n",
      "Trainable params: 15,242,948\n",
      "Non-trainable params: 0\n",
      "_________________________________________________________________\n"
     ]
    }
   ],
   "source": [
    "model.summary()\n",
    "rms = optimizers.RMSprop(lr=0.0001, rho=0.9)\n",
    "model.compile(loss='mean_squared_error', optimizer='adam',metrics=['accuracy'])"
   ]
  },
  {
   "cell_type": "code",
   "execution_count": 66,
   "metadata": {
    "colab": {
     "base_uri": "https://localhost:8080/",
     "height": 729
    },
    "colab_type": "code",
    "id": "Woeu6iEP5433",
    "outputId": "34aaafe5-eeb7-4f55-e151-7f7fbbe74937"
   },
   "outputs": [
    {
     "name": "stdout",
     "output_type": "stream",
     "text": [
      "Train on 11200 samples, validate on 2800 samples\n",
      "Epoch 1/20\n",
      "11200/11200 [==============================] - 119s 11ms/step - loss: 1503.0184 - acc: 0.5131 - val_loss: 60.0309 - val_acc: 0.5496\n",
      "Epoch 2/20\n",
      "11200/11200 [==============================] - 117s 10ms/step - loss: 55.7025 - acc: 0.5147 - val_loss: 53.7606 - val_acc: 0.5496\n",
      "Epoch 3/20\n",
      "11200/11200 [==============================] - 117s 10ms/step - loss: 45.7635 - acc: 0.6109 - val_loss: 27.1477 - val_acc: 0.7843\n",
      "Epoch 4/20\n",
      "11200/11200 [==============================] - 117s 10ms/step - loss: 23.1524 - acc: 0.8383 - val_loss: 19.1770 - val_acc: 0.8818\n",
      "Epoch 5/20\n",
      "11200/11200 [==============================] - 117s 10ms/step - loss: 16.2789 - acc: 0.8732 - val_loss: 13.3516 - val_acc: 0.8986\n",
      "Epoch 6/20\n",
      "11200/11200 [==============================] - 117s 10ms/step - loss: 14.4697 - acc: 0.8824 - val_loss: 13.0756 - val_acc: 0.9057\n",
      "Epoch 7/20\n",
      "11200/11200 [==============================] - 117s 10ms/step - loss: 13.2256 - acc: 0.8927 - val_loss: 11.5650 - val_acc: 0.8854\n",
      "Epoch 8/20\n",
      "11200/11200 [==============================] - 117s 10ms/step - loss: 12.5712 - acc: 0.8971 - val_loss: 11.7701 - val_acc: 0.8857\n",
      "Epoch 9/20\n",
      "11200/11200 [==============================] - 117s 10ms/step - loss: 11.7883 - acc: 0.8972 - val_loss: 11.0462 - val_acc: 0.9071\n",
      "Epoch 10/20\n",
      "11200/11200 [==============================] - 117s 10ms/step - loss: 11.6391 - acc: 0.9001 - val_loss: 12.1157 - val_acc: 0.9086\n",
      "Epoch 11/20\n",
      "11200/11200 [==============================] - 117s 10ms/step - loss: 10.7386 - acc: 0.9004 - val_loss: 11.5182 - val_acc: 0.9050\n",
      "Epoch 12/20\n",
      "11200/11200 [==============================] - 117s 10ms/step - loss: 10.7105 - acc: 0.9037 - val_loss: 10.6742 - val_acc: 0.9096\n",
      "Epoch 13/20\n",
      "11200/11200 [==============================] - 117s 10ms/step - loss: 9.8494 - acc: 0.9069 - val_loss: 11.2678 - val_acc: 0.8996\n",
      "Epoch 14/20\n",
      "11200/11200 [==============================] - 117s 10ms/step - loss: 9.5835 - acc: 0.9062 - val_loss: 10.3381 - val_acc: 0.9150\n",
      "Epoch 15/20\n",
      "11200/11200 [==============================] - 117s 10ms/step - loss: 9.1818 - acc: 0.9080 - val_loss: 10.3680 - val_acc: 0.9182\n",
      "Epoch 16/20\n",
      "11200/11200 [==============================] - 117s 10ms/step - loss: 8.3958 - acc: 0.9116 - val_loss: 13.3772 - val_acc: 0.9061\n",
      "Epoch 17/20\n",
      "11200/11200 [==============================] - 117s 10ms/step - loss: 8.3518 - acc: 0.9180 - val_loss: 13.8381 - val_acc: 0.9021\n",
      "Epoch 18/20\n",
      "11200/11200 [==============================] - 117s 10ms/step - loss: 8.0326 - acc: 0.9133 - val_loss: 10.5880 - val_acc: 0.8961\n",
      "Epoch 19/20\n",
      "11200/11200 [==============================] - 117s 10ms/step - loss: 7.6358 - acc: 0.9141 - val_loss: 9.9747 - val_acc: 0.9125\n",
      "Epoch 20/20\n",
      "11200/11200 [==============================] - 117s 10ms/step - loss: 7.5290 - acc: 0.9163 - val_loss: 11.2509 - val_acc: 0.8825\n"
     ]
    }
   ],
   "source": [
    "#estimator = KerasRegressor(build_fn=model, epochs=10, batch_size=5, verbose=0)\n",
    "#estimator.fit(X_train,Y_train_new)\n",
    "history=model.fit(X_train,Y_train_new, validation_split = 0.2 , batch_size = 8, epochs =20,verbose = 1)"
   ]
  },
  {
   "cell_type": "code",
   "execution_count": 67,
   "metadata": {
    "colab": {
     "base_uri": "https://localhost:8080/",
     "height": 752
    },
    "colab_type": "code",
    "id": "AYb6NT49544J",
    "outputId": "57c66b04-3637-49f2-aea3-2da24deb4344"
   },
   "outputs": [
    {
     "name": "stdout",
     "output_type": "stream",
     "text": [
      "dict_keys(['val_loss', 'val_acc', 'loss', 'acc'])\n"
     ]
    },
    {
     "data": {
      "image/png": "[encoded data removed]",
      "text/plain": [
       "<Figure size 576x396 with 1 Axes>"
      ]
     },
     "metadata": {
      "tags": []
     },
     "output_type": "display_data"
    },
    {
     "data": {
      "image/png": "[encoded data removed]",
      "text/plain": [
       "<Figure size 576x396 with 1 Axes>"
      ]
     },
     "metadata": {
      "tags": []
     },
     "output_type": "display_data"
    }
   ],
   "source": [
    "# list all data in history\n",
    "print(history.history.keys())\n",
    "# summarize history for accuracy\n",
    "plt.plot(history.history['acc'])\n",
    "plt.plot(history.history['val_acc'])\n",
    "plt.title('model accuracy')\n",
    "plt.ylabel('accuracy')\n",
    "plt.xlabel('epoch')\n",
    "plt.legend(['train', 'test'], loc='upper left')\n",
    "plt.show()\n",
    "# summarize history for loss\n",
    "plt.plot(history.history['loss'])\n",
    "plt.plot(history.history['val_loss'])\n",
    "plt.title('model loss')\n",
    "plt.ylabel('loss')\n",
    "plt.xlabel('epoch')\n",
    "plt.legend(['train', 'test'], loc='upper left')\n",
    "plt.show()"
   ]
  },
  {
   "cell_type": "code",
   "execution_count": 0,
   "metadata": {
    "colab": {},
    "colab_type": "code",
    "id": "1qNDMFJw544c"
   },
   "outputs": [],
   "source": [
    "X_test = np.load('/content/drive/My Drive/Updated_Data/Test_Processed_64.npy')\n",
    "X_test = X_test/255"
   ]
  },
  {
   "cell_type": "code",
   "execution_count": 69,
   "metadata": {
    "colab": {
     "base_uri": "https://localhost:8080/",
     "height": 34
    },
    "colab_type": "code",
    "id": "pMyDBeit544p",
    "outputId": "1c41a66f-23ed-48d4-e89e-4cc2ece765dc"
   },
   "outputs": [
    {
     "name": "stdout",
     "output_type": "stream",
     "text": [
      "(12815, 64, 64)\n"
     ]
    }
   ],
   "source": [
    "print(X_test.shape)\n",
    "X_test = X_test.reshape(X_test.shape[0],X_test.shape[1],X_test.shape[2],1)\n",
    "model.save_weights('custom2_3_weights.h5')\n"
   ]
  },
  {
   "cell_type": "code",
   "execution_count": 0,
   "metadata": {
    "colab": {},
    "colab_type": "code",
    "id": "tD38Gt1f544-"
   },
   "outputs": [],
   "source": [
    "Y_predicted = model.predict(X_test)"
   ]
  },
  {
   "cell_type": "code",
   "execution_count": 71,
   "metadata": {
    "colab": {
     "base_uri": "https://localhost:8080/",
     "height": 34
    },
    "colab_type": "code",
    "id": "pgmDG6iV545k",
    "outputId": "3a4fed6f-513c-4e4b-c6df-daba223af6f9"
   },
   "outputs": [
    {
     "name": "stdout",
     "output_type": "stream",
     "text": [
      "(12815, 4)\n"
     ]
    }
   ],
   "source": [
    "print(Y_predicted.shape)\n",
    "for i in range(0,Y_predicted.shape[0]):\n",
    "    Y_predicted[i][0] = Y_predicted[i][0] / xscale\n",
    "    Y_predicted[i][1] = Y_predicted[i][1] / xscale\n",
    "    Y_predicted[i][2] = Y_predicted[i][2] / yscale\n",
    "    Y_predicted[i][3] = Y_predicted[i][3] / yscale"
   ]
  },
  {
   "cell_type": "code",
   "execution_count": 72,
   "metadata": {
    "colab": {
     "base_uri": "https://localhost:8080/",
     "height": 416
    },
    "colab_type": "code",
    "id": "KbuQI1So5455",
    "outputId": "bc0e86bb-f79c-432c-b686-48d84507c5d0"
   },
   "outputs": [
    {
     "name": "stdout",
     "output_type": "stream",
     "text": [
      "(12815, 1)\n",
      "(12815, 1)\n",
      "[['JPEG_20161129_130901_1000335000914.png']\n",
      " ['JPEG_20161209_201456_100034997460.png']\n",
      " ['14751585951781.png']\n",
      " ...\n",
      " ['JPEG_20160630_165248_1000513257867.png']\n",
      " ['1467548589518Odomos-Oil-Pack.png']\n",
      " ['1480334022239_R2A3610.png']]\n",
      "(12815, 5)\n",
      "[['JPEG_20161129_130901_1000335000914.png' '101.65134' '616.71497'\n",
      "  '90.04409' '338.6893']\n",
      " ['JPEG_20161209_201456_100034997460.png' '138.90833' '493.4007'\n",
      "  '129.50055' '435.6278']\n",
      " ['14751585951781.png' '153.03667' '541.17316' '48.947952' '416.52402']\n",
      " ...\n",
      " ['JPEG_20160630_165248_1000513257867.png' '223.84966' '431.22272'\n",
      "  '94.26671' '353.83292']\n",
      " ['1467548589518Odomos-Oil-Pack.png' '19.887207' '563.37756' '15.469036'\n",
      "  '474.1634']\n",
      " ['1480334022239_R2A3610.png' '153.5695' '441.50287' '51.432114'\n",
      "  '337.27637']]\n"
     ]
    },
    {
     "data": {
      "text/plain": [
       "numpy.str_"
      ]
     },
     "execution_count": 72,
     "metadata": {
      "tags": []
     },
     "output_type": "execute_result"
    }
   ],
   "source": [
    "X_label = np.load('/content/drive/My Drive/Updated_Data/X_test.npy')\n",
    "X_label = X_label.reshape(X_label.shape[0],1)\n",
    "print(X_label.shape)\n",
    "for i in range(0,X_label.shape[0]):\n",
    "  X_label[i] = X_label[i][0].split('/')[2]\n",
    "\n",
    "print(X_label.shape)\n",
    "print(X_label)\n",
    "DF = np.concatenate((X_label, Y_predicted), axis=1)\n",
    "print(DF.shape)\n",
    "print(DF)\n",
    "type(DF[0][2])"
   ]
  },
  {
   "cell_type": "code",
   "execution_count": 0,
   "metadata": {
    "colab": {},
    "colab_type": "code",
    "id": "wVM99ip_5462"
   },
   "outputs": [],
   "source": [
    "import pandas as pd\n",
    "out = pd.DataFrame({'image_name':DF[:,0],'x1':DF[:,1],'x2':DF[:,2],'y1':DF[:,3],'y2':DF[:,4]})"
   ]
  },
  {
   "cell_type": "code",
   "execution_count": 74,
   "metadata": {
    "colab": {
     "base_uri": "https://localhost:8080/",
     "height": 34
    },
    "colab_type": "code",
    "id": "s6L18Jo1547F",
    "outputId": "3ecae2f8-c2a5-4396-86e0-fe417bd76333"
   },
   "outputs": [
    {
     "name": "stdout",
     "output_type": "stream",
     "text": [
      "(12815, 5)\n"
     ]
    }
   ],
   "source": [
    "print(out.shape)\n",
    "out.to_csv('predictions2.csv')"
   ]
  },
  {
   "cell_type": "code",
   "execution_count": 75,
   "metadata": {
    "colab": {
     "base_uri": "https://localhost:8080/",
     "height": 52
    },
    "colab_type": "code",
    "id": "Nd2W0HXSF2TW",
    "outputId": "5e6c2a28-b1b4-43f1-85d4-4c03760e534a"
   },
   "outputs": [
    {
     "name": "stdout",
     "output_type": "stream",
     "text": [
      "Uploaded file with ID 1R54C_q55jIeCBDqcuNZgjUsuXURmx0a3\n",
      "Uploaded file with ID 1Q6bl2bln_TNDYqHbHYe-R8TnWn7zVhiL\n"
     ]
    }
   ],
   "source": [
    "from pydrive.auth import GoogleAuth\n",
    "from pydrive.drive import GoogleDrive\n",
    "from google.colab import auth\n",
    "from oauth2client.client import GoogleCredentials\n",
    "\n",
    "auth.authenticate_user()\n",
    "gauth = GoogleAuth()\n",
    "gauth.credentials = GoogleCredentials.get_application_default()\n",
    "drive = GoogleDrive(gauth)\n",
    "\n",
    "uploaded = drive.CreateFile({'title': 'predictions2.csv'})\n",
    "uploaded.SetContentFile('predictions2.csv')\n",
    "uploaded.Upload()\n",
    "print('Uploaded file with ID {}'.format(uploaded.get('id')))\n",
    "\n",
    "uploaded = drive.CreateFile({'title': 'custom2_3_weights.h5'})\n",
    "uploaded.SetContentFile('custom2_3_weights.h5')\n",
    "uploaded.Upload()\n",
    "print('Uploaded file with ID {}'.format(uploaded.get('id')))"
   ]
  },
  {
   "cell_type": "code",
   "execution_count": 49,
   "metadata": {
    "colab": {
     "base_uri": "https://localhost:8080/",
     "height": 34
    },
    "colab_type": "code",
    "id": "E7j7N4FFGGPU",
    "outputId": "7b582ed5-a38e-48e3-db9f-e55ab76608e1"
   },
   "outputs": [
    {
     "name": "stdout",
     "output_type": "stream",
     "text": [
      "adc.json  custom2_2_weights.h5\tdrive  predictions.csv\tsample_data\n"
     ]
    }
   ],
   "source": [
    "!ls\n"
   ]
  },
  {
   "cell_type": "code",
   "execution_count": 50,
   "metadata": {
    "colab": {
     "base_uri": "https://localhost:8080/",
     "height": 34
    },
    "colab_type": "code",
    "id": "gKBwpmMKIQEY",
    "outputId": "effa172a-5869-4712-b494-813a90694754"
   },
   "outputs": [
    {
     "name": "stdout",
     "output_type": "stream",
     "text": [
      "Uploaded file with ID 1WASMezxve0OfczQQ_mu9E64Pa7EdzsBq\n"
     ]
    }
   ],
   "source": []
  },
  {
   "cell_type": "code",
   "execution_count": 0,
   "metadata": {
    "colab": {},
    "colab_type": "code",
    "id": "A_Nr7cRBIawM"
   },
   "outputs": [],
   "source": []
  }
 ],
 "metadata": {
  "accelerator": "GPU",
  "colab": {
   "collapsed_sections": [],
   "name": "Custom2.ipynb",
   "provenance": [],
   "version": "0.3.2"
  },
  "kernelspec": {
   "display_name": "Python 3",
   "language": "python",
   "name": "python3"
  },
  "language_info": {
   "codemirror_mode": {
    "name": "ipython",
    "version": 3
   },
   "file_extension": ".py",
   "mimetype": "text/x-python",
   "name": "python",
   "nbconvert_exporter": "python",
   "pygments_lexer": "ipython3",
   "version": "3.6.7"
  }
 },
 "nbformat": 4,
 "nbformat_minor": 1
}
