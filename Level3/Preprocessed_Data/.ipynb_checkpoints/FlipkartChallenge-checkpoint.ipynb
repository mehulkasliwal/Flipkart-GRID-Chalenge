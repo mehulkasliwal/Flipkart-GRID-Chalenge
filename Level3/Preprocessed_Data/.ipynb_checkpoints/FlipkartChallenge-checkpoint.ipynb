{
 "cells": [
  {
   "cell_type": "code",
   "execution_count": 14,
   "metadata": {},
   "outputs": [],
   "source": [
    "import os \n",
    "import pandas as pd\n",
    "import numpy as np "
   ]
  },
  {
   "cell_type": "code",
   "execution_count": 15,
   "metadata": {},
   "outputs": [],
   "source": [
    "data_train = pd.read_csv(\"training_set.csv\")\n",
    "data_test = pd.read_csv(\"test.csv\")"
   ]
  },
  {
   "cell_type": "code",
   "execution_count": 16,
   "metadata": {},
   "outputs": [],
   "source": [
    "Y_training = data_train.iloc[:,1:]\n",
    "X_training = data_train.iloc[:,0:1]\n",
    "Y_testing = data_test.iloc[:,1:]\n",
    "X_testing = data_test.iloc[:,0:1]\n",
    "collectionArr = np.load('Files.npy')\n",
    "#Y_training"
   ]
  },
  {
   "cell_type": "code",
   "execution_count": 17,
   "metadata": {},
   "outputs": [],
   "source": [
    "X_train = []\n",
    "X_test = []\n",
    "Y_train =[]\n",
    "Y_test = []\n"
   ]
  },
  {
   "cell_type": "code",
   "execution_count": null,
   "metadata": {},
   "outputs": [
    {
     "name": "stdout",
     "output_type": "stream",
     "text": [
      "1000\n",
      "2000\n",
      "3000\n",
      "4000\n",
      "5000\n"
     ]
    }
   ],
   "source": [
    "counter = 0\n",
    "for each in collectionArr:\n",
    "    image_name = each.split('/')[2]\n",
    "    indexer1 = X_training.index[X_training['image_name'] == image_name]\n",
    "    indexer2 = X_testing.index[X_testing['image_name']== image_name]\n",
    "    if(indexer1.empty):\n",
    "        pass\n",
    "    else:\n",
    "        X_train.append(each)\n",
    "        #Y_train.append(Y_training.iloc[indexer1,:].values)\n",
    "        Y_train.append(Y_training.iloc[indexer1,:].values)\n",
    "    if(indexer2.empty):\n",
    "        pass\n",
    "    else:\n",
    "        X_test.append(each)\n",
    "    counter+=1\n",
    "    if(counter%1000==0):\n",
    "        print(counter)"
   ]
  },
  {
   "cell_type": "code",
   "execution_count": null,
   "metadata": {},
   "outputs": [],
   "source": [
    "np.save('X_train',X_train)\n",
    "np.save('Y_train',Y_train)\n",
    "np.save('X_test',X_test)\n"
   ]
  },
  {
   "cell_type": "code",
   "execution_count": null,
   "metadata": {},
   "outputs": [],
   "source": []
  }
 ],
 "metadata": {
  "kernelspec": {
   "display_name": "Python 3",
   "language": "python",
   "name": "python3"
  },
  "language_info": {
   "codemirror_mode": {
    "name": "ipython",
    "version": 3
   },
   "file_extension": ".py",
   "mimetype": "text/x-python",
   "name": "python",
   "nbconvert_exporter": "python",
   "pygments_lexer": "ipython3",
   "version": "3.6.8"
  }
 },
 "nbformat": 4,
 "nbformat_minor": 2
}
