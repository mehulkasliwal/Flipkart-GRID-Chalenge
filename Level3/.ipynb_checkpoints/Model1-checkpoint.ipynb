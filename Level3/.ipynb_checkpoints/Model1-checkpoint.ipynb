{
 "cells": [
  {
   "cell_type": "code",
   "execution_count": 1,
   "metadata": {
    "colab": {
     "base_uri": "https://localhost:8080/",
     "height": 124
    },
    "colab_type": "code",
    "id": "ZFTBUoGY61rM",
    "outputId": "74354f54-ed6a-4747-efff-fff51593634c"
   },
   "outputs": [
    {
     "name": "stdout",
     "output_type": "stream",
     "text": [
      "Go to this URL in a browser: https://accounts.google.com/o/oauth2/auth?client_id=947318989803-6bn6qk8qdgf4n4g3pfee6491hc0brc4i.apps.googleusercontent.com&redirect_uri=urn%3Aietf%3Awg%3Aoauth%3A2.0%3Aoob&scope=email%20https%3A%2F%2Fwww.googleapis.com%2Fauth%2Fdocs.test%20https%3A%2F%2Fwww.googleapis.com%2Fauth%2Fdrive%20https%3A%2F%2Fwww.googleapis.com%2Fauth%2Fdrive.photos.readonly%20https%3A%2F%2Fwww.googleapis.com%2Fauth%2Fpeopleapi.readonly&response_type=code\n",
      "\n",
      "Enter your authorization code:\n",
      "··········\n",
      "Mounted at /content/drive\n"
     ]
    }
   ],
   "source": [
    "from google.colab import drive\n",
    "drive.mount('/content/drive')"
   ]
  },
  {
   "cell_type": "code",
   "execution_count": 0,
   "metadata": {
    "colab": {},
    "colab_type": "code",
    "id": "IiZTd0TO3_Ud"
   },
   "outputs": [],
   "source": [
    "!kill -9 -1"
   ]
  },
  {
   "cell_type": "code",
   "execution_count": 2,
   "metadata": {
    "colab": {
     "base_uri": "https://localhost:8080/",
     "height": 139
    },
    "colab_type": "code",
    "id": "sZ4jKPP1628n",
    "outputId": "5abf0e3d-27dd-4785-8a51-a69179cc494f"
   },
   "outputs": [
    {
     "name": "stderr",
     "output_type": "stream",
     "text": [
      "Using TensorFlow backend.\n"
     ]
    },
    {
     "name": "stdout",
     "output_type": "stream",
     "text": [
      "(24000, 128, 128, 1)\n",
      "(24000, 1, 4)\n",
      "(24000, 4)\n",
      "24000\n",
      "Before  (128, 128, 1) (128, 128, 1)\n",
      "After  1.9350021989809434e-13 1.0000000000000013\n"
     ]
    }
   ],
   "source": [
    "from keras.models import Sequential, Model\n",
    "import keras\n",
    "from keras import layers\n",
    "from keras.layers import Reshape, Activation, Conv2D, Input, MaxPooling2D, BatchNormalization, Flatten, Dense, Lambda,GlobalAveragePooling2D,Dropout\n",
    "from keras.layers.advanced_activations import LeakyReLU\n",
    "from keras.callbacks import EarlyStopping, ModelCheckpoint, TensorBoard\n",
    "from keras.optimizers import SGD, Adam, RMSprop\n",
    "from keras.layers.merge import concatenate\n",
    "import matplotlib.pyplot as plt\n",
    "import keras.backend as K\n",
    "import tensorflow as tf\n",
    "import numpy as np\n",
    "from keras import optimizers\n",
    "#from keras.applications.vgg16 import VGG16\n",
    "#from keras.wrappers.scikit_learn import KerasRegressor\n",
    "from sklearn.model_selection import cross_val_score, KFold\n",
    "\n",
    "xscale = 128/640\n",
    "yscale = 128/480\n",
    "X_train = np.load('/content/drive/My Drive/Level3/Train_Processed_128.npy')\n",
    "Y_train = np.load('/content/drive/My Drive/Level3/Y_train.npy')\n",
    "X_train = X_train.reshape(X_train.shape[0],X_train.shape[1],X_train.shape[2],1)\n",
    "print(X_train.shape)\n",
    "print(Y_train.shape)\n",
    "Y_train_new = []\n",
    "for i in range(0,Y_train.shape[0]):\n",
    "    Y_train_new.append(Y_train[i][0])\n",
    "Y_train_new = np.asarray(Y_train_new)\n",
    "print(Y_train_new.shape)\n",
    "print(Y_train_new.shape[0])\n",
    "for i in range(0,Y_train_new.shape[0]):\n",
    "    Y_train_new[i][0] = Y_train_new[i][0] * xscale\n",
    "    Y_train_new[i][1] = Y_train_new[i][1] * xscale\n",
    "    Y_train_new[i][2] = Y_train_new[i][2] * yscale\n",
    "    Y_train_new[i][3] = Y_train_new[i][3] * yscale\n",
    "X_train = X_train/255\n",
    "mean = np.mean(X_train,axis=0)\n",
    "std = np.std(X_train,axis=0)\n",
    "print(\"Before \",mean.shape,std.shape)\n",
    "X_train = X_train - mean\n",
    "X_train = X_train / std\n",
    "print(\"After \",X_train.mean(),X_train.std())"
   ]
  },
  {
   "cell_type": "code",
   "execution_count": 3,
   "metadata": {
    "colab": {
     "base_uri": "https://localhost:8080/",
     "height": 141
    },
    "colab_type": "code",
    "id": "57AD_b59543J",
    "outputId": "058ff052-1afe-4772-af9b-de342284ef80"
   },
   "outputs": [
    {
     "name": "stdout",
     "output_type": "stream",
     "text": [
      "WARNING:tensorflow:From /usr/local/lib/python3.6/dist-packages/tensorflow/python/framework/op_def_library.py:263: colocate_with (from tensorflow.python.framework.ops) is deprecated and will be removed in a future version.\n",
      "Instructions for updating:\n",
      "Colocations handled automatically by placer.\n",
      "WARNING:tensorflow:From /usr/local/lib/python3.6/dist-packages/keras/backend/tensorflow_backend.py:3445: calling dropout (from tensorflow.python.ops.nn_ops) with keep_prob is deprecated and will be removed in a future version.\n",
      "Instructions for updating:\n",
      "Please use `rate` instead of `keep_prob`. Rate should be set to `rate = 1 - keep_prob`.\n"
     ]
    }
   ],
   "source": [
    "input_1 = Input(shape = (128,128,1))\n",
    "# Block 1\n",
    "x = layers.Conv2D(64, (3, 3),\n",
    "                  activation='relu',\n",
    "                  padding='same',\n",
    "                  name='block1_conv1')(input_1)\n",
    "x = layers.Conv2D(64, (3, 3),\n",
    "                  activation='relu',\n",
    "                  padding='same',\n",
    "                  name='block1_conv2')(x)\n",
    "x = layers.MaxPooling2D((2, 2), strides=(2, 2), name='block1_pool')(x)\n",
    "\n",
    "# Block 2\n",
    "x = layers.Conv2D(128, (3, 3),\n",
    "                  activation='relu',\n",
    "                  padding='same',\n",
    "                  name='block2_conv1')(x)\n",
    "\n",
    "x = layers.Conv2D(128, (3, 3),\n",
    "                  activation='relu',\n",
    "                  padding='same',\n",
    "                  name='block2_conv2')(x)\n",
    "x = layers.MaxPooling2D((2, 2), strides=(2, 2), name='block2_pool')(x)\n",
    "\n",
    "x = layers.Dropout(0.2)(x)\n",
    "\n",
    "# Block 3\n",
    "x = layers.Conv2D(256, (3, 3),\n",
    "                  activation='relu',\n",
    "                  padding='same',\n",
    "                  name='block3_conv1')(x)\n",
    "\n",
    "x = layers.Conv2D(256, (3, 3),\n",
    "                  activation='relu',\n",
    "                  padding='same',\n",
    "                  name='block3_conv2')(x)\n",
    "# x = layers.Conv2D(256, (3, 3),\n",
    "#                   activation='relu',\n",
    "#                   padding='same',\n",
    "#                   name='block3_conv3')(x)\n",
    "x = layers.MaxPooling2D((2, 2), strides=(2, 2), name='block3_pool')(x)\n",
    "x = layers.Dropout(0.2)(x)\n",
    "\n",
    "# Block 4\n",
    "x = layers.Conv2D(512, (3, 3),\n",
    "                  activation='relu',\n",
    "                  padding='same',\n",
    "                  name='block4_conv1')(x)\n",
    "\n",
    "x = layers.Conv2D(512, (3, 3),\n",
    "                  activation='relu',\n",
    "                  padding='same',\n",
    "                  name='block4_conv2')(x)\n",
    "# x = layers.Conv2D(512, (3, 3),\n",
    "#                   activation='relu',\n",
    "#                   padding='same',\n",
    "#                   name='block4_conv3')(x)\n",
    "x = layers.MaxPooling2D((2, 2), strides=(2, 2), name='block4_pool')(x)\n",
    "x = layers.Dropout(0.2)(x)\n",
    "# Block 5\n",
    "x = layers.Conv2D(512, (3, 3),\n",
    "                  activation='relu',\n",
    "                  padding='same',\n",
    "                  name='block5_conv1')(x)\n",
    "\n",
    "x = layers.Conv2D(512, (3, 3),\n",
    "                  activation='relu',\n",
    "                  padding='same',\n",
    "                  name='block5_conv2')(x)\n",
    "# x = layers.Conv2D(512, (3, 3),\n",
    "#                   activation='relu',\n",
    "#                   padding='same',\n",
    "#                   name='block5_conv3')(x)\n",
    "x = layers.MaxPooling2D((2, 2), strides=(2, 2), name='block5_pool')(x)\n",
    "x = GlobalAveragePooling2D()(x)\n",
    "x = Dense(1024, activation='relu')(x)\n",
    "predictions = Dense(4,kernel_initializer='normal')(x)\n",
    "model = Model(inputs=input_1, outputs=predictions)"
   ]
  },
  {
   "cell_type": "code",
   "execution_count": 4,
   "metadata": {
    "colab": {
     "base_uri": "https://localhost:8080/",
     "height": 903
    },
    "colab_type": "code",
    "id": "DbV6O0Tq543c",
    "outputId": "426ff3cc-ad7f-4214-aa50-5396ffb90269"
   },
   "outputs": [
    {
     "name": "stdout",
     "output_type": "stream",
     "text": [
      "_________________________________________________________________\n",
      "Layer (type)                 Output Shape              Param #   \n",
      "=================================================================\n",
      "input_1 (InputLayer)         (None, 128, 128, 1)       0         \n",
      "_________________________________________________________________\n",
      "block1_conv1 (Conv2D)        (None, 128, 128, 64)      640       \n",
      "_________________________________________________________________\n",
      "block1_conv2 (Conv2D)        (None, 128, 128, 64)      36928     \n",
      "_________________________________________________________________\n",
      "block1_pool (MaxPooling2D)   (None, 64, 64, 64)        0         \n",
      "_________________________________________________________________\n",
      "block2_conv1 (Conv2D)        (None, 64, 64, 128)       73856     \n",
      "_________________________________________________________________\n",
      "block2_conv2 (Conv2D)        (None, 64, 64, 128)       147584    \n",
      "_________________________________________________________________\n",
      "block2_pool (MaxPooling2D)   (None, 32, 32, 128)       0         \n",
      "_________________________________________________________________\n",
      "dropout_1 (Dropout)          (None, 32, 32, 128)       0         \n",
      "_________________________________________________________________\n",
      "block3_conv1 (Conv2D)        (None, 32, 32, 256)       295168    \n",
      "_________________________________________________________________\n",
      "block3_conv2 (Conv2D)        (None, 32, 32, 256)       590080    \n",
      "_________________________________________________________________\n",
      "block3_pool (MaxPooling2D)   (None, 16, 16, 256)       0         \n",
      "_________________________________________________________________\n",
      "dropout_2 (Dropout)          (None, 16, 16, 256)       0         \n",
      "_________________________________________________________________\n",
      "block4_conv1 (Conv2D)        (None, 16, 16, 512)       1180160   \n",
      "_________________________________________________________________\n",
      "block4_conv2 (Conv2D)        (None, 16, 16, 512)       2359808   \n",
      "_________________________________________________________________\n",
      "block4_pool (MaxPooling2D)   (None, 8, 8, 512)         0         \n",
      "_________________________________________________________________\n",
      "dropout_3 (Dropout)          (None, 8, 8, 512)         0         \n",
      "_________________________________________________________________\n",
      "block5_conv1 (Conv2D)        (None, 8, 8, 512)         2359808   \n",
      "_________________________________________________________________\n",
      "block5_conv2 (Conv2D)        (None, 8, 8, 512)         2359808   \n",
      "_________________________________________________________________\n",
      "block5_pool (MaxPooling2D)   (None, 4, 4, 512)         0         \n",
      "_________________________________________________________________\n",
      "global_average_pooling2d_1 ( (None, 512)               0         \n",
      "_________________________________________________________________\n",
      "dense_1 (Dense)              (None, 1024)              525312    \n",
      "_________________________________________________________________\n",
      "dense_2 (Dense)              (None, 4)                 4100      \n",
      "=================================================================\n",
      "Total params: 9,933,252\n",
      "Trainable params: 9,933,252\n",
      "Non-trainable params: 0\n",
      "_________________________________________________________________\n"
     ]
    }
   ],
   "source": [
    "model.summary()\n",
    "rms = optimizers.RMSprop(lr=0.0001, rho=0.9)\n",
    "adm = keras.optimizers.Adam(lr=0.0001, beta_1=0.9, beta_2=0.999, epsilon=1e-8, decay=0.0, amsgrad=False)\n",
    "model.compile(loss='mean_squared_error', optimizer=adm,metrics=['accuracy'])"
   ]
  },
  {
   "cell_type": "code",
   "execution_count": 0,
   "metadata": {
    "colab": {},
    "colab_type": "code",
    "id": "FM7DdfqyuwFX"
   },
   "outputs": [],
   "source": []
  },
  {
   "cell_type": "code",
   "execution_count": 10,
   "metadata": {
    "colab": {
     "base_uri": "https://localhost:8080/",
     "height": 972
    },
    "colab_type": "code",
    "id": "Woeu6iEP5433",
    "outputId": "cd4319ba-fc49-41ef-9f5b-7466e6eac7c1"
   },
   "outputs": [
    {
     "name": "stdout",
     "output_type": "stream",
     "text": [
      "Train on 21600 samples, validate on 2400 samples\n",
      "Epoch 1/20\n",
      "21600/21600 [==============================] - 325s 15ms/step - loss: 52.1697 - acc: 0.9134 - val_loss: 39.2217 - val_acc: 0.9058\n",
      "\n",
      "Epoch 00001: val_loss improved from inf to 39.22174, saving model to Model3_2_weights-improvement-01-0.91.h5\n",
      "Epoch 2/20\n",
      "21600/21600 [==============================] - 324s 15ms/step - loss: 45.2929 - acc: 0.9153 - val_loss: 36.5838 - val_acc: 0.9183\n",
      "\n",
      "Epoch 00002: val_loss improved from 39.22174 to 36.58378, saving model to Model3_2_weights-improvement-02-0.92.h5\n",
      "Epoch 3/20\n",
      "21600/21600 [==============================] - 324s 15ms/step - loss: 44.9806 - acc: 0.9149 - val_loss: 35.2135 - val_acc: 0.9125\n",
      "\n",
      "Epoch 00003: val_loss improved from 36.58378 to 35.21346, saving model to Model3_2_weights-improvement-03-0.91.h5\n",
      "Epoch 4/20\n",
      "21600/21600 [==============================] - 324s 15ms/step - loss: 39.0983 - acc: 0.9158 - val_loss: 36.8394 - val_acc: 0.9150\n",
      "\n",
      "Epoch 00004: val_loss did not improve from 35.21346\n",
      "Epoch 5/20\n",
      "21600/21600 [==============================] - 324s 15ms/step - loss: 50.5895 - acc: 0.9211 - val_loss: 47.3755 - val_acc: 0.9054\n",
      "\n",
      "Epoch 00005: val_loss did not improve from 35.21346\n",
      "Epoch 6/20\n",
      "21600/21600 [==============================] - 324s 15ms/step - loss: 44.8725 - acc: 0.9205 - val_loss: 34.0357 - val_acc: 0.9242\n",
      "\n",
      "Epoch 00006: val_loss improved from 35.21346 to 34.03574, saving model to Model3_2_weights-improvement-06-0.92.h5\n",
      "Epoch 7/20\n",
      "21600/21600 [==============================] - 327s 15ms/step - loss: 42.6299 - acc: 0.9212 - val_loss: 35.5458 - val_acc: 0.9104\n",
      "\n",
      "Epoch 00007: val_loss did not improve from 34.03574\n",
      "Epoch 8/20\n",
      "21600/21600 [==============================] - 326s 15ms/step - loss: 33.8412 - acc: 0.9205 - val_loss: 32.6045 - val_acc: 0.9283\n",
      "\n",
      "Epoch 00008: val_loss improved from 34.03574 to 32.60449, saving model to Model3_2_weights-improvement-08-0.93.h5\n",
      "Epoch 9/20\n",
      "21600/21600 [==============================] - 326s 15ms/step - loss: 33.1500 - acc: 0.9207 - val_loss: 31.4768 - val_acc: 0.9229\n",
      "\n",
      "Epoch 00009: val_loss improved from 32.60449 to 31.47676, saving model to Model3_2_weights-improvement-09-0.92.h5\n",
      "Epoch 10/20\n",
      "21600/21600 [==============================] - 326s 15ms/step - loss: 43.6491 - acc: 0.9233 - val_loss: 30.9471 - val_acc: 0.9267\n",
      "\n",
      "Epoch 00010: val_loss improved from 31.47676 to 30.94711, saving model to Model3_2_weights-improvement-10-0.93.h5\n",
      "Epoch 11/20\n",
      "21600/21600 [==============================] - 326s 15ms/step - loss: 39.5713 - acc: 0.9262 - val_loss: 32.6141 - val_acc: 0.9263\n",
      "\n",
      "Epoch 00011: val_loss did not improve from 30.94711\n",
      "Epoch 12/20\n",
      "21600/21600 [==============================] - 326s 15ms/step - loss: 35.9415 - acc: 0.9281 - val_loss: 33.6553 - val_acc: 0.9271\n",
      "\n",
      "Epoch 00012: val_loss did not improve from 30.94711\n",
      "Epoch 13/20\n",
      "21600/21600 [==============================] - 327s 15ms/step - loss: 30.7780 - acc: 0.9240 - val_loss: 32.2806 - val_acc: 0.9267\n",
      "Restoring model weights from the end of the best epoch\n",
      "\n",
      "Epoch 00013: val_loss did not improve from 30.94711\n",
      "Epoch 00013: early stopping\n"
     ]
    }
   ],
   "source": [
    "filepath=\"Model3_2_weights-improvement-{epoch:02d}-{val_acc:.2f}.h5\"\n",
    "checkpoint = ModelCheckpoint(filepath, monitor='val_loss', verbose=1, save_best_only=True, mode='min',save_weights_only=True,period=1)\n",
    "earlystop = EarlyStopping(monitor='val_acc', min_delta=0.0001, patience=5,verbose=1, mode='auto',restore_best_weights=True)\n",
    "callbacks_list = [earlystop,checkpoint]\n",
    "history=model.fit(X_train,Y_train_new, validation_split = 0.1 , batch_size = 8, callbacks = callbacks_list,epochs =20,verbose = 1)"
   ]
  },
  {
   "cell_type": "code",
   "execution_count": 2,
   "metadata": {
    "colab": {
     "base_uri": "https://localhost:8080/",
     "height": 236
    },
    "colab_type": "code",
    "id": "AYb6NT49544J",
    "outputId": "63f02d46-f623-47aa-a4bc-2be83f25fa14"
   },
   "outputs": [
    {
     "ename": "NameError",
     "evalue": "ignored",
     "output_type": "error",
     "traceback": [
      "\u001b[0;31m---------------------------------------------------------------------------\u001b[0m",
      "\u001b[0;31mNameError\u001b[0m                                 Traceback (most recent call last)",
      "\u001b[0;32m<ipython-input-2-9a91e1d728fc>\u001b[0m in \u001b[0;36m<module>\u001b[0;34m()\u001b[0m\n\u001b[0;32m----> 1\u001b[0;31m \u001b[0mprint\u001b[0m\u001b[0;34m(\u001b[0m\u001b[0mhistory\u001b[0m\u001b[0;34m.\u001b[0m\u001b[0mhistory\u001b[0m\u001b[0;34m.\u001b[0m\u001b[0mkeys\u001b[0m\u001b[0;34m(\u001b[0m\u001b[0;34m)\u001b[0m\u001b[0;34m)\u001b[0m\u001b[0;34m\u001b[0m\u001b[0;34m\u001b[0m\u001b[0m\n\u001b[0m\u001b[1;32m      2\u001b[0m \u001b[0;31m# summarize history for accuracy\u001b[0m\u001b[0;34m\u001b[0m\u001b[0;34m\u001b[0m\u001b[0;34m\u001b[0m\u001b[0m\n\u001b[1;32m      3\u001b[0m \u001b[0mplt\u001b[0m\u001b[0;34m.\u001b[0m\u001b[0mplot\u001b[0m\u001b[0;34m(\u001b[0m\u001b[0mhistory\u001b[0m\u001b[0;34m.\u001b[0m\u001b[0mhistory\u001b[0m\u001b[0;34m[\u001b[0m\u001b[0;34m'acc'\u001b[0m\u001b[0;34m]\u001b[0m\u001b[0;34m)\u001b[0m\u001b[0;34m\u001b[0m\u001b[0;34m\u001b[0m\u001b[0m\n\u001b[1;32m      4\u001b[0m \u001b[0mplt\u001b[0m\u001b[0;34m.\u001b[0m\u001b[0mplot\u001b[0m\u001b[0;34m(\u001b[0m\u001b[0mhistory\u001b[0m\u001b[0;34m.\u001b[0m\u001b[0mhistory\u001b[0m\u001b[0;34m[\u001b[0m\u001b[0;34m'val_acc'\u001b[0m\u001b[0;34m]\u001b[0m\u001b[0;34m)\u001b[0m\u001b[0;34m\u001b[0m\u001b[0;34m\u001b[0m\u001b[0m\n\u001b[1;32m      5\u001b[0m \u001b[0mplt\u001b[0m\u001b[0;34m.\u001b[0m\u001b[0mtitle\u001b[0m\u001b[0;34m(\u001b[0m\u001b[0;34m'model accuracy'\u001b[0m\u001b[0;34m)\u001b[0m\u001b[0;34m\u001b[0m\u001b[0;34m\u001b[0m\u001b[0m\n",
      "\u001b[0;31mNameError\u001b[0m: name 'history' is not defined"
     ]
    }
   ],
   "source": [
    "# list all data in history\n",
    "print(history.history.keys())\n",
    "# summarize history for accuracy\n",
    "plt.plot(history.history['acc'])\n",
    "plt.plot(history.history['val_acc'])\n",
    "plt.title('model accuracy')\n",
    "plt.ylabel('accuracy')\n",
    "plt.xlabel('epoch')\n",
    "plt.legend(['train', 'test'], loc='upper left')\n",
    "plt.show()\n",
    "# summarize history for loss\n",
    "plt.plot(history.history['loss'])\n",
    "plt.plot(history.history['val_loss'])\n",
    "plt.title('model loss')\n",
    "plt.ylabel('loss')\n",
    "plt.xlabel('epoch')\n",
    "plt.legend(['train', 'test'], loc='upper left')\n",
    "plt.show()"
   ]
  },
  {
   "cell_type": "code",
   "execution_count": 8,
   "metadata": {
    "colab": {
     "base_uri": "https://localhost:8080/",
     "height": 350
    },
    "colab_type": "code",
    "id": "rgYOo_1kC2dv",
    "outputId": "cd5a2c8c-cf52-4527-e1f8-e3e5e356381f"
   },
   "outputs": [
    {
     "name": "stdout",
     "output_type": "stream",
     "text": [
      "Collecting pydrive\n",
      "\u001b[?25l  Downloading https://files.pythonhosted.org/packages/52/e0/0e64788e5dd58ce2d6934549676243dc69d982f198524be9b99e9c2a4fd5/PyDrive-1.3.1.tar.gz (987kB)\n",
      "\r",
      "\u001b[K    1% |▎                               | 10kB 16.3MB/s eta 0:00:01\r",
      "\u001b[K    2% |▋                               | 20kB 4.1MB/s eta 0:00:01\r",
      "\u001b[K    3% |█                               | 30kB 5.9MB/s eta 0:00:01\r",
      "\u001b[K    4% |█▎                              | 40kB 4.1MB/s eta 0:00:01\r",
      "\u001b[K    5% |█▋                              | 51kB 5.0MB/s eta 0:00:01\r",
      "\u001b[K    6% |██                              | 61kB 5.9MB/s eta 0:00:01\r",
      "\u001b[K    7% |██▎                             | 71kB 6.8MB/s eta 0:00:01\r",
      "\u001b[K    8% |██▋                             | 81kB 7.6MB/s eta 0:00:01\r",
      "\u001b[K    9% |███                             | 92kB 8.4MB/s eta 0:00:01\r",
      "\u001b[K    10% |███▎                            | 102kB 6.8MB/s eta 0:00:01\r",
      "\u001b[K    11% |███▋                            | 112kB 7.0MB/s eta 0:00:01\r",
      "\u001b[K    12% |████                            | 122kB 9.7MB/s eta 0:00:01\r",
      "\u001b[K    13% |████▎                           | 133kB 9.6MB/s eta 0:00:01\r",
      "\u001b[K    14% |████▋                           | 143kB 16.9MB/s eta 0:00:01\r",
      "\u001b[K    15% |█████                           | 153kB 17.1MB/s eta 0:00:01\r",
      "\u001b[K    16% |█████▎                          | 163kB 17.1MB/s eta 0:00:01\r",
      "\u001b[K    17% |█████▋                          | 174kB 16.6MB/s eta 0:00:01\r",
      "\u001b[K    18% |██████                          | 184kB 16.7MB/s eta 0:00:01\r",
      "\u001b[K    19% |██████▎                         | 194kB 16.8MB/s eta 0:00:01\r",
      "\u001b[K    20% |██████▋                         | 204kB 44.7MB/s eta 0:00:01\r",
      "\u001b[K    21% |███████                         | 215kB 21.3MB/s eta 0:00:01\r",
      "\u001b[K    22% |███████▎                        | 225kB 21.5MB/s eta 0:00:01\r",
      "\u001b[K    23% |███████▋                        | 235kB 22.0MB/s eta 0:00:01\r",
      "\u001b[K    24% |████████                        | 245kB 21.6MB/s eta 0:00:01\r",
      "\u001b[K    25% |████████▎                       | 256kB 21.5MB/s eta 0:00:01\r",
      "\u001b[K    26% |████████▋                       | 266kB 20.3MB/s eta 0:00:01\r",
      "\u001b[K    27% |█████████                       | 276kB 21.3MB/s eta 0:00:01\r",
      "\u001b[K    29% |█████████▎                      | 286kB 21.5MB/s eta 0:00:01\r",
      "\u001b[K    30% |█████████▋                      | 296kB 21.3MB/s eta 0:00:01\r",
      "\u001b[K    31% |██████████                      | 307kB 21.9MB/s eta 0:00:01\r",
      "\u001b[K    32% |██████████▎                     | 317kB 50.3MB/s eta 0:00:01\r",
      "\u001b[K    33% |██████████▋                     | 327kB 50.2MB/s eta 0:00:01\r",
      "\u001b[K    34% |███████████                     | 337kB 52.4MB/s eta 0:00:01\r",
      "\u001b[K    35% |███████████▎                    | 348kB 48.6MB/s eta 0:00:01\r",
      "\u001b[K    36% |███████████▋                    | 358kB 49.4MB/s eta 0:00:01\r",
      "\u001b[K    37% |████████████                    | 368kB 57.1MB/s eta 0:00:01\r",
      "\u001b[K    38% |████████████▎                   | 378kB 56.9MB/s eta 0:00:01\r",
      "\u001b[K    39% |████████████▋                   | 389kB 57.2MB/s eta 0:00:01\r",
      "\u001b[K    40% |█████████████                   | 399kB 55.4MB/s eta 0:00:01\r",
      "\u001b[K    41% |█████████████▎                  | 409kB 54.3MB/s eta 0:00:01\r",
      "\u001b[K    42% |█████████████▋                  | 419kB 54.7MB/s eta 0:00:01\r",
      "\u001b[K    43% |██████████████                  | 430kB 54.9MB/s eta 0:00:01\r",
      "\u001b[K    44% |██████████████▎                 | 440kB 54.7MB/s eta 0:00:01\r",
      "\u001b[K    45% |██████████████▋                 | 450kB 42.4MB/s eta 0:00:01\r",
      "\u001b[K    46% |███████████████                 | 460kB 39.7MB/s eta 0:00:01\r",
      "\u001b[K    47% |███████████████▎                | 471kB 39.3MB/s eta 0:00:01\r",
      "\u001b[K    48% |███████████████▋                | 481kB 38.4MB/s eta 0:00:01\r",
      "\u001b[K    49% |████████████████                | 491kB 37.7MB/s eta 0:00:01\r",
      "\u001b[K    50% |████████████████▎               | 501kB 39.3MB/s eta 0:00:01\r",
      "\u001b[K    51% |████████████████▋               | 512kB 37.8MB/s eta 0:00:01\r",
      "\u001b[K    52% |█████████████████               | 522kB 37.6MB/s eta 0:00:01\r",
      "\u001b[K    53% |█████████████████▎              | 532kB 36.9MB/s eta 0:00:01\r",
      "\u001b[K    54% |█████████████████▋              | 542kB 36.7MB/s eta 0:00:01\r",
      "\u001b[K    55% |██████████████████              | 552kB 51.6MB/s eta 0:00:01\r",
      "\u001b[K    57% |██████████████████▎             | 563kB 56.1MB/s eta 0:00:01\r",
      "\u001b[K    58% |██████████████████▋             | 573kB 57.1MB/s eta 0:00:01\r",
      "\u001b[K    59% |███████████████████             | 583kB 59.2MB/s eta 0:00:01\r",
      "\u001b[K    60% |███████████████████▎            | 593kB 59.8MB/s eta 0:00:01\r",
      "\u001b[K    61% |███████████████████▋            | 604kB 60.2MB/s eta 0:00:01\r",
      "\u001b[K    62% |████████████████████            | 614kB 65.7MB/s eta 0:00:01\r",
      "\u001b[K    63% |████████████████████▎           | 624kB 29.7MB/s eta 0:00:01\r",
      "\u001b[K    64% |████████████████████▋           | 634kB 29.4MB/s eta 0:00:01\r",
      "\u001b[K    65% |█████████████████████           | 645kB 29.2MB/s eta 0:00:01\r",
      "\u001b[K    66% |█████████████████████▎          | 655kB 27.9MB/s eta 0:00:01\r",
      "\u001b[K    67% |█████████████████████▋          | 665kB 24.4MB/s eta 0:00:01\r",
      "\u001b[K    68% |██████████████████████          | 675kB 24.0MB/s eta 0:00:01\r",
      "\u001b[K    69% |██████████████████████▎         | 686kB 24.0MB/s eta 0:00:01\r",
      "\u001b[K    70% |██████████████████████▋         | 696kB 24.2MB/s eta 0:00:01\r",
      "\u001b[K    71% |███████████████████████         | 706kB 24.1MB/s eta 0:00:01\r",
      "\u001b[K    72% |███████████████████████▎        | 716kB 24.1MB/s eta 0:00:01\r",
      "\u001b[K    73% |███████████████████████▋        | 727kB 43.7MB/s eta 0:00:01\r",
      "\u001b[K    74% |████████████████████████        | 737kB 44.9MB/s eta 0:00:01\r",
      "\u001b[K    75% |████████████████████████▎       | 747kB 45.2MB/s eta 0:00:01\r",
      "\u001b[K    76% |████████████████████████▋       | 757kB 48.3MB/s eta 0:00:01\r",
      "\u001b[K    77% |████████████████████████▉       | 768kB 64.8MB/s eta 0:00:01\r",
      "\u001b[K    78% |█████████████████████████▏      | 778kB 67.7MB/s eta 0:00:01\r",
      "\u001b[K    79% |█████████████████████████▌      | 788kB 67.2MB/s eta 0:00:01\r",
      "\u001b[K    80% |█████████████████████████▉      | 798kB 67.6MB/s eta 0:00:01\r",
      "\u001b[K    81% |██████████████████████████▏     | 808kB 66.9MB/s eta 0:00:01\r",
      "\u001b[K    82% |██████████████████████████▌     | 819kB 65.4MB/s eta 0:00:01\r",
      "\u001b[K    83% |██████████████████████████▉     | 829kB 65.8MB/s eta 0:00:01\r",
      "\u001b[K    85% |███████████████████████████▏    | 839kB 66.7MB/s eta 0:00:01\r",
      "\u001b[K    86% |███████████████████████████▌    | 849kB 67.7MB/s eta 0:00:01\r",
      "\u001b[K    87% |███████████████████████████▉    | 860kB 60.6MB/s eta 0:00:01\r",
      "\u001b[K    88% |████████████████████████████▏   | 870kB 59.1MB/s eta 0:00:01\r",
      "\u001b[K    89% |████████████████████████████▌   | 880kB 59.6MB/s eta 0:00:01\r",
      "\u001b[K    90% |████████████████████████████▉   | 890kB 60.1MB/s eta 0:00:01\r",
      "\u001b[K    91% |█████████████████████████████▏  | 901kB 59.6MB/s eta 0:00:01\r",
      "\u001b[K    92% |█████████████████████████████▌  | 911kB 60.7MB/s eta 0:00:01\r",
      "\u001b[K    93% |█████████████████████████████▉  | 921kB 61.9MB/s eta 0:00:01\r",
      "\u001b[K    94% |██████████████████████████████▏ | 931kB 57.1MB/s eta 0:00:01\r",
      "\u001b[K    95% |██████████████████████████████▌ | 942kB 56.5MB/s eta 0:00:01\r",
      "\u001b[K    96% |██████████████████████████████▉ | 952kB 56.3MB/s eta 0:00:01\r",
      "\u001b[K    97% |███████████████████████████████▏| 962kB 62.8MB/s eta 0:00:01\r",
      "\u001b[K    98% |███████████████████████████████▌| 972kB 64.2MB/s eta 0:00:01\r",
      "\u001b[K    99% |███████████████████████████████▉| 983kB 63.7MB/s eta 0:00:01\r",
      "\u001b[K    100% |████████████████████████████████| 993kB 22.1MB/s \n",
      "\u001b[?25hRequirement already satisfied: google-api-python-client>=1.2 in /usr/local/lib/python3.6/dist-packages (from pydrive) (1.6.7)\n",
      "Requirement already satisfied: oauth2client>=4.0.0 in /usr/local/lib/python3.6/dist-packages (from pydrive) (4.1.3)\n",
      "Requirement already satisfied: PyYAML>=3.0 in /usr/local/lib/python3.6/dist-packages (from pydrive) (3.13)\n",
      "Requirement already satisfied: uritemplate<4dev,>=3.0.0 in /usr/local/lib/python3.6/dist-packages (from google-api-python-client>=1.2->pydrive) (3.0.0)\n",
      "Requirement already satisfied: six<2dev,>=1.6.1 in /usr/local/lib/python3.6/dist-packages (from google-api-python-client>=1.2->pydrive) (1.11.0)\n",
      "Requirement already satisfied: httplib2<1dev,>=0.9.2 in /usr/local/lib/python3.6/dist-packages (from google-api-python-client>=1.2->pydrive) (0.11.3)\n",
      "Requirement already satisfied: rsa>=3.1.4 in /usr/local/lib/python3.6/dist-packages (from oauth2client>=4.0.0->pydrive) (4.0)\n",
      "Requirement already satisfied: pyasn1>=0.1.7 in /usr/local/lib/python3.6/dist-packages (from oauth2client>=4.0.0->pydrive) (0.4.5)\n",
      "Requirement already satisfied: pyasn1-modules>=0.0.5 in /usr/local/lib/python3.6/dist-packages (from oauth2client>=4.0.0->pydrive) (0.2.4)\n",
      "Building wheels for collected packages: pydrive\n",
      "  Building wheel for pydrive (setup.py) ... \u001b[?25ldone\n",
      "\u001b[?25h  Stored in directory: /root/.cache/pip/wheels/fa/d2/9a/d3b6b506c2da98289e5d417215ce34b696db856643bad779f4\n",
      "Successfully built pydrive\n",
      "Installing collected packages: pydrive\n",
      "Successfully installed pydrive-1.3.1\n"
     ]
    }
   ],
   "source": [
    "!pip install pydrive\n",
    "from pydrive.auth import GoogleAuth\n",
    "from pydrive.drive import GoogleDrive\n",
    "from google.colab import auth\n",
    "from oauth2client.client import GoogleCredentials\n",
    "\n",
    "auth.authenticate_user()\n",
    "gauth = GoogleAuth()\n",
    "gauth.credentials = GoogleCredentials.get_application_default()\n",
    "drive = GoogleDrive(gauth)\n",
    "\n",
    "#uploaded = drive.CreateFile({'title': 'Model10_weights-improvement-05-0.85.h5'})\n",
    "#uploaded.SetContentFile('weights-improvement-05-0.85.h5')\n",
    "#uploaded.Upload()\n",
    "#print('Uploaded file with ID {}'.format(uploaded.get('id')))"
   ]
  },
  {
   "cell_type": "code",
   "execution_count": 9,
   "metadata": {
    "colab": {
     "base_uri": "https://localhost:8080/",
     "height": 69
    },
    "colab_type": "code",
    "id": "jJpQ2EE4EMkB",
    "outputId": "9a458eb7-3fb2-4384-a933-12097bdb5a3e"
   },
   "outputs": [
    {
     "name": "stdout",
     "output_type": "stream",
     "text": [
      "Uploaded file with ID 1GiNmWyvLK9Ez02Vwkg_Ugcy4ej4GohfZ\n",
      "Uploaded file with ID 1Y3mGA9qqU74m0GPgRTqnoES1i9YK3OVO\n",
      "Uploaded file with ID 1G8n1JO7OwKgSXH8aMyEyDRtxvBxSfxUa\n"
     ]
    }
   ],
   "source": [
    "model.save_weights('Best_Model3.h5')\n",
    "uploaded = drive.CreateFile({'title': '3_Model3_best_weights.h5'})\n",
    "uploaded.SetContentFile('Best_Model3.h5')\n",
    "uploaded.Upload()\n",
    "print('Uploaded file with ID {}'.format(uploaded.get('id')))\n",
    "\n",
    "np.save('mean',mean)\n",
    "np.save('std',std)\n",
    "\n",
    "uploaded = drive.CreateFile({'title': 'L3_Model3_mean.npy'})\n",
    "uploaded.SetContentFile('mean.npy')\n",
    "uploaded.Upload()\n",
    "print('Uploaded file with ID {}'.format(uploaded.get('id')))\n",
    "\n",
    "uploaded = drive.CreateFile({'title': 'L3_Model3_std.npy'})\n",
    "uploaded.SetContentFile('std.npy')\n",
    "uploaded.Upload()\n",
    "print('Uploaded file with ID {}'.format(uploaded.get('id')))"
   ]
  },
  {
   "cell_type": "code",
   "execution_count": 0,
   "metadata": {
    "colab": {
     "base_uri": "https://localhost:8080/",
     "height": 34
    },
    "colab_type": "code",
    "id": "1qNDMFJw544c",
    "outputId": "a49d2f2a-bc88-4865-8b35-a7cc035b050f"
   },
   "outputs": [
    {
     "name": "stdout",
     "output_type": "stream",
     "text": [
      "(24045, 96, 96, 1)\n"
     ]
    }
   ],
   "source": [
    "X_test = np.load('/content/drive/My Drive/Level3/Test_Processed_96.npy')\n",
    "X_test = X_test/255\n",
    "X_test = X_test.reshape(X_test.shape[0],X_test.shape[1],X_test.shape[2],1)\n",
    "X_test = X_test - mean\n",
    "X_test = X_test / std\n",
    "print(X_test.shape)\n",
    "#X_test = X_test.reshape(X_test.shape[0],X_test.shape[1],X_test.shape[2],1)\n",
    "#model.save_weights('model9_weights.h5')"
   ]
  },
  {
   "cell_type": "code",
   "execution_count": 0,
   "metadata": {
    "colab": {},
    "colab_type": "code",
    "id": "tD38Gt1f544-"
   },
   "outputs": [],
   "source": [
    "Y_predicted = model.predict(X_test)"
   ]
  },
  {
   "cell_type": "code",
   "execution_count": 0,
   "metadata": {
    "colab": {
     "base_uri": "https://localhost:8080/",
     "height": 34
    },
    "colab_type": "code",
    "id": "pgmDG6iV545k",
    "outputId": "c230bed9-73dc-468b-ae37-6ed28ecd901a"
   },
   "outputs": [
    {
     "name": "stdout",
     "output_type": "stream",
     "text": [
      "(24045, 4)\n"
     ]
    }
   ],
   "source": [
    "print(Y_predicted.shape)\n",
    "for i in range(0,Y_predicted.shape[0]):\n",
    "    Y_predicted[i][0] = Y_predicted[i][0] / xscale\n",
    "    Y_predicted[i][1] = Y_predicted[i][1] / xscale\n",
    "    Y_predicted[i][2] = Y_predicted[i][2] / yscale\n",
    "    Y_predicted[i][3] = Y_predicted[i][3] / yscale"
   ]
  },
  {
   "cell_type": "code",
   "execution_count": 0,
   "metadata": {
    "colab": {
     "base_uri": "https://localhost:8080/",
     "height": 434
    },
    "colab_type": "code",
    "id": "KbuQI1So5455",
    "outputId": "17a0da9b-bb0d-48c8-b478-a2d9de3be9a1"
   },
   "outputs": [
    {
     "name": "stdout",
     "output_type": "stream",
     "text": [
      "(24045, 1)\n",
      "(24045, 1)\n",
      "[['JPEG_20161129_130901_1000335000914.png']\n",
      " ['1472630011346P_20160227_190707_1_1_1.png']\n",
      " ['JPEG_20160421_143025_1000982307816.png']\n",
      " ...\n",
      " ['JPEG_20160630_112441_1000412495277.png']\n",
      " ['JPEG_20161126_142253_1000949614684.png']\n",
      " ['1480334022239_R2A3610.png']]\n",
      "(24045, 5)\n",
      "[['JPEG_20161129_130901_1000335000914.png' '86.640816' '627.3' '94.83659'\n",
      "  '365.44696']\n",
      " ['1472630011346P_20160227_190707_1_1_1.png' '102.34547' '493.1899'\n",
      "  '-1.1516802' '486.73462']\n",
      " ['JPEG_20160421_143025_1000982307816.png' '227.30952' '424.23227'\n",
      "  '134.9509' '376.32544']\n",
      " ...\n",
      " ['JPEG_20160630_112441_1000412495277.png' '93.02422' '438.9393'\n",
      "  '108.73784' '412.3256']\n",
      " ['JPEG_20161126_142253_1000949614684.png' '35.63971' '573.1387'\n",
      "  '154.99823' '343.6256']\n",
      " ['1480334022239_R2A3610.png' '142.6106' '466.67435' '53.35694'\n",
      "  '327.47168']]\n"
     ]
    },
    {
     "data": {
      "text/plain": [
       "numpy.str_"
      ]
     },
     "execution_count": 28,
     "metadata": {
      "tags": []
     },
     "output_type": "execute_result"
    }
   ],
   "source": [
    "X_label = np.load('/content/drive/My Drive/Level3/X_test.npy')\n",
    "X_label = X_label.reshape(X_label.shape[0],1)\n",
    "print(X_label.shape)\n",
    "for i in range(0,X_label.shape[0]):\n",
    "  X_label[i] = X_label[i][0].split('/')[2]\n",
    "\n",
    "print(X_label.shape)\n",
    "print(X_label)\n",
    "DF = np.concatenate((X_label, Y_predicted), axis=1)\n",
    "print(DF.shape)\n",
    "print(DF)\n",
    "type(DF[0][2])"
   ]
  },
  {
   "cell_type": "code",
   "execution_count": 0,
   "metadata": {
    "colab": {},
    "colab_type": "code",
    "id": "wVM99ip_5462"
   },
   "outputs": [],
   "source": [
    "import pandas as pd\n",
    "out = pd.DataFrame({'image_name':DF[:,0],'x1':DF[:,1],'x2':DF[:,2],'y1':DF[:,3],'y2':DF[:,4]})"
   ]
  },
  {
   "cell_type": "code",
   "execution_count": 0,
   "metadata": {
    "colab": {
     "base_uri": "https://localhost:8080/",
     "height": 34
    },
    "colab_type": "code",
    "id": "s6L18Jo1547F",
    "outputId": "313dc0cb-6c25-44f5-fd8c-45a835718340"
   },
   "outputs": [
    {
     "name": "stdout",
     "output_type": "stream",
     "text": [
      "(24045, 5)\n"
     ]
    }
   ],
   "source": [
    "print(out.shape)\n",
    "out.to_csv('model2.csv')"
   ]
  },
  {
   "cell_type": "code",
   "execution_count": 0,
   "metadata": {
    "colab": {
     "base_uri": "https://localhost:8080/",
     "height": 72
    },
    "colab_type": "code",
    "id": "Nd2W0HXSF2TW",
    "outputId": "3e4e7847-b81a-4d38-f528-50452fe7507a"
   },
   "outputs": [
    {
     "name": "stdout",
     "output_type": "stream",
     "text": [
      "Uploaded file with ID 1XlU59CIb6NnKn33tNUzScAWmt9eeGnO_\n"
     ]
    },
    {
     "data": {
      "text/plain": [
       "\"uploaded = drive.CreateFile({'title': 'new3_weights.h5'})\\nuploaded.SetContentFile('custom2_3_weights.h5')\\nuploaded.Upload()\\nprint('Uploaded file with ID {}'.format(uploaded.get('id')))\""
      ]
     },
     "execution_count": 31,
     "metadata": {
      "tags": []
     },
     "output_type": "execute_result"
    }
   ],
   "source": [
    "'''from pydrive.auth import GoogleAuth\n",
    "from pydrive.drive import GoogleDrive\n",
    "from google.colab import auth\n",
    "from oauth2client.client import GoogleCredentials\n",
    "\n",
    "auth.authenticate_user()\n",
    "gauth = GoogleAuth()\n",
    "gauth.credentials = GoogleCredentials.get_application_default()\n",
    "drive = GoogleDrive(gauth)'''\n",
    "\n",
    "uploaded = drive.CreateFile({'title': 'Level3_model2.csv'})\n",
    "uploaded.SetContentFile('model2.csv')\n",
    "uploaded.Upload()\n",
    "print('Uploaded file with ID {}'.format(uploaded.get('id')))\n",
    "\n",
    "'''uploaded = drive.CreateFile({'title': 'new3_weights.h5'})\n",
    "uploaded.SetContentFile('custom2_3_weights.h5')\n",
    "uploaded.Upload()\n",
    "print('Uploaded file with ID {}'.format(uploaded.get('id')))'''"
   ]
  },
  {
   "cell_type": "code",
   "execution_count": 1,
   "metadata": {
    "colab": {
     "base_uri": "https://localhost:8080/",
     "height": 34
    },
    "colab_type": "code",
    "id": "krItSto5Fy3L",
    "outputId": "f0f3fbb4-310d-40af-a9db-f7eb9a90587a"
   },
   "outputs": [
    {
     "name": "stdout",
     "output_type": "stream",
     "text": [
      "sample_data\n"
     ]
    }
   ],
   "source": [
    "!ls"
   ]
  },
  {
   "cell_type": "code",
   "execution_count": 0,
   "metadata": {
    "colab": {},
    "colab_type": "code",
    "id": "lB3Dt_ZtQt_8"
   },
   "outputs": [],
   "source": []
  }
 ],
 "metadata": {
  "accelerator": "GPU",
  "colab": {
   "collapsed_sections": [],
   "name": "Model10.ipynb",
   "provenance": [],
   "version": "0.3.2"
  },
  "kernelspec": {
   "display_name": "Python 3",
   "language": "python",
   "name": "python3"
  },
  "language_info": {
   "codemirror_mode": {
    "name": "ipython",
    "version": 3
   },
   "file_extension": ".py",
   "mimetype": "text/x-python",
   "name": "python",
   "nbconvert_exporter": "python",
   "pygments_lexer": "ipython3",
   "version": "3.6.7"
  }
 },
 "nbformat": 4,
 "nbformat_minor": 1
}
